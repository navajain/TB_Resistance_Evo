{
  "nbformat": 4,
  "nbformat_minor": 0,
  "metadata": {
    "colab": {
      "provenance": []
    },
    "kernelspec": {
      "name": "python3",
      "display_name": "Python 3"
    },
    "language_info": {
      "name": "python"
    }
  },
  "cells": [
    {
      "cell_type": "code",
      "execution_count": 1,
      "metadata": {
        "id": "Fz_WhTBF_fiY"
      },
      "outputs": [],
      "source": [
        "import pickle\n",
        "import numpy as np\n",
        "from sklearn.linear_model import LogisticRegression\n",
        "from sklearn.model_selection import train_test_split\n",
        "from sklearn.metrics import accuracy_score\n",
        "import torch\n"
      ]
    },
    {
      "cell_type": "code",
      "source": [
        "from google.colab import drive\n",
        "drive.mount('/content/drive')"
      ],
      "metadata": {
        "colab": {
          "base_uri": "https://localhost:8080/"
        },
        "id": "pQcsBzgXuKo-",
        "outputId": "987d241f-2a84-4f66-ebda-98bf1c90b75a"
      },
      "execution_count": 2,
      "outputs": [
        {
          "output_type": "stream",
          "name": "stdout",
          "text": [
            "Mounted at /content/drive\n"
          ]
        }
      ]
    },
    {
      "cell_type": "code",
      "source": [
        "#load in the labels\n",
        "import pandas as pd\n",
        "labels = pd.read_csv('/content/drive/MyDrive/EVO/rif_embeddings_v1/12259_rif_labels.csv')"
      ],
      "metadata": {
        "id": "G5EFML0Yulp6"
      },
      "execution_count": 3,
      "outputs": []
    },
    {
      "cell_type": "code",
      "source": [
        "labels"
      ],
      "metadata": {
        "colab": {
          "base_uri": "https://localhost:8080/",
          "height": 424
        },
        "id": "xX3QiBdf1f6q",
        "outputId": "13011f14-59a3-46e2-a696-cacaa5b09587"
      },
      "execution_count": 4,
      "outputs": [
        {
          "output_type": "execute_result",
          "data": {
            "text/plain": [
              "       Unnamed: 0                                      UNIQUEID  \\\n",
              "0               0        site.02.subj.0001.lab.2014222001.iso.1   \n",
              "1               1        site.02.subj.0002.lab.2014222005.iso.1   \n",
              "2               2        site.02.subj.0004.lab.2014222010.iso.1   \n",
              "3               3        site.02.subj.0005.lab.2014222011.iso.1   \n",
              "4               4        site.02.subj.0006.lab.2014222013.iso.1   \n",
              "...           ...                                           ...   \n",
              "12254       12282  site.20.subj.SCH8604398.lab.YA00134621.iso.1   \n",
              "12255       12283  site.20.subj.SCH8604399.lab.YA00134971.iso.1   \n",
              "12256       12284  site.20.subj.SCH8608291.lab.YA00135762.iso.1   \n",
              "12257       12285  site.20.subj.SCH8608295.lab.YA00134623.iso.1   \n",
              "12258       12286  site.20.subj.SCH8612323.lab.YA00134624.iso.1   \n",
              "\n",
              "      RIF_BINARY_PHENOTYPE  \n",
              "0                        S  \n",
              "1                        S  \n",
              "2                        S  \n",
              "3                        S  \n",
              "4                        S  \n",
              "...                    ...  \n",
              "12254                    S  \n",
              "12255                    S  \n",
              "12256                    R  \n",
              "12257                    S  \n",
              "12258                    S  \n",
              "\n",
              "[12259 rows x 3 columns]"
            ],
            "text/html": [
              "\n",
              "  <div id=\"df-04bd2058-100e-4c5e-9626-dacc348f9dbd\" class=\"colab-df-container\">\n",
              "    <div>\n",
              "<style scoped>\n",
              "    .dataframe tbody tr th:only-of-type {\n",
              "        vertical-align: middle;\n",
              "    }\n",
              "\n",
              "    .dataframe tbody tr th {\n",
              "        vertical-align: top;\n",
              "    }\n",
              "\n",
              "    .dataframe thead th {\n",
              "        text-align: right;\n",
              "    }\n",
              "</style>\n",
              "<table border=\"1\" class=\"dataframe\">\n",
              "  <thead>\n",
              "    <tr style=\"text-align: right;\">\n",
              "      <th></th>\n",
              "      <th>Unnamed: 0</th>\n",
              "      <th>UNIQUEID</th>\n",
              "      <th>RIF_BINARY_PHENOTYPE</th>\n",
              "    </tr>\n",
              "  </thead>\n",
              "  <tbody>\n",
              "    <tr>\n",
              "      <th>0</th>\n",
              "      <td>0</td>\n",
              "      <td>site.02.subj.0001.lab.2014222001.iso.1</td>\n",
              "      <td>S</td>\n",
              "    </tr>\n",
              "    <tr>\n",
              "      <th>1</th>\n",
              "      <td>1</td>\n",
              "      <td>site.02.subj.0002.lab.2014222005.iso.1</td>\n",
              "      <td>S</td>\n",
              "    </tr>\n",
              "    <tr>\n",
              "      <th>2</th>\n",
              "      <td>2</td>\n",
              "      <td>site.02.subj.0004.lab.2014222010.iso.1</td>\n",
              "      <td>S</td>\n",
              "    </tr>\n",
              "    <tr>\n",
              "      <th>3</th>\n",
              "      <td>3</td>\n",
              "      <td>site.02.subj.0005.lab.2014222011.iso.1</td>\n",
              "      <td>S</td>\n",
              "    </tr>\n",
              "    <tr>\n",
              "      <th>4</th>\n",
              "      <td>4</td>\n",
              "      <td>site.02.subj.0006.lab.2014222013.iso.1</td>\n",
              "      <td>S</td>\n",
              "    </tr>\n",
              "    <tr>\n",
              "      <th>...</th>\n",
              "      <td>...</td>\n",
              "      <td>...</td>\n",
              "      <td>...</td>\n",
              "    </tr>\n",
              "    <tr>\n",
              "      <th>12254</th>\n",
              "      <td>12282</td>\n",
              "      <td>site.20.subj.SCH8604398.lab.YA00134621.iso.1</td>\n",
              "      <td>S</td>\n",
              "    </tr>\n",
              "    <tr>\n",
              "      <th>12255</th>\n",
              "      <td>12283</td>\n",
              "      <td>site.20.subj.SCH8604399.lab.YA00134971.iso.1</td>\n",
              "      <td>S</td>\n",
              "    </tr>\n",
              "    <tr>\n",
              "      <th>12256</th>\n",
              "      <td>12284</td>\n",
              "      <td>site.20.subj.SCH8608291.lab.YA00135762.iso.1</td>\n",
              "      <td>R</td>\n",
              "    </tr>\n",
              "    <tr>\n",
              "      <th>12257</th>\n",
              "      <td>12285</td>\n",
              "      <td>site.20.subj.SCH8608295.lab.YA00134623.iso.1</td>\n",
              "      <td>S</td>\n",
              "    </tr>\n",
              "    <tr>\n",
              "      <th>12258</th>\n",
              "      <td>12286</td>\n",
              "      <td>site.20.subj.SCH8612323.lab.YA00134624.iso.1</td>\n",
              "      <td>S</td>\n",
              "    </tr>\n",
              "  </tbody>\n",
              "</table>\n",
              "<p>12259 rows × 3 columns</p>\n",
              "</div>\n",
              "    <div class=\"colab-df-buttons\">\n",
              "\n",
              "  <div class=\"colab-df-container\">\n",
              "    <button class=\"colab-df-convert\" onclick=\"convertToInteractive('df-04bd2058-100e-4c5e-9626-dacc348f9dbd')\"\n",
              "            title=\"Convert this dataframe to an interactive table.\"\n",
              "            style=\"display:none;\">\n",
              "\n",
              "  <svg xmlns=\"http://www.w3.org/2000/svg\" height=\"24px\" viewBox=\"0 -960 960 960\">\n",
              "    <path d=\"M120-120v-720h720v720H120Zm60-500h600v-160H180v160Zm220 220h160v-160H400v160Zm0 220h160v-160H400v160ZM180-400h160v-160H180v160Zm440 0h160v-160H620v160ZM180-180h160v-160H180v160Zm440 0h160v-160H620v160Z\"/>\n",
              "  </svg>\n",
              "    </button>\n",
              "\n",
              "  <style>\n",
              "    .colab-df-container {\n",
              "      display:flex;\n",
              "      gap: 12px;\n",
              "    }\n",
              "\n",
              "    .colab-df-convert {\n",
              "      background-color: #E8F0FE;\n",
              "      border: none;\n",
              "      border-radius: 50%;\n",
              "      cursor: pointer;\n",
              "      display: none;\n",
              "      fill: #1967D2;\n",
              "      height: 32px;\n",
              "      padding: 0 0 0 0;\n",
              "      width: 32px;\n",
              "    }\n",
              "\n",
              "    .colab-df-convert:hover {\n",
              "      background-color: #E2EBFA;\n",
              "      box-shadow: 0px 1px 2px rgba(60, 64, 67, 0.3), 0px 1px 3px 1px rgba(60, 64, 67, 0.15);\n",
              "      fill: #174EA6;\n",
              "    }\n",
              "\n",
              "    .colab-df-buttons div {\n",
              "      margin-bottom: 4px;\n",
              "    }\n",
              "\n",
              "    [theme=dark] .colab-df-convert {\n",
              "      background-color: #3B4455;\n",
              "      fill: #D2E3FC;\n",
              "    }\n",
              "\n",
              "    [theme=dark] .colab-df-convert:hover {\n",
              "      background-color: #434B5C;\n",
              "      box-shadow: 0px 1px 3px 1px rgba(0, 0, 0, 0.15);\n",
              "      filter: drop-shadow(0px 1px 2px rgba(0, 0, 0, 0.3));\n",
              "      fill: #FFFFFF;\n",
              "    }\n",
              "  </style>\n",
              "\n",
              "    <script>\n",
              "      const buttonEl =\n",
              "        document.querySelector('#df-04bd2058-100e-4c5e-9626-dacc348f9dbd button.colab-df-convert');\n",
              "      buttonEl.style.display =\n",
              "        google.colab.kernel.accessAllowed ? 'block' : 'none';\n",
              "\n",
              "      async function convertToInteractive(key) {\n",
              "        const element = document.querySelector('#df-04bd2058-100e-4c5e-9626-dacc348f9dbd');\n",
              "        const dataTable =\n",
              "          await google.colab.kernel.invokeFunction('convertToInteractive',\n",
              "                                                    [key], {});\n",
              "        if (!dataTable) return;\n",
              "\n",
              "        const docLinkHtml = 'Like what you see? Visit the ' +\n",
              "          '<a target=\"_blank\" href=https://colab.research.google.com/notebooks/data_table.ipynb>data table notebook</a>'\n",
              "          + ' to learn more about interactive tables.';\n",
              "        element.innerHTML = '';\n",
              "        dataTable['output_type'] = 'display_data';\n",
              "        await google.colab.output.renderOutput(dataTable, element);\n",
              "        const docLink = document.createElement('div');\n",
              "        docLink.innerHTML = docLinkHtml;\n",
              "        element.appendChild(docLink);\n",
              "      }\n",
              "    </script>\n",
              "  </div>\n",
              "\n",
              "\n",
              "<div id=\"df-b86b8473-2011-4a61-9f70-af10307e554f\">\n",
              "  <button class=\"colab-df-quickchart\" onclick=\"quickchart('df-b86b8473-2011-4a61-9f70-af10307e554f')\"\n",
              "            title=\"Suggest charts\"\n",
              "            style=\"display:none;\">\n",
              "\n",
              "<svg xmlns=\"http://www.w3.org/2000/svg\" height=\"24px\"viewBox=\"0 0 24 24\"\n",
              "     width=\"24px\">\n",
              "    <g>\n",
              "        <path d=\"M19 3H5c-1.1 0-2 .9-2 2v14c0 1.1.9 2 2 2h14c1.1 0 2-.9 2-2V5c0-1.1-.9-2-2-2zM9 17H7v-7h2v7zm4 0h-2V7h2v10zm4 0h-2v-4h2v4z\"/>\n",
              "    </g>\n",
              "</svg>\n",
              "  </button>\n",
              "\n",
              "<style>\n",
              "  .colab-df-quickchart {\n",
              "      --bg-color: #E8F0FE;\n",
              "      --fill-color: #1967D2;\n",
              "      --hover-bg-color: #E2EBFA;\n",
              "      --hover-fill-color: #174EA6;\n",
              "      --disabled-fill-color: #AAA;\n",
              "      --disabled-bg-color: #DDD;\n",
              "  }\n",
              "\n",
              "  [theme=dark] .colab-df-quickchart {\n",
              "      --bg-color: #3B4455;\n",
              "      --fill-color: #D2E3FC;\n",
              "      --hover-bg-color: #434B5C;\n",
              "      --hover-fill-color: #FFFFFF;\n",
              "      --disabled-bg-color: #3B4455;\n",
              "      --disabled-fill-color: #666;\n",
              "  }\n",
              "\n",
              "  .colab-df-quickchart {\n",
              "    background-color: var(--bg-color);\n",
              "    border: none;\n",
              "    border-radius: 50%;\n",
              "    cursor: pointer;\n",
              "    display: none;\n",
              "    fill: var(--fill-color);\n",
              "    height: 32px;\n",
              "    padding: 0;\n",
              "    width: 32px;\n",
              "  }\n",
              "\n",
              "  .colab-df-quickchart:hover {\n",
              "    background-color: var(--hover-bg-color);\n",
              "    box-shadow: 0 1px 2px rgba(60, 64, 67, 0.3), 0 1px 3px 1px rgba(60, 64, 67, 0.15);\n",
              "    fill: var(--button-hover-fill-color);\n",
              "  }\n",
              "\n",
              "  .colab-df-quickchart-complete:disabled,\n",
              "  .colab-df-quickchart-complete:disabled:hover {\n",
              "    background-color: var(--disabled-bg-color);\n",
              "    fill: var(--disabled-fill-color);\n",
              "    box-shadow: none;\n",
              "  }\n",
              "\n",
              "  .colab-df-spinner {\n",
              "    border: 2px solid var(--fill-color);\n",
              "    border-color: transparent;\n",
              "    border-bottom-color: var(--fill-color);\n",
              "    animation:\n",
              "      spin 1s steps(1) infinite;\n",
              "  }\n",
              "\n",
              "  @keyframes spin {\n",
              "    0% {\n",
              "      border-color: transparent;\n",
              "      border-bottom-color: var(--fill-color);\n",
              "      border-left-color: var(--fill-color);\n",
              "    }\n",
              "    20% {\n",
              "      border-color: transparent;\n",
              "      border-left-color: var(--fill-color);\n",
              "      border-top-color: var(--fill-color);\n",
              "    }\n",
              "    30% {\n",
              "      border-color: transparent;\n",
              "      border-left-color: var(--fill-color);\n",
              "      border-top-color: var(--fill-color);\n",
              "      border-right-color: var(--fill-color);\n",
              "    }\n",
              "    40% {\n",
              "      border-color: transparent;\n",
              "      border-right-color: var(--fill-color);\n",
              "      border-top-color: var(--fill-color);\n",
              "    }\n",
              "    60% {\n",
              "      border-color: transparent;\n",
              "      border-right-color: var(--fill-color);\n",
              "    }\n",
              "    80% {\n",
              "      border-color: transparent;\n",
              "      border-right-color: var(--fill-color);\n",
              "      border-bottom-color: var(--fill-color);\n",
              "    }\n",
              "    90% {\n",
              "      border-color: transparent;\n",
              "      border-bottom-color: var(--fill-color);\n",
              "    }\n",
              "  }\n",
              "</style>\n",
              "\n",
              "  <script>\n",
              "    async function quickchart(key) {\n",
              "      const quickchartButtonEl =\n",
              "        document.querySelector('#' + key + ' button');\n",
              "      quickchartButtonEl.disabled = true;  // To prevent multiple clicks.\n",
              "      quickchartButtonEl.classList.add('colab-df-spinner');\n",
              "      try {\n",
              "        const charts = await google.colab.kernel.invokeFunction(\n",
              "            'suggestCharts', [key], {});\n",
              "      } catch (error) {\n",
              "        console.error('Error during call to suggestCharts:', error);\n",
              "      }\n",
              "      quickchartButtonEl.classList.remove('colab-df-spinner');\n",
              "      quickchartButtonEl.classList.add('colab-df-quickchart-complete');\n",
              "    }\n",
              "    (() => {\n",
              "      let quickchartButtonEl =\n",
              "        document.querySelector('#df-b86b8473-2011-4a61-9f70-af10307e554f button');\n",
              "      quickchartButtonEl.style.display =\n",
              "        google.colab.kernel.accessAllowed ? 'block' : 'none';\n",
              "    })();\n",
              "  </script>\n",
              "</div>\n",
              "    </div>\n",
              "  </div>\n"
            ],
            "application/vnd.google.colaboratory.intrinsic+json": {
              "type": "dataframe",
              "variable_name": "labels",
              "summary": "{\n  \"name\": \"labels\",\n  \"rows\": 12259,\n  \"fields\": [\n    {\n      \"column\": \"Unnamed: 0\",\n      \"properties\": {\n        \"dtype\": \"number\",\n        \"std\": 3550,\n        \"min\": 0,\n        \"max\": 12286,\n        \"num_unique_values\": 12259,\n        \"samples\": [\n          2536,\n          1210,\n          7807\n        ],\n        \"semantic_type\": \"\",\n        \"description\": \"\"\n      }\n    },\n    {\n      \"column\": \"UNIQUEID\",\n      \"properties\": {\n        \"dtype\": \"string\",\n        \"num_unique_values\": 12259,\n        \"samples\": [\n          \"site.04.subj.00400.lab.704638.iso.1\",\n          \"site.03.subj.BOR-17010158.lab.IML-00660.iso.1\",\n          \"site.06.subj.N526.lab.06MIL1532.iso.1\"\n        ],\n        \"semantic_type\": \"\",\n        \"description\": \"\"\n      }\n    },\n    {\n      \"column\": \"RIF_BINARY_PHENOTYPE\",\n      \"properties\": {\n        \"dtype\": \"category\",\n        \"num_unique_values\": 2,\n        \"samples\": [\n          \"R\",\n          \"S\"\n        ],\n        \"semantic_type\": \"\",\n        \"description\": \"\"\n      }\n    }\n  ]\n}"
            }
          },
          "metadata": {},
          "execution_count": 4
        }
      ]
    },
    {
      "cell_type": "code",
      "source": [
        "labels['RIF_BINARY_PHENOTYPE']"
      ],
      "metadata": {
        "colab": {
          "base_uri": "https://localhost:8080/"
        },
        "id": "NQ8WGdSoaAA5",
        "outputId": "2a0b5c4a-a414-4fe4-ec9c-0b9584f1635a"
      },
      "execution_count": 5,
      "outputs": [
        {
          "output_type": "execute_result",
          "data": {
            "text/plain": [
              "0        S\n",
              "1        S\n",
              "2        S\n",
              "3        S\n",
              "4        S\n",
              "        ..\n",
              "12254    S\n",
              "12255    S\n",
              "12256    R\n",
              "12257    S\n",
              "12258    S\n",
              "Name: RIF_BINARY_PHENOTYPE, Length: 12259, dtype: object"
            ]
          },
          "metadata": {},
          "execution_count": 5
        }
      ]
    },
    {
      "cell_type": "code",
      "source": [
        "labels['phenotype'] = labels['RIF_BINARY_PHENOTYPE'].replace({'S': 1, 'R': 0})"
      ],
      "metadata": {
        "id": "DPziztS4xUgA"
      },
      "execution_count": 6,
      "outputs": []
    },
    {
      "cell_type": "code",
      "source": [
        "y = np.array(labels['phenotype'])"
      ],
      "metadata": {
        "id": "s1RouzoY10b0"
      },
      "execution_count": 7,
      "outputs": []
    },
    {
      "cell_type": "code",
      "source": [
        "y.shape"
      ],
      "metadata": {
        "colab": {
          "base_uri": "https://localhost:8080/"
        },
        "id": "h30VTlXedJIj",
        "outputId": "4881871e-2e32-47b9-e523-4bf2a7e5195c"
      },
      "execution_count": 8,
      "outputs": [
        {
          "output_type": "execute_result",
          "data": {
            "text/plain": [
              "(12259,)"
            ]
          },
          "metadata": {},
          "execution_count": 8
        }
      ]
    },
    {
      "cell_type": "code",
      "source": [
        "def load_and_concatenate_npy_files(npy_files):\n",
        "    \"\"\"Load and concatenate all .npy files.\"\"\"\n",
        "    arrays = np.load(npy_files, allow_pickle=True)\n",
        "    if arrays.size == 0 or arrays.size == 1:\n",
        "      return None\n",
        "    concatenated_array = np.squeeze(arrays)\n",
        "    return concatenated_array[-1,:]"
      ],
      "metadata": {
        "id": "9Ux5dF05eE52"
      },
      "execution_count": 9,
      "outputs": []
    },
    {
      "cell_type": "code",
      "source": [
        "'''\n",
        "import os\n",
        "import fnmatch\n",
        "import numpy as np\n",
        "\n",
        "def find_npy_files(base_dir, pattern):\n",
        "    \"\"\"Recursively find all .npy files matching the pattern in base_dir.\"\"\"\n",
        "    npy_files = []\n",
        "    for root, _, files in os.walk(base_dir):\n",
        "        for file in files:\n",
        "            if fnmatch.fnmatch(file, pattern):\n",
        "                npy_files.append(os.path.join(root, file))\n",
        "    return npy_files[0]\n",
        "\n",
        "# Example usage\n",
        "files_list = labels['UNIQUEID'].tolist()\n",
        "\n",
        "'''"
      ],
      "metadata": {
        "id": "xDUZgMgTQxM0"
      },
      "execution_count": 9,
      "outputs": []
    },
    {
      "cell_type": "markdown",
      "source": [],
      "metadata": {
        "id": "oxMc8FAgYejj"
      }
    },
    {
      "cell_type": "code",
      "source": [
        "import csv\n",
        "\n",
        "file_path = '/content/drive/MyDrive/npy_files_final.csv'\n",
        "\n",
        "csv_data = []\n",
        "\n",
        "# Open and read the CSV file\n",
        "with open(file_path, newline='') as csvfile:\n",
        "    csvreader = csv.reader(csvfile)\n",
        "    for row in csvreader:\n",
        "        csv_data.extend(row)"
      ],
      "metadata": {
        "id": "3AY8r0FaoiyZ"
      },
      "execution_count": 10,
      "outputs": []
    },
    {
      "cell_type": "code",
      "source": [
        "len(csv_data)"
      ],
      "metadata": {
        "colab": {
          "base_uri": "https://localhost:8080/"
        },
        "id": "679j9-giwJ2z",
        "outputId": "04e747ae-05fc-4c08-b468-cc81ab26fe30"
      },
      "execution_count": 11,
      "outputs": [
        {
          "output_type": "execute_result",
          "data": {
            "text/plain": [
              "12259"
            ]
          },
          "metadata": {},
          "execution_count": 11
        }
      ]
    },
    {
      "cell_type": "code",
      "source": [
        "import tensorflow as tf\n",
        "'''\n",
        "concatenated_array = []\n",
        "# Load and concatenate arrays\n",
        "for npy_file in csv_data:\n",
        "    concatenated_array.append(load_and_concatenate_npy_files(npy_file))\n",
        "concatenated_array = np.concatenate(concatenated_array)\n",
        "'''"
      ],
      "metadata": {
        "id": "JYFY88UrI7hS",
        "colab": {
          "base_uri": "https://localhost:8080/",
          "height": 36
        },
        "outputId": "ad13a4a5-fdd0-41be-c2e0-2f37223a7e04"
      },
      "execution_count": 12,
      "outputs": [
        {
          "output_type": "execute_result",
          "data": {
            "text/plain": [
              "'\\nconcatenated_array = []\\n# Load and concatenate arrays\\nfor npy_file in csv_data:\\n    concatenated_array.append(load_and_concatenate_npy_files(npy_file))\\nconcatenated_array = np.concatenate(concatenated_array)\\n'"
            ],
            "application/vnd.google.colaboratory.intrinsic+json": {
              "type": "string"
            }
          },
          "metadata": {},
          "execution_count": 12
        }
      ]
    },
    {
      "cell_type": "code",
      "source": [
        "# Function to load arrays and extract the last index\n",
        "def load_and_concatenate_batches(npy_files, batch_size):\n",
        "    concatenated_batches = []\n",
        "    for start_index in range(0, len(npy_files), batch_size):\n",
        "        batch_files = npy_files[start_index:start_index+batch_size]\n",
        "        batch_list = []\n",
        "        for npy_file in batch_files:\n",
        "          array = load_and_concatenate_npy_files(npy_file)\n",
        "          if array is not None:\n",
        "            batch_list.append(np.squeeze(array))\n",
        "          else:\n",
        "            print(npy_file)\n",
        "        batch = np.stack(batch_list, axis=0)\n",
        "        batch = np.squeeze(batch)\n",
        "        np.save(str('/content/drive/MyDrive/rif_embeddings_0526' + str(start_index) + \"_arrayfinal3.npy\"), batch)\n",
        "        concatenated_batches.append(batch)\n",
        "        print(start_index)\n",
        "    concat_batch = np.vstack(concatenated_batches)\n",
        "    #concat_array = concat_batch.numpy()\n",
        "\n",
        "    return concat_batch\n",
        "\n",
        "# Load and concatenate arrays in batches\n",
        "batch_size = 100  # Adjust batch size based on available GPU memory\n",
        "concatenated_array = load_and_concatenate_batches(csv_data, batch_size)\n"
      ],
      "metadata": {
        "id": "HQEyFm53b0Wd"
      },
      "execution_count": null,
      "outputs": []
    },
    {
      "cell_type": "code",
      "source": [
        "#Save the concatenated array to easily load\n",
        "concatenated_array = np.load('/content/drive/MyDrive/rif_concatenatedarray_lastposition.npy')"
      ],
      "metadata": {
        "id": "4FwBW0lU4J3W"
      },
      "execution_count": 13,
      "outputs": []
    },
    {
      "cell_type": "code",
      "source": [
        "concatenated_array.shape"
      ],
      "metadata": {
        "colab": {
          "base_uri": "https://localhost:8080/"
        },
        "id": "0EOBn4SPu5Vj",
        "outputId": "cd1a0fbb-faa9-4adc-9671-97a972ce08a5"
      },
      "execution_count": 14,
      "outputs": [
        {
          "output_type": "execute_result",
          "data": {
            "text/plain": [
              "(12259, 4096)"
            ]
          },
          "metadata": {},
          "execution_count": 14
        }
      ]
    },
    {
      "cell_type": "code",
      "source": [
        "nan_indices = np.isnan(y)\n",
        "y = y[~nan_indices]\n",
        "concatenated_array = concatenated_array[~nan_indices]"
      ],
      "metadata": {
        "id": "0Rqn-29s-tXl"
      },
      "execution_count": 15,
      "outputs": []
    },
    {
      "cell_type": "code",
      "source": [
        "X_train, X_test, y_train, y_test = train_test_split(concatenated_array, y, test_size=0.2, random_state=42)\n",
        "from sklearn.linear_model import LogisticRegression\n",
        "from sklearn.model_selection import train_test_split\n",
        "from sklearn.metrics import accuracy_score\n",
        "import torch"
      ],
      "metadata": {
        "id": "HGowYsmx22U4"
      },
      "execution_count": 16,
      "outputs": []
    },
    {
      "cell_type": "code",
      "source": [
        "# Train a logistic regression model\n",
        "clf = LogisticRegression(multi_class='ovr')\n",
        "\n",
        "# Train the classifier\n",
        "clf.fit(X_train, y_train)\n",
        "\n",
        "y_pred = clf.predict(X_test)\n",
        "\n",
        "# Calculate accuracy\n",
        "accuracy = accuracy_score(y_test, y_pred)\n",
        "print(\"Accuracy:\", accuracy)\n",
        "\n",
        "for i in range(10):\n",
        "    print(f'Predicted: {y_pred[i]}, Actual: {y_test[i]}')"
      ],
      "metadata": {
        "colab": {
          "base_uri": "https://localhost:8080/"
        },
        "id": "cQTVOaPA3zjS",
        "outputId": "3a15e7c5-2268-4910-cfc2-0bed26f0d9c0"
      },
      "execution_count": 17,
      "outputs": [
        {
          "output_type": "stream",
          "name": "stdout",
          "text": [
            "Accuracy: 0.737888198757764\n",
            "Predicted: 1.0, Actual: 1.0\n",
            "Predicted: 0.0, Actual: 1.0\n",
            "Predicted: 1.0, Actual: 1.0\n",
            "Predicted: 1.0, Actual: 1.0\n",
            "Predicted: 1.0, Actual: 1.0\n",
            "Predicted: 1.0, Actual: 1.0\n",
            "Predicted: 1.0, Actual: 1.0\n",
            "Predicted: 0.0, Actual: 1.0\n",
            "Predicted: 1.0, Actual: 1.0\n",
            "Predicted: 0.0, Actual: 0.0\n"
          ]
        },
        {
          "output_type": "stream",
          "name": "stderr",
          "text": [
            "/usr/local/lib/python3.10/dist-packages/sklearn/linear_model/_logistic.py:458: ConvergenceWarning: lbfgs failed to converge (status=1):\n",
            "STOP: TOTAL NO. of ITERATIONS REACHED LIMIT.\n",
            "\n",
            "Increase the number of iterations (max_iter) or scale the data as shown in:\n",
            "    https://scikit-learn.org/stable/modules/preprocessing.html\n",
            "Please also refer to the documentation for alternative solver options:\n",
            "    https://scikit-learn.org/stable/modules/linear_model.html#logistic-regression\n",
            "  n_iter_i = _check_optimize_result(\n"
          ]
        }
      ]
    },
    {
      "cell_type": "code",
      "source": [
        "'''\n",
        "import numpy as np\n",
        "import os\n",
        "\n",
        "def load_and_concatenate_npy_files(directory, axis=0):\n",
        "    # List all .npy files in the specified directory\n",
        "    npy_files = [f for f in os.listdir(directory) if f.endswith('.npy')]\n",
        "\n",
        "    # Load each file and store the arrays in a list\n",
        "    arrays = [np.load(os.path.join(directory, file)) for file in npy_files]\n",
        "    print(npy_files)\n",
        "\n",
        "    # Concatenate the list of arrays along the specified axis\n",
        "    concatenated_array = np.concatenate(arrays, axis=axis)\n",
        "\n",
        "    return concatenated_array\n",
        "\n",
        "# Example usage:\n",
        "directory_path = '/content/drive/MyDrive/BioE212/test/embeds_1.1_small'\n",
        "concatenated_array = load_and_concatenate_npy_files(directory_path)\n",
        "\n",
        "#print(concatenated_array)\n",
        "'''"
      ],
      "metadata": {
        "id": "z6KeDd8bCL8T",
        "colab": {
          "base_uri": "https://localhost:8080/",
          "height": 74
        },
        "outputId": "f9dbe3ae-1137-43c5-f21b-801dd030e23d"
      },
      "execution_count": 18,
      "outputs": [
        {
          "output_type": "execute_result",
          "data": {
            "text/plain": [
              "\"\\nimport numpy as np\\nimport os\\n\\ndef load_and_concatenate_npy_files(directory, axis=0):\\n    # List all .npy files in the specified directory\\n    npy_files = [f for f in os.listdir(directory) if f.endswith('.npy')]\\n\\n    # Load each file and store the arrays in a list\\n    arrays = [np.load(os.path.join(directory, file)) for file in npy_files]\\n    print(npy_files)\\n\\n    # Concatenate the list of arrays along the specified axis\\n    concatenated_array = np.concatenate(arrays, axis=axis)\\n\\n    return concatenated_array\\n\\n# Example usage:\\ndirectory_path = '/content/drive/MyDrive/BioE212/test/embeds_1.1_small'\\nconcatenated_array = load_and_concatenate_npy_files(directory_path)\\n\\n#print(concatenated_array)\\n\""
            ],
            "application/vnd.google.colaboratory.intrinsic+json": {
              "type": "string"
            }
          },
          "metadata": {},
          "execution_count": 18
        }
      ]
    },
    {
      "cell_type": "code",
      "source": [
        "from sklearn.metrics import confusion_matrix, accuracy_score, recall_score, precision_score\n",
        "cm = confusion_matrix(y_test, y_pred)\n",
        "tn, fp, fn, tp = cm.ravel()\n",
        "\n",
        "# Calculate sensitivity and specificity\n",
        "sensitivity = tp / (tp + fn)\n",
        "specificity = tn / (tn + fp)\n",
        "\n",
        "print(f'Confusion Matrix:\\n{cm}')\n",
        "print(f'Sensitivity (Recall): {sensitivity}')\n",
        "print(f'Specificity: {specificity}')"
      ],
      "metadata": {
        "colab": {
          "base_uri": "https://localhost:8080/"
        },
        "id": "DAladYjQ56oq",
        "outputId": "a62da9a1-3975-4600-ed28-696ddf436368"
      },
      "execution_count": 19,
      "outputs": [
        {
          "output_type": "stream",
          "name": "stdout",
          "text": [
            "Confusion Matrix:\n",
            "[[ 619  307]\n",
            " [ 326 1163]]\n",
            "Sensitivity (Recall): 0.781061114842176\n",
            "Specificity: 0.6684665226781857\n"
          ]
        }
      ]
    },
    {
      "cell_type": "code",
      "source": [
        "#PCA\n",
        "\n",
        "import matplotlib.pyplot as plt\n",
        "from sklearn.decomposition import PCA"
      ],
      "metadata": {
        "id": "4kN2XJMz2waM"
      },
      "execution_count": null,
      "outputs": []
    },
    {
      "cell_type": "code",
      "source": [
        "pca = PCA(n_components=2)\n",
        "pca_result = pca.fit_transform(concatenated_array)\n",
        "\n",
        "# Plot the PCA results\n",
        "plt.figure(figsize=(10, 8))\n",
        "scatter = plt.scatter(pca_result[:, 0], pca_result[:, 1], c=y, cmap='viridis', s=50, alpha=0.7)\n",
        "\n",
        "# Adding a color bar\n",
        "cbar = plt.colorbar(scatter)\n",
        "cbar.set_label('Values')\n",
        "\n",
        "plt.xlabel('PCA Component 1')\n",
        "plt.ylabel('PCA Component 2')\n",
        "plt.title('PCA of Embeddings Labeled by Values')\n",
        "plt.show()"
      ],
      "metadata": {
        "colab": {
          "base_uri": "https://localhost:8080/",
          "height": 718
        },
        "id": "7SPpgAvD5Zhm",
        "outputId": "4cb5f3dc-89d6-41c1-9d16-bf94b33db6cd"
      },
      "execution_count": null,
      "outputs": [
        {
          "output_type": "display_data",
          "data": {
            "text/plain": [
              "<Figure size 1000x800 with 2 Axes>"
            ],
            "image/png": "[encoded data removed]"
          },
          "metadata": {}
        }
      ]
    },
    {
      "cell_type": "code",
      "source": [],
      "metadata": {
        "id": "fTEkx-Bua9GL"
      },
      "execution_count": null,
      "outputs": []
    }
  ]
}