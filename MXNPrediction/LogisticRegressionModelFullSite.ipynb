{
  "nbformat": 4,
  "nbformat_minor": 0,
  "metadata": {
    "colab": {
      "provenance": [],
      "gpuType": "T4"
    },
    "kernelspec": {
      "name": "python3",
      "display_name": "Python 3"
    },
    "language_info": {
      "name": "python"
    },
    "accelerator": "GPU"
  },
  "cells": [
    {
      "cell_type": "code",
      "execution_count": null,
      "metadata": {
        "id": "Fz_WhTBF_fiY"
      },
      "outputs": [],
      "source": [
        "#Code written by Navami\n",
        "import pickle\n",
        "import numpy as np\n",
        "from sklearn.linear_model import LogisticRegression\n",
        "from sklearn.model_selection import train_test_split\n",
        "from sklearn.metrics import accuracy_score\n",
        "import torch"
      ]
    },
    {
      "cell_type": "code",
      "source": [
        "from google.colab import drive\n",
        "drive.mount('/content/drive')"
      ],
      "metadata": {
        "colab": {
          "base_uri": "https://localhost:8080/"
        },
        "id": "pQcsBzgXuKo-",
        "outputId": "b3d6a2e4-742c-4758-8643-9ffd8f9045cf"
      },
      "execution_count": null,
      "outputs": [
        {
          "output_type": "stream",
          "name": "stdout",
          "text": [
            "Mounted at /content/drive\n"
          ]
        }
      ]
    },
    {
      "cell_type": "code",
      "source": [
        "#load in the labels\n",
        "import pandas as pd\n",
        "labels = pd.read_csv('/content/drive/MyDrive/BioE212/EVO/mxn_embeddings_v1/mxn_labels.csv')"
      ],
      "metadata": {
        "id": "G5EFML0Yulp6"
      },
      "execution_count": null,
      "outputs": []
    },
    {
      "cell_type": "code",
      "source": [
        "labels"
      ],
      "metadata": {
        "colab": {
          "base_uri": "https://localhost:8080/",
          "height": 425
        },
        "id": "xX3QiBdf1f6q",
        "outputId": "3b773ed6-6654-4d1b-faf1-d9271cf05a9a"
      },
      "execution_count": null,
      "outputs": [
        {
          "output_type": "execute_result",
          "data": {
            "text/plain": [
              "       Unnamed: 0                                      UNIQUEID  \\\n",
              "0               0        site.02.subj.0001.lab.2014222001.iso.1   \n",
              "1               1        site.02.subj.0002.lab.2014222005.iso.1   \n",
              "2               2        site.02.subj.0004.lab.2014222010.iso.1   \n",
              "3               3        site.02.subj.0005.lab.2014222011.iso.1   \n",
              "4               4        site.02.subj.0006.lab.2014222013.iso.1   \n",
              "...           ...                                           ...   \n",
              "12257       12257  site.20.subj.SCH8604398.lab.YA00134621.iso.1   \n",
              "12258       12258  site.20.subj.SCH8604399.lab.YA00134971.iso.1   \n",
              "12259       12259  site.20.subj.SCH8608291.lab.YA00135762.iso.1   \n",
              "12260       12260  site.20.subj.SCH8608295.lab.YA00134623.iso.1   \n",
              "12261       12261  site.20.subj.SCH8612323.lab.YA00134624.iso.1   \n",
              "\n",
              "      MXF_BINARY_PHENOTYPE MXF_PHENOTYPE_QUALITY MXF_MIC  \n",
              "0                        S                  HIGH    0.25  \n",
              "1                        S                   LOW    0.25  \n",
              "2                        S                  HIGH    0.25  \n",
              "3                        S                  HIGH    0.25  \n",
              "4                        S                  HIGH     0.5  \n",
              "...                    ...                   ...     ...  \n",
              "12257                    S                   LOW    0.25  \n",
              "12258                    S                   LOW    0.25  \n",
              "12259                    R                   LOW     4.0  \n",
              "12260                    S                   LOW     1.0  \n",
              "12261                    S                   LOW     0.5  \n",
              "\n",
              "[12262 rows x 5 columns]"
            ],
            "text/html": [
              "\n",
              "  <div id=\"df-4ea539ce-915c-44ef-b9c0-e8334d6ee336\" class=\"colab-df-container\">\n",
              "    <div>\n",
              "<style scoped>\n",
              "    .dataframe tbody tr th:only-of-type {\n",
              "        vertical-align: middle;\n",
              "    }\n",
              "\n",
              "    .dataframe tbody tr th {\n",
              "        vertical-align: top;\n",
              "    }\n",
              "\n",
              "    .dataframe thead th {\n",
              "        text-align: right;\n",
              "    }\n",
              "</style>\n",
              "<table border=\"1\" class=\"dataframe\">\n",
              "  <thead>\n",
              "    <tr style=\"text-align: right;\">\n",
              "      <th></th>\n",
              "      <th>Unnamed: 0</th>\n",
              "      <th>UNIQUEID</th>\n",
              "      <th>MXF_BINARY_PHENOTYPE</th>\n",
              "      <th>MXF_PHENOTYPE_QUALITY</th>\n",
              "      <th>MXF_MIC</th>\n",
              "    </tr>\n",
              "  </thead>\n",
              "  <tbody>\n",
              "    <tr>\n",
              "      <th>0</th>\n",
              "      <td>0</td>\n",
              "      <td>site.02.subj.0001.lab.2014222001.iso.1</td>\n",
              "      <td>S</td>\n",
              "      <td>HIGH</td>\n",
              "      <td>0.25</td>\n",
              "    </tr>\n",
              "    <tr>\n",
              "      <th>1</th>\n",
              "      <td>1</td>\n",
              "      <td>site.02.subj.0002.lab.2014222005.iso.1</td>\n",
              "      <td>S</td>\n",
              "      <td>LOW</td>\n",
              "      <td>0.25</td>\n",
              "    </tr>\n",
              "    <tr>\n",
              "      <th>2</th>\n",
              "      <td>2</td>\n",
              "      <td>site.02.subj.0004.lab.2014222010.iso.1</td>\n",
              "      <td>S</td>\n",
              "      <td>HIGH</td>\n",
              "      <td>0.25</td>\n",
              "    </tr>\n",
              "    <tr>\n",
              "      <th>3</th>\n",
              "      <td>3</td>\n",
              "      <td>site.02.subj.0005.lab.2014222011.iso.1</td>\n",
              "      <td>S</td>\n",
              "      <td>HIGH</td>\n",
              "      <td>0.25</td>\n",
              "    </tr>\n",
              "    <tr>\n",
              "      <th>4</th>\n",
              "      <td>4</td>\n",
              "      <td>site.02.subj.0006.lab.2014222013.iso.1</td>\n",
              "      <td>S</td>\n",
              "      <td>HIGH</td>\n",
              "      <td>0.5</td>\n",
              "    </tr>\n",
              "    <tr>\n",
              "      <th>...</th>\n",
              "      <td>...</td>\n",
              "      <td>...</td>\n",
              "      <td>...</td>\n",
              "      <td>...</td>\n",
              "      <td>...</td>\n",
              "    </tr>\n",
              "    <tr>\n",
              "      <th>12257</th>\n",
              "      <td>12257</td>\n",
              "      <td>site.20.subj.SCH8604398.lab.YA00134621.iso.1</td>\n",
              "      <td>S</td>\n",
              "      <td>LOW</td>\n",
              "      <td>0.25</td>\n",
              "    </tr>\n",
              "    <tr>\n",
              "      <th>12258</th>\n",
              "      <td>12258</td>\n",
              "      <td>site.20.subj.SCH8604399.lab.YA00134971.iso.1</td>\n",
              "      <td>S</td>\n",
              "      <td>LOW</td>\n",
              "      <td>0.25</td>\n",
              "    </tr>\n",
              "    <tr>\n",
              "      <th>12259</th>\n",
              "      <td>12259</td>\n",
              "      <td>site.20.subj.SCH8608291.lab.YA00135762.iso.1</td>\n",
              "      <td>R</td>\n",
              "      <td>LOW</td>\n",
              "      <td>4.0</td>\n",
              "    </tr>\n",
              "    <tr>\n",
              "      <th>12260</th>\n",
              "      <td>12260</td>\n",
              "      <td>site.20.subj.SCH8608295.lab.YA00134623.iso.1</td>\n",
              "      <td>S</td>\n",
              "      <td>LOW</td>\n",
              "      <td>1.0</td>\n",
              "    </tr>\n",
              "    <tr>\n",
              "      <th>12261</th>\n",
              "      <td>12261</td>\n",
              "      <td>site.20.subj.SCH8612323.lab.YA00134624.iso.1</td>\n",
              "      <td>S</td>\n",
              "      <td>LOW</td>\n",
              "      <td>0.5</td>\n",
              "    </tr>\n",
              "  </tbody>\n",
              "</table>\n",
              "<p>12262 rows × 5 columns</p>\n",
              "</div>\n",
              "    <div class=\"colab-df-buttons\">\n",
              "\n",
              "  <div class=\"colab-df-container\">\n",
              "    <button class=\"colab-df-convert\" onclick=\"convertToInteractive('df-4ea539ce-915c-44ef-b9c0-e8334d6ee336')\"\n",
              "            title=\"Convert this dataframe to an interactive table.\"\n",
              "            style=\"display:none;\">\n",
              "\n",
              "  <svg xmlns=\"http://www.w3.org/2000/svg\" height=\"24px\" viewBox=\"0 -960 960 960\">\n",
              "    <path d=\"M120-120v-720h720v720H120Zm60-500h600v-160H180v160Zm220 220h160v-160H400v160Zm0 220h160v-160H400v160ZM180-400h160v-160H180v160Zm440 0h160v-160H620v160ZM180-180h160v-160H180v160Zm440 0h160v-160H620v160Z\"/>\n",
              "  </svg>\n",
              "    </button>\n",
              "\n",
              "  <style>\n",
              "    .colab-df-container {\n",
              "      display:flex;\n",
              "      gap: 12px;\n",
              "    }\n",
              "\n",
              "    .colab-df-convert {\n",
              "      background-color: #E8F0FE;\n",
              "      border: none;\n",
              "      border-radius: 50%;\n",
              "      cursor: pointer;\n",
              "      display: none;\n",
              "      fill: #1967D2;\n",
              "      height: 32px;\n",
              "      padding: 0 0 0 0;\n",
              "      width: 32px;\n",
              "    }\n",
              "\n",
              "    .colab-df-convert:hover {\n",
              "      background-color: #E2EBFA;\n",
              "      box-shadow: 0px 1px 2px rgba(60, 64, 67, 0.3), 0px 1px 3px 1px rgba(60, 64, 67, 0.15);\n",
              "      fill: #174EA6;\n",
              "    }\n",
              "\n",
              "    .colab-df-buttons div {\n",
              "      margin-bottom: 4px;\n",
              "    }\n",
              "\n",
              "    [theme=dark] .colab-df-convert {\n",
              "      background-color: #3B4455;\n",
              "      fill: #D2E3FC;\n",
              "    }\n",
              "\n",
              "    [theme=dark] .colab-df-convert:hover {\n",
              "      background-color: #434B5C;\n",
              "      box-shadow: 0px 1px 3px 1px rgba(0, 0, 0, 0.15);\n",
              "      filter: drop-shadow(0px 1px 2px rgba(0, 0, 0, 0.3));\n",
              "      fill: #FFFFFF;\n",
              "    }\n",
              "  </style>\n",
              "\n",
              "    <script>\n",
              "      const buttonEl =\n",
              "        document.querySelector('#df-4ea539ce-915c-44ef-b9c0-e8334d6ee336 button.colab-df-convert');\n",
              "      buttonEl.style.display =\n",
              "        google.colab.kernel.accessAllowed ? 'block' : 'none';\n",
              "\n",
              "      async function convertToInteractive(key) {\n",
              "        const element = document.querySelector('#df-4ea539ce-915c-44ef-b9c0-e8334d6ee336');\n",
              "        const dataTable =\n",
              "          await google.colab.kernel.invokeFunction('convertToInteractive',\n",
              "                                                    [key], {});\n",
              "        if (!dataTable) return;\n",
              "\n",
              "        const docLinkHtml = 'Like what you see? Visit the ' +\n",
              "          '<a target=\"_blank\" href=https://colab.research.google.com/notebooks/data_table.ipynb>data table notebook</a>'\n",
              "          + ' to learn more about interactive tables.';\n",
              "        element.innerHTML = '';\n",
              "        dataTable['output_type'] = 'display_data';\n",
              "        await google.colab.output.renderOutput(dataTable, element);\n",
              "        const docLink = document.createElement('div');\n",
              "        docLink.innerHTML = docLinkHtml;\n",
              "        element.appendChild(docLink);\n",
              "      }\n",
              "    </script>\n",
              "  </div>\n",
              "\n",
              "\n",
              "<div id=\"df-d13a1bed-2e21-4c32-af4f-1e3b8d941adb\">\n",
              "  <button class=\"colab-df-quickchart\" onclick=\"quickchart('df-d13a1bed-2e21-4c32-af4f-1e3b8d941adb')\"\n",
              "            title=\"Suggest charts\"\n",
              "            style=\"display:none;\">\n",
              "\n",
              "<svg xmlns=\"http://www.w3.org/2000/svg\" height=\"24px\"viewBox=\"0 0 24 24\"\n",
              "     width=\"24px\">\n",
              "    <g>\n",
              "        <path d=\"M19 3H5c-1.1 0-2 .9-2 2v14c0 1.1.9 2 2 2h14c1.1 0 2-.9 2-2V5c0-1.1-.9-2-2-2zM9 17H7v-7h2v7zm4 0h-2V7h2v10zm4 0h-2v-4h2v4z\"/>\n",
              "    </g>\n",
              "</svg>\n",
              "  </button>\n",
              "\n",
              "<style>\n",
              "  .colab-df-quickchart {\n",
              "      --bg-color: #E8F0FE;\n",
              "      --fill-color: #1967D2;\n",
              "      --hover-bg-color: #E2EBFA;\n",
              "      --hover-fill-color: #174EA6;\n",
              "      --disabled-fill-color: #AAA;\n",
              "      --disabled-bg-color: #DDD;\n",
              "  }\n",
              "\n",
              "  [theme=dark] .colab-df-quickchart {\n",
              "      --bg-color: #3B4455;\n",
              "      --fill-color: #D2E3FC;\n",
              "      --hover-bg-color: #434B5C;\n",
              "      --hover-fill-color: #FFFFFF;\n",
              "      --disabled-bg-color: #3B4455;\n",
              "      --disabled-fill-color: #666;\n",
              "  }\n",
              "\n",
              "  .colab-df-quickchart {\n",
              "    background-color: var(--bg-color);\n",
              "    border: none;\n",
              "    border-radius: 50%;\n",
              "    cursor: pointer;\n",
              "    display: none;\n",
              "    fill: var(--fill-color);\n",
              "    height: 32px;\n",
              "    padding: 0;\n",
              "    width: 32px;\n",
              "  }\n",
              "\n",
              "  .colab-df-quickchart:hover {\n",
              "    background-color: var(--hover-bg-color);\n",
              "    box-shadow: 0 1px 2px rgba(60, 64, 67, 0.3), 0 1px 3px 1px rgba(60, 64, 67, 0.15);\n",
              "    fill: var(--button-hover-fill-color);\n",
              "  }\n",
              "\n",
              "  .colab-df-quickchart-complete:disabled,\n",
              "  .colab-df-quickchart-complete:disabled:hover {\n",
              "    background-color: var(--disabled-bg-color);\n",
              "    fill: var(--disabled-fill-color);\n",
              "    box-shadow: none;\n",
              "  }\n",
              "\n",
              "  .colab-df-spinner {\n",
              "    border: 2px solid var(--fill-color);\n",
              "    border-color: transparent;\n",
              "    border-bottom-color: var(--fill-color);\n",
              "    animation:\n",
              "      spin 1s steps(1) infinite;\n",
              "  }\n",
              "\n",
              "  @keyframes spin {\n",
              "    0% {\n",
              "      border-color: transparent;\n",
              "      border-bottom-color: var(--fill-color);\n",
              "      border-left-color: var(--fill-color);\n",
              "    }\n",
              "    20% {\n",
              "      border-color: transparent;\n",
              "      border-left-color: var(--fill-color);\n",
              "      border-top-color: var(--fill-color);\n",
              "    }\n",
              "    30% {\n",
              "      border-color: transparent;\n",
              "      border-left-color: var(--fill-color);\n",
              "      border-top-color: var(--fill-color);\n",
              "      border-right-color: var(--fill-color);\n",
              "    }\n",
              "    40% {\n",
              "      border-color: transparent;\n",
              "      border-right-color: var(--fill-color);\n",
              "      border-top-color: var(--fill-color);\n",
              "    }\n",
              "    60% {\n",
              "      border-color: transparent;\n",
              "      border-right-color: var(--fill-color);\n",
              "    }\n",
              "    80% {\n",
              "      border-color: transparent;\n",
              "      border-right-color: var(--fill-color);\n",
              "      border-bottom-color: var(--fill-color);\n",
              "    }\n",
              "    90% {\n",
              "      border-color: transparent;\n",
              "      border-bottom-color: var(--fill-color);\n",
              "    }\n",
              "  }\n",
              "</style>\n",
              "\n",
              "  <script>\n",
              "    async function quickchart(key) {\n",
              "      const quickchartButtonEl =\n",
              "        document.querySelector('#' + key + ' button');\n",
              "      quickchartButtonEl.disabled = true;  // To prevent multiple clicks.\n",
              "      quickchartButtonEl.classList.add('colab-df-spinner');\n",
              "      try {\n",
              "        const charts = await google.colab.kernel.invokeFunction(\n",
              "            'suggestCharts', [key], {});\n",
              "      } catch (error) {\n",
              "        console.error('Error during call to suggestCharts:', error);\n",
              "      }\n",
              "      quickchartButtonEl.classList.remove('colab-df-spinner');\n",
              "      quickchartButtonEl.classList.add('colab-df-quickchart-complete');\n",
              "    }\n",
              "    (() => {\n",
              "      let quickchartButtonEl =\n",
              "        document.querySelector('#df-d13a1bed-2e21-4c32-af4f-1e3b8d941adb button');\n",
              "      quickchartButtonEl.style.display =\n",
              "        google.colab.kernel.accessAllowed ? 'block' : 'none';\n",
              "    })();\n",
              "  </script>\n",
              "</div>\n",
              "    </div>\n",
              "  </div>\n"
            ],
            "application/vnd.google.colaboratory.intrinsic+json": {
              "type": "dataframe",
              "variable_name": "labels",
              "summary": "{\n  \"name\": \"labels\",\n  \"rows\": 12262,\n  \"fields\": [\n    {\n      \"column\": \"Unnamed: 0\",\n      \"properties\": {\n        \"dtype\": \"number\",\n        \"std\": 3539,\n        \"min\": 0,\n        \"max\": 12261,\n        \"num_unique_values\": 12262,\n        \"samples\": [\n          2536,\n          1210,\n          7782\n        ],\n        \"semantic_type\": \"\",\n        \"description\": \"\"\n      }\n    },\n    {\n      \"column\": \"UNIQUEID\",\n      \"properties\": {\n        \"dtype\": \"string\",\n        \"num_unique_values\": 12262,\n        \"samples\": [\n          \"site.04.subj.00400.lab.704638.iso.1\",\n          \"site.03.subj.BOR-17010158.lab.IML-00660.iso.1\",\n          \"site.06.subj.N1744.lab.06MIL1483.iso.1\"\n        ],\n        \"semantic_type\": \"\",\n        \"description\": \"\"\n      }\n    },\n    {\n      \"column\": \"MXF_BINARY_PHENOTYPE\",\n      \"properties\": {\n        \"dtype\": \"category\",\n        \"num_unique_values\": 2,\n        \"samples\": [\n          \"R\",\n          \"S\"\n        ],\n        \"semantic_type\": \"\",\n        \"description\": \"\"\n      }\n    },\n    {\n      \"column\": \"MXF_PHENOTYPE_QUALITY\",\n      \"properties\": {\n        \"dtype\": \"category\",\n        \"num_unique_values\": 3,\n        \"samples\": [\n          \"HIGH\",\n          \"LOW\"\n        ],\n        \"semantic_type\": \"\",\n        \"description\": \"\"\n      }\n    },\n    {\n      \"column\": \"MXF_MIC\",\n      \"properties\": {\n        \"dtype\": \"category\",\n        \"num_unique_values\": 8,\n        \"samples\": [\n          \"0.5\",\n          \"1.0\"\n        ],\n        \"semantic_type\": \"\",\n        \"description\": \"\"\n      }\n    }\n  ]\n}"
            }
          },
          "metadata": {},
          "execution_count": 5
        }
      ]
    },
    {
      "cell_type": "code",
      "source": [
        "import numpy as np\n",
        "import os\n",
        "\n",
        "def load_and_concatenate_npy_files(directory, axis=0):\n",
        "    # List all .npy files in the specified directory\n",
        "    npy_files = [f for f in os.listdir(directory) if f.endswith('.npy')]\n",
        "\n",
        "    # Load each file and store the arrays in a list\n",
        "    #arrays = [np.load(os.path.join(directory, file)) for file in npy_files]\n",
        "    arrays = []\n",
        "    for file in npy_files:\n",
        "      print(file)\n",
        "      arrays.append(np.load(os.path.join(directory, file)))\n",
        "\n",
        "    print(npy_files)\n",
        "\n",
        "    # Concatenate the list of arrays along the specified axis\n",
        "    concatenated_array = np.concatenate(arrays, axis=axis)\n",
        "\n",
        "    return concatenated_array\n",
        "\n",
        "# Example usage:\n",
        "directory_path = '/content/drive/MyDrive/BioE212/EVO/mxn_embeddings_v1/embeds_1.0_chunks'\n",
        "concatenated_array = load_and_concatenate_npy_files(directory_path)\n",
        "\n",
        "#print(concatenated_array)\n"
      ],
      "metadata": {
        "id": "z6KeDd8bCL8T",
        "colab": {
          "base_uri": "https://localhost:8080/"
        },
        "outputId": "a0772725-a830-4a7f-f44f-418ceaa79a98"
      },
      "execution_count": null,
      "outputs": [
        {
          "output_type": "stream",
          "name": "stdout",
          "text": [
            "embeds_0_to_99.npy\n",
            "embeds_100_to_199.npy\n",
            "embeds_200_to_299.npy\n",
            "embeds_300_to_399.npy\n",
            "embeds_400_to_499.npy\n",
            "embeds_500_to_599.npy\n",
            "embeds_600_to_699.npy\n"
          ]
        }
      ]
    },
    {
      "cell_type": "code",
      "source": [
        "labels['phenotype'] = labels['MXF_BINARY_PHENOTYPE'].replace({'S': 1, 'R': 0})\n",
        "y = np.array(labels['phenotype'])\n",
        "nan_indices = np.isnan(y)\n",
        "y = y[~nan_indices]\n",
        "concatenated_array = concatenated_array[~nan_indices]"
      ],
      "metadata": {
        "id": "DPziztS4xUgA"
      },
      "execution_count": null,
      "outputs": []
    },
    {
      "cell_type": "code",
      "source": [
        "X_train, X_test, y_train, y_test = train_test_split(concatenated_array, y, test_size=0.2, random_state=42)"
      ],
      "metadata": {
        "id": "HGowYsmx22U4"
      },
      "execution_count": null,
      "outputs": []
    },
    {
      "cell_type": "code",
      "source": [
        "from sklearn.linear_model import LogisticRegression\n",
        "from sklearn.model_selection import train_test_split\n",
        "from sklearn.metrics import accuracy_score\n",
        "import torch"
      ],
      "metadata": {
        "id": "us3tJir029Fi"
      },
      "execution_count": null,
      "outputs": []
    },
    {
      "cell_type": "code",
      "source": [
        "# Train a logistic regression model\n",
        "clf = LogisticRegression(multi_class='ovr')\n",
        "\n",
        "# Train the classifier\n",
        "clf.fit(X_train, y_train)\n",
        "\n",
        "# Predict on the test set\n",
        "y_pred = clf.predict(X_test)\n",
        "\n",
        "# Calculate accuracy\n",
        "accuracy = accuracy_score(y_test, y_pred)\n",
        "print(\"Accuracy:\", accuracy)\n",
        "\n",
        "\n",
        "# Print a few predictions vs actual labels\n",
        "for i in range(10):\n",
        "    print(f'Predicted: {y_pred[i]}, Actual: {y_test[i]}')"
      ],
      "metadata": {
        "colab": {
          "base_uri": "https://localhost:8080/"
        },
        "id": "cQTVOaPA3zjS",
        "outputId": "918c1fe3-a978-4465-d21a-f078c301885b"
      },
      "execution_count": null,
      "outputs": [
        {
          "output_type": "stream",
          "name": "stdout",
          "text": [
            "Accuracy: 0.8631881676253081\n",
            "Predicted: 1.0, Actual: 1.0\n",
            "Predicted: 1.0, Actual: 1.0\n",
            "Predicted: 1.0, Actual: 1.0\n",
            "Predicted: 1.0, Actual: 0.0\n",
            "Predicted: 1.0, Actual: 1.0\n",
            "Predicted: 1.0, Actual: 1.0\n",
            "Predicted: 1.0, Actual: 1.0\n",
            "Predicted: 1.0, Actual: 1.0\n",
            "Predicted: 1.0, Actual: 1.0\n",
            "Predicted: 1.0, Actual: 1.0\n"
          ]
        }
      ]
    },
    {
      "cell_type": "code",
      "source": [
        "# balancing class weights\n",
        "\n",
        "clf = LogisticRegression(multi_class='ovr', class_weight='balanced')\n",
        "\n",
        "# Train the classifier\n",
        "clf.fit(X_train, y_train)\n",
        "\n",
        "# Predict on the test set\n",
        "y_pred = clf.predict(X_test)\n",
        "\n",
        "# Calculate accuracy\n",
        "accuracy = accuracy_score(y_test, y_pred)\n",
        "print(\"Accuracy:\", accuracy)\n",
        "\n",
        "\n",
        "# Print a few predictions vs actual labels\n",
        "for i in range(10):\n",
        "    print(f'Predicted: {y_pred[i]}, Actual: {y_test[i]}')"
      ],
      "metadata": {
        "colab": {
          "base_uri": "https://localhost:8080/"
        },
        "id": "T-qm4t2l6EKZ",
        "outputId": "a7994c41-5faf-4a5b-d946-0f152027bc6e"
      },
      "execution_count": null,
      "outputs": [
        {
          "output_type": "stream",
          "name": "stdout",
          "text": [
            "Accuracy: 0.842645850451931\n",
            "Predicted: 1.0, Actual: 1.0\n",
            "Predicted: 1.0, Actual: 1.0\n",
            "Predicted: 1.0, Actual: 1.0\n",
            "Predicted: 1.0, Actual: 0.0\n",
            "Predicted: 1.0, Actual: 1.0\n",
            "Predicted: 1.0, Actual: 1.0\n",
            "Predicted: 1.0, Actual: 1.0\n",
            "Predicted: 1.0, Actual: 1.0\n",
            "Predicted: 1.0, Actual: 1.0\n",
            "Predicted: 1.0, Actual: 1.0\n"
          ]
        }
      ]
    },
    {
      "cell_type": "code",
      "source": [
        "from sklearn.metrics import confusion_matrix, accuracy_score, recall_score, precision_score\n",
        "cm = confusion_matrix(y_test, y_pred)\n",
        "tn, fp, fn, tp = cm.ravel()\n",
        "\n",
        "# Calculate sensitivity and specificity\n",
        "sensitivity = tp / (tp + fn)\n",
        "specificity = tn / (tn + fp)\n",
        "\n",
        "print(f'Confusion Matrix:\\n{cm}')\n",
        "print(f'Sensitivity (Recall): {sensitivity}')\n",
        "print(f'Specificity: {specificity}')"
      ],
      "metadata": {
        "colab": {
          "base_uri": "https://localhost:8080/"
        },
        "id": "DAladYjQ56oq",
        "outputId": "148ffd5b-fcdf-4eb8-e575-1f0b5998fc40"
      },
      "execution_count": null,
      "outputs": [
        {
          "output_type": "stream",
          "name": "stdout",
          "text": [
            "Confusion Matrix:\n",
            "[[  86  247]\n",
            " [ 136 1965]]\n",
            "Sensitivity (Recall): 0.9352689195621133\n",
            "Specificity: 0.25825825825825827\n"
          ]
        }
      ]
    },
    {
      "cell_type": "code",
      "source": [
        "#PCA\n",
        "\n",
        "import matplotlib.pyplot as plt\n",
        "from sklearn.decomposition import PCA"
      ],
      "metadata": {
        "id": "4kN2XJMz2waM"
      },
      "execution_count": null,
      "outputs": []
    },
    {
      "cell_type": "code",
      "source": [
        "pca = PCA(n_components=2)\n",
        "pca_result = pca.fit_transform(concatenated_array)\n",
        "\n",
        "# Plot the PCA results\n",
        "plt.figure(figsize=(10, 8))\n",
        "scatter = plt.scatter(pca_result[:, 0], pca_result[:, 1], c=y, cmap='viridis', s=50, alpha=0.7)\n",
        "\n",
        "# Adding a color bar\n",
        "cbar = plt.colorbar(scatter)\n",
        "cbar.set_label('Values')\n",
        "\n",
        "plt.xlabel('PCA Component 1')\n",
        "plt.ylabel('PCA Component 2')\n",
        "plt.title('PCA of Embeddings Labeled by Values')\n",
        "plt.show()"
      ],
      "metadata": {
        "colab": {
          "base_uri": "https://localhost:8080/",
          "height": 718
        },
        "id": "7SPpgAvD5Zhm",
        "outputId": "cb0ba38b-664d-4ade-bea6-2cbfbd7f4c9c"
      },
      "execution_count": null,
      "outputs": [
        {
          "output_type": "display_data",
          "data": {
            "text/plain": [
              "<Figure size 1000x800 with 2 Axes>"
            ],
            "image/png": "[encoded data removed]"
          },
          "metadata": {}
        }
      ]
    }
  ]
}
