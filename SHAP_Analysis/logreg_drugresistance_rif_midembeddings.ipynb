{
  "cells": [
    {
      "cell_type": "code",
      "execution_count": null,
      "metadata": {
        "id": "Fz_WhTBF_fiY"
      },
      "outputs": [],
      "source": [
        "import pickle\n",
        "import numpy as np\n",
        "from sklearn.linear_model import LogisticRegression\n",
        "from sklearn.model_selection import train_test_split\n",
        "from sklearn.metrics import accuracy_score\n",
        "import torch\n",
        "import tensorflow as tf"
      ]
    },
    {
      "cell_type": "code",
      "execution_count": null,
      "metadata": {
        "colab": {
          "base_uri": "https://localhost:8080/"
        },
        "id": "pQcsBzgXuKo-",
        "outputId": "28fc720b-7101-4cc1-b670-5c651dbfc857"
      },
      "outputs": [
        {
          "name": "stdout",
          "output_type": "stream",
          "text": [
            "Mounted at /content/drive\n"
          ]
        }
      ],
      "source": [
        "from google.colab import drive\n",
        "drive.mount('/content/drive')"
      ]
    },
    {
      "cell_type": "code",
      "execution_count": null,
      "metadata": {
        "id": "G5EFML0Yulp6"
      },
      "outputs": [],
      "source": [
        "#load in the labels\n",
        "import pandas as pd\n",
        "labels = pd.read_csv('/content/drive/MyDrive/BioE212/test/rif_labels.csv')"
      ]
    },
    {
      "cell_type": "code",
      "execution_count": null,
      "metadata": {
        "colab": {
          "base_uri": "https://localhost:8080/",
          "height": 424
        },
        "id": "xX3QiBdf1f6q",
        "outputId": "373aaffd-4d37-4550-96e3-3316688ac301"
      },
      "outputs": [
        {
          "data": {
            "application/vnd.google.colaboratory.intrinsic+json": {
              "summary": "{\n  \"name\": \"labels\",\n  \"rows\": 12259,\n  \"fields\": [\n    {\n      \"column\": \"Unnamed: 0\",\n      \"properties\": {\n        \"dtype\": \"number\",\n        \"std\": 3539,\n        \"min\": 0,\n        \"max\": 12258,\n        \"num_unique_values\": 12259,\n        \"samples\": [\n          2536,\n          1210,\n          7782\n        ],\n        \"semantic_type\": \"\",\n        \"description\": \"\"\n      }\n    },\n    {\n      \"column\": \"UNIQUEID\",\n      \"properties\": {\n        \"dtype\": \"string\",\n        \"num_unique_values\": 12259,\n        \"samples\": [\n          \"site.04.subj.00400.lab.704638.iso.1\",\n          \"site.03.subj.BOR-17010158.lab.IML-00660.iso.1\",\n          \"site.06.subj.N526.lab.06MIL1532.iso.1\"\n        ],\n        \"semantic_type\": \"\",\n        \"description\": \"\"\n      }\n    },\n    {\n      \"column\": \"RIF_BINARY_PHENOTYPE\",\n      \"properties\": {\n        \"dtype\": \"category\",\n        \"num_unique_values\": 2,\n        \"samples\": [\n          \"R\",\n          \"S\"\n        ],\n        \"semantic_type\": \"\",\n        \"description\": \"\"\n      }\n    },\n    {\n      \"column\": \"RIF_PHENOTYPE_QUALITY\",\n      \"properties\": {\n        \"dtype\": \"category\",\n        \"num_unique_values\": 3,\n        \"samples\": [\n          \"HIGH\",\n          \"MEDIUM\"\n        ],\n        \"semantic_type\": \"\",\n        \"description\": \"\"\n      }\n    },\n    {\n      \"column\": \"RIF_MIC\",\n      \"properties\": {\n        \"dtype\": \"category\",\n        \"num_unique_values\": 12,\n        \"samples\": [\n          \"<=0.03\",\n          \"0.06\"\n        ],\n        \"semantic_type\": \"\",\n        \"description\": \"\"\n      }\n    }\n  ]\n}",
              "type": "dataframe",
              "variable_name": "labels"
            },
            "text/html": [
              "\n",
              "  <div id=\"df-f0777fd7-5204-459a-a9e2-9370b89cbbb5\" class=\"colab-df-container\">\n",
              "    <div>\n",
              "<style scoped>\n",
              "    .dataframe tbody tr th:only-of-type {\n",
              "        vertical-align: middle;\n",
              "    }\n",
              "\n",
              "    .dataframe tbody tr th {\n",
              "        vertical-align: top;\n",
              "    }\n",
              "\n",
              "    .dataframe thead th {\n",
              "        text-align: right;\n",
              "    }\n",
              "</style>\n",
              "<table border=\"1\" class=\"dataframe\">\n",
              "  <thead>\n",
              "    <tr style=\"text-align: right;\">\n",
              "      <th></th>\n",
              "      <th>Unnamed: 0</th>\n",
              "      <th>UNIQUEID</th>\n",
              "      <th>RIF_BINARY_PHENOTYPE</th>\n",
              "      <th>RIF_PHENOTYPE_QUALITY</th>\n",
              "      <th>RIF_MIC</th>\n",
              "    </tr>\n",
              "  </thead>\n",
              "  <tbody>\n",
              "    <tr>\n",
              "      <th>0</th>\n",
              "      <td>0</td>\n",
              "      <td>site.02.subj.0001.lab.2014222001.iso.1</td>\n",
              "      <td>S</td>\n",
              "      <td>HIGH</td>\n",
              "      <td>&lt;=0.06</td>\n",
              "    </tr>\n",
              "    <tr>\n",
              "      <th>1</th>\n",
              "      <td>1</td>\n",
              "      <td>site.02.subj.0002.lab.2014222005.iso.1</td>\n",
              "      <td>S</td>\n",
              "      <td>HIGH</td>\n",
              "      <td>&lt;=0.06</td>\n",
              "    </tr>\n",
              "    <tr>\n",
              "      <th>2</th>\n",
              "      <td>2</td>\n",
              "      <td>site.02.subj.0004.lab.2014222010.iso.1</td>\n",
              "      <td>S</td>\n",
              "      <td>HIGH</td>\n",
              "      <td>0.12</td>\n",
              "    </tr>\n",
              "    <tr>\n",
              "      <th>3</th>\n",
              "      <td>3</td>\n",
              "      <td>site.02.subj.0005.lab.2014222011.iso.1</td>\n",
              "      <td>S</td>\n",
              "      <td>HIGH</td>\n",
              "      <td>0.12</td>\n",
              "    </tr>\n",
              "    <tr>\n",
              "      <th>4</th>\n",
              "      <td>4</td>\n",
              "      <td>site.02.subj.0006.lab.2014222013.iso.1</td>\n",
              "      <td>S</td>\n",
              "      <td>HIGH</td>\n",
              "      <td>0.12</td>\n",
              "    </tr>\n",
              "    <tr>\n",
              "      <th>...</th>\n",
              "      <td>...</td>\n",
              "      <td>...</td>\n",
              "      <td>...</td>\n",
              "      <td>...</td>\n",
              "      <td>...</td>\n",
              "    </tr>\n",
              "    <tr>\n",
              "      <th>12254</th>\n",
              "      <td>12254</td>\n",
              "      <td>site.20.subj.SCH8604398.lab.YA00134621.iso.1</td>\n",
              "      <td>S</td>\n",
              "      <td>HIGH</td>\n",
              "      <td>0.06</td>\n",
              "    </tr>\n",
              "    <tr>\n",
              "      <th>12255</th>\n",
              "      <td>12255</td>\n",
              "      <td>site.20.subj.SCH8604399.lab.YA00134971.iso.1</td>\n",
              "      <td>S</td>\n",
              "      <td>LOW</td>\n",
              "      <td>0.25</td>\n",
              "    </tr>\n",
              "    <tr>\n",
              "      <th>12256</th>\n",
              "      <td>12256</td>\n",
              "      <td>site.20.subj.SCH8608291.lab.YA00135762.iso.1</td>\n",
              "      <td>R</td>\n",
              "      <td>HIGH</td>\n",
              "      <td>&gt;8</td>\n",
              "    </tr>\n",
              "    <tr>\n",
              "      <th>12257</th>\n",
              "      <td>12257</td>\n",
              "      <td>site.20.subj.SCH8608295.lab.YA00134623.iso.1</td>\n",
              "      <td>S</td>\n",
              "      <td>HIGH</td>\n",
              "      <td>0.06</td>\n",
              "    </tr>\n",
              "    <tr>\n",
              "      <th>12258</th>\n",
              "      <td>12258</td>\n",
              "      <td>site.20.subj.SCH8612323.lab.YA00134624.iso.1</td>\n",
              "      <td>S</td>\n",
              "      <td>HIGH</td>\n",
              "      <td>0.12</td>\n",
              "    </tr>\n",
              "  </tbody>\n",
              "</table>\n",
              "<p>12259 rows × 5 columns</p>\n",
              "</div>\n",
              "    <div class=\"colab-df-buttons\">\n",
              "\n",
              "  <div class=\"colab-df-container\">\n",
              "    <button class=\"colab-df-convert\" onclick=\"convertToInteractive('df-f0777fd7-5204-459a-a9e2-9370b89cbbb5')\"\n",
              "            title=\"Convert this dataframe to an interactive table.\"\n",
              "            style=\"display:none;\">\n",
              "\n",
              "  <svg xmlns=\"http://www.w3.org/2000/svg\" height=\"24px\" viewBox=\"0 -960 960 960\">\n",
              "    <path d=\"M120-120v-720h720v720H120Zm60-500h600v-160H180v160Zm220 220h160v-160H400v160Zm0 220h160v-160H400v160ZM180-400h160v-160H180v160Zm440 0h160v-160H620v160ZM180-180h160v-160H180v160Zm440 0h160v-160H620v160Z\"/>\n",
              "  </svg>\n",
              "    </button>\n",
              "\n",
              "  <style>\n",
              "    .colab-df-container {\n",
              "      display:flex;\n",
              "      gap: 12px;\n",
              "    }\n",
              "\n",
              "    .colab-df-convert {\n",
              "      background-color: #E8F0FE;\n",
              "      border: none;\n",
              "      border-radius: 50%;\n",
              "      cursor: pointer;\n",
              "      display: none;\n",
              "      fill: #1967D2;\n",
              "      height: 32px;\n",
              "      padding: 0 0 0 0;\n",
              "      width: 32px;\n",
              "    }\n",
              "\n",
              "    .colab-df-convert:hover {\n",
              "      background-color: #E2EBFA;\n",
              "      box-shadow: 0px 1px 2px rgba(60, 64, 67, 0.3), 0px 1px 3px 1px rgba(60, 64, 67, 0.15);\n",
              "      fill: #174EA6;\n",
              "    }\n",
              "\n",
              "    .colab-df-buttons div {\n",
              "      margin-bottom: 4px;\n",
              "    }\n",
              "\n",
              "    [theme=dark] .colab-df-convert {\n",
              "      background-color: #3B4455;\n",
              "      fill: #D2E3FC;\n",
              "    }\n",
              "\n",
              "    [theme=dark] .colab-df-convert:hover {\n",
              "      background-color: #434B5C;\n",
              "      box-shadow: 0px 1px 3px 1px rgba(0, 0, 0, 0.15);\n",
              "      filter: drop-shadow(0px 1px 2px rgba(0, 0, 0, 0.3));\n",
              "      fill: #FFFFFF;\n",
              "    }\n",
              "  </style>\n",
              "\n",
              "    <script>\n",
              "      const buttonEl =\n",
              "        document.querySelector('#df-f0777fd7-5204-459a-a9e2-9370b89cbbb5 button.colab-df-convert');\n",
              "      buttonEl.style.display =\n",
              "        google.colab.kernel.accessAllowed ? 'block' : 'none';\n",
              "\n",
              "      async function convertToInteractive(key) {\n",
              "        const element = document.querySelector('#df-f0777fd7-5204-459a-a9e2-9370b89cbbb5');\n",
              "        const dataTable =\n",
              "          await google.colab.kernel.invokeFunction('convertToInteractive',\n",
              "                                                    [key], {});\n",
              "        if (!dataTable) return;\n",
              "\n",
              "        const docLinkHtml = 'Like what you see? Visit the ' +\n",
              "          '<a target=\"_blank\" href=https://colab.research.google.com/notebooks/data_table.ipynb>data table notebook</a>'\n",
              "          + ' to learn more about interactive tables.';\n",
              "        element.innerHTML = '';\n",
              "        dataTable['output_type'] = 'display_data';\n",
              "        await google.colab.output.renderOutput(dataTable, element);\n",
              "        const docLink = document.createElement('div');\n",
              "        docLink.innerHTML = docLinkHtml;\n",
              "        element.appendChild(docLink);\n",
              "      }\n",
              "    </script>\n",
              "  </div>\n",
              "\n",
              "\n",
              "<div id=\"df-96c8f4d1-609e-4adc-84d5-88024546b7dc\">\n",
              "  <button class=\"colab-df-quickchart\" onclick=\"quickchart('df-96c8f4d1-609e-4adc-84d5-88024546b7dc')\"\n",
              "            title=\"Suggest charts\"\n",
              "            style=\"display:none;\">\n",
              "\n",
              "<svg xmlns=\"http://www.w3.org/2000/svg\" height=\"24px\"viewBox=\"0 0 24 24\"\n",
              "     width=\"24px\">\n",
              "    <g>\n",
              "        <path d=\"M19 3H5c-1.1 0-2 .9-2 2v14c0 1.1.9 2 2 2h14c1.1 0 2-.9 2-2V5c0-1.1-.9-2-2-2zM9 17H7v-7h2v7zm4 0h-2V7h2v10zm4 0h-2v-4h2v4z\"/>\n",
              "    </g>\n",
              "</svg>\n",
              "  </button>\n",
              "\n",
              "<style>\n",
              "  .colab-df-quickchart {\n",
              "      --bg-color: #E8F0FE;\n",
              "      --fill-color: #1967D2;\n",
              "      --hover-bg-color: #E2EBFA;\n",
              "      --hover-fill-color: #174EA6;\n",
              "      --disabled-fill-color: #AAA;\n",
              "      --disabled-bg-color: #DDD;\n",
              "  }\n",
              "\n",
              "  [theme=dark] .colab-df-quickchart {\n",
              "      --bg-color: #3B4455;\n",
              "      --fill-color: #D2E3FC;\n",
              "      --hover-bg-color: #434B5C;\n",
              "      --hover-fill-color: #FFFFFF;\n",
              "      --disabled-bg-color: #3B4455;\n",
              "      --disabled-fill-color: #666;\n",
              "  }\n",
              "\n",
              "  .colab-df-quickchart {\n",
              "    background-color: var(--bg-color);\n",
              "    border: none;\n",
              "    border-radius: 50%;\n",
              "    cursor: pointer;\n",
              "    display: none;\n",
              "    fill: var(--fill-color);\n",
              "    height: 32px;\n",
              "    padding: 0;\n",
              "    width: 32px;\n",
              "  }\n",
              "\n",
              "  .colab-df-quickchart:hover {\n",
              "    background-color: var(--hover-bg-color);\n",
              "    box-shadow: 0 1px 2px rgba(60, 64, 67, 0.3), 0 1px 3px 1px rgba(60, 64, 67, 0.15);\n",
              "    fill: var(--button-hover-fill-color);\n",
              "  }\n",
              "\n",
              "  .colab-df-quickchart-complete:disabled,\n",
              "  .colab-df-quickchart-complete:disabled:hover {\n",
              "    background-color: var(--disabled-bg-color);\n",
              "    fill: var(--disabled-fill-color);\n",
              "    box-shadow: none;\n",
              "  }\n",
              "\n",
              "  .colab-df-spinner {\n",
              "    border: 2px solid var(--fill-color);\n",
              "    border-color: transparent;\n",
              "    border-bottom-color: var(--fill-color);\n",
              "    animation:\n",
              "      spin 1s steps(1) infinite;\n",
              "  }\n",
              "\n",
              "  @keyframes spin {\n",
              "    0% {\n",
              "      border-color: transparent;\n",
              "      border-bottom-color: var(--fill-color);\n",
              "      border-left-color: var(--fill-color);\n",
              "    }\n",
              "    20% {\n",
              "      border-color: transparent;\n",
              "      border-left-color: var(--fill-color);\n",
              "      border-top-color: var(--fill-color);\n",
              "    }\n",
              "    30% {\n",
              "      border-color: transparent;\n",
              "      border-left-color: var(--fill-color);\n",
              "      border-top-color: var(--fill-color);\n",
              "      border-right-color: var(--fill-color);\n",
              "    }\n",
              "    40% {\n",
              "      border-color: transparent;\n",
              "      border-right-color: var(--fill-color);\n",
              "      border-top-color: var(--fill-color);\n",
              "    }\n",
              "    60% {\n",
              "      border-color: transparent;\n",
              "      border-right-color: var(--fill-color);\n",
              "    }\n",
              "    80% {\n",
              "      border-color: transparent;\n",
              "      border-right-color: var(--fill-color);\n",
              "      border-bottom-color: var(--fill-color);\n",
              "    }\n",
              "    90% {\n",
              "      border-color: transparent;\n",
              "      border-bottom-color: var(--fill-color);\n",
              "    }\n",
              "  }\n",
              "</style>\n",
              "\n",
              "  <script>\n",
              "    async function quickchart(key) {\n",
              "      const quickchartButtonEl =\n",
              "        document.querySelector('#' + key + ' button');\n",
              "      quickchartButtonEl.disabled = true;  // To prevent multiple clicks.\n",
              "      quickchartButtonEl.classList.add('colab-df-spinner');\n",
              "      try {\n",
              "        const charts = await google.colab.kernel.invokeFunction(\n",
              "            'suggestCharts', [key], {});\n",
              "      } catch (error) {\n",
              "        console.error('Error during call to suggestCharts:', error);\n",
              "      }\n",
              "      quickchartButtonEl.classList.remove('colab-df-spinner');\n",
              "      quickchartButtonEl.classList.add('colab-df-quickchart-complete');\n",
              "    }\n",
              "    (() => {\n",
              "      let quickchartButtonEl =\n",
              "        document.querySelector('#df-96c8f4d1-609e-4adc-84d5-88024546b7dc button');\n",
              "      quickchartButtonEl.style.display =\n",
              "        google.colab.kernel.accessAllowed ? 'block' : 'none';\n",
              "    })();\n",
              "  </script>\n",
              "</div>\n",
              "    </div>\n",
              "  </div>\n"
            ],
            "text/plain": [
              "       Unnamed: 0                                      UNIQUEID  \\\n",
              "0               0        site.02.subj.0001.lab.2014222001.iso.1   \n",
              "1               1        site.02.subj.0002.lab.2014222005.iso.1   \n",
              "2               2        site.02.subj.0004.lab.2014222010.iso.1   \n",
              "3               3        site.02.subj.0005.lab.2014222011.iso.1   \n",
              "4               4        site.02.subj.0006.lab.2014222013.iso.1   \n",
              "...           ...                                           ...   \n",
              "12254       12254  site.20.subj.SCH8604398.lab.YA00134621.iso.1   \n",
              "12255       12255  site.20.subj.SCH8604399.lab.YA00134971.iso.1   \n",
              "12256       12256  site.20.subj.SCH8608291.lab.YA00135762.iso.1   \n",
              "12257       12257  site.20.subj.SCH8608295.lab.YA00134623.iso.1   \n",
              "12258       12258  site.20.subj.SCH8612323.lab.YA00134624.iso.1   \n",
              "\n",
              "      RIF_BINARY_PHENOTYPE RIF_PHENOTYPE_QUALITY RIF_MIC  \n",
              "0                        S                  HIGH  <=0.06  \n",
              "1                        S                  HIGH  <=0.06  \n",
              "2                        S                  HIGH    0.12  \n",
              "3                        S                  HIGH    0.12  \n",
              "4                        S                  HIGH    0.12  \n",
              "...                    ...                   ...     ...  \n",
              "12254                    S                  HIGH    0.06  \n",
              "12255                    S                   LOW    0.25  \n",
              "12256                    R                  HIGH      >8  \n",
              "12257                    S                  HIGH    0.06  \n",
              "12258                    S                  HIGH    0.12  \n",
              "\n",
              "[12259 rows x 5 columns]"
            ]
          },
          "execution_count": 4,
          "metadata": {},
          "output_type": "execute_result"
        }
      ],
      "source": [
        "labels"
      ]
    },
    {
      "cell_type": "code",
      "execution_count": null,
      "metadata": {
        "id": "DPziztS4xUgA"
      },
      "outputs": [],
      "source": [
        "labels['phenotype'] = labels['RIF_BINARY_PHENOTYPE'].replace({'S': 1, 'R': 0})\n",
        "y = np.array(labels['phenotype'])"
      ]
    },
    {
      "cell_type": "code",
      "execution_count": null,
      "metadata": {
        "id": "9Ux5dF05eE52"
      },
      "outputs": [],
      "source": [
        "def load_and_concatenate_npy_files(npy_files):\n",
        "    \"\"\"Load and concatenate all .npy files.\"\"\"\n",
        "    arrays = np.load(npy_files, allow_pickle=True)\n",
        "    if arrays.size == 0 or arrays.size == 1:\n",
        "      return None\n",
        "    concatenated_array = np.squeeze(arrays)\n",
        "    return concatenated_array[0,:]"
      ]
    },
    {
      "cell_type": "code",
      "execution_count": null,
      "metadata": {
        "id": "xDUZgMgTQxM0"
      },
      "outputs": [],
      "source": [
        "import os\n",
        "import fnmatch\n",
        "import numpy as np\n",
        "\n",
        "def find_npy_files(base_dir, pattern):\n",
        "    \"\"\"Recursively find all .npy files matching the pattern in base_dir.\"\"\"\n",
        "    npy_files = []\n",
        "    for root, _, files in os.walk(base_dir):\n",
        "        for file in files:\n",
        "            if fnmatch.fnmatch(file, pattern):\n",
        "                npy_files.append(os.path.join(root, file))\n",
        "    return npy_files[0]\n",
        "\n",
        "files_list = labels['UNIQUEID'].tolist()"
      ]
    },
    {
      "cell_type": "code",
      "execution_count": null,
      "metadata": {
        "id": "J14Yih0Kxf-5"
      },
      "outputs": [],
      "source": [
        "import csv\n",
        "\n",
        "# Define the path to the CSV file\n",
        "file_path = '/content/drive/MyDrive/npy_files_final.csv'\n",
        "\n",
        "# Initialize an empty list to hold the CSV data\n",
        "csv_data = []\n",
        "\n",
        "# Open and read the CSV file\n",
        "with open(file_path, newline='') as csvfile:\n",
        "    csvreader = csv.reader(csvfile)\n",
        "    for row in csvreader:\n",
        "        # Append the entire row (which is a list of values) to csv_data\n",
        "        csv_data.extend(row)"
      ]
    },
    {
      "cell_type": "code",
      "execution_count": null,
      "metadata": {
        "colab": {
          "base_uri": "https://localhost:8080/"
        },
        "id": "wVyTw7F9xmKn",
        "outputId": "b896c11d-ce52-4b50-d955-9e24eb3f7e60"
      },
      "outputs": [
        {
          "data": {
            "text/plain": [
              "['/content/drive/MyDrive/BioE212/EVO/rif_embeddings_v1/embeds_1.0_singles/site_02/site.02.subj.0001.lab.2014222001.iso.1.npy',\n",
              " '/content/drive/MyDrive/BioE212/EVO/rif_embeddings_v1/embeds_1.0_singles/site_02/site.02.subj.0002.lab.2014222005.iso.1.npy',\n",
              " '/content/drive/MyDrive/BioE212/EVO/rif_embeddings_v1/embeds_1.0_singles/site_02/site.02.subj.0004.lab.2014222010.iso.1.npy',\n",
              " '/content/drive/MyDrive/BioE212/EVO/rif_embeddings_v1/embeds_1.0_singles/site_02/site.02.subj.0005.lab.2014222011.iso.1.npy',\n",
              " '/content/drive/MyDrive/BioE212/EVO/rif_embeddings_v1/embeds_1.0_singles/site_02/site.02.subj.0006.lab.2014222013.iso.1.npy',\n",
              " '/content/drive/MyDrive/BioE212/EVO/rif_embeddings_v1/embeds_1.0_singles/site_02/site.02.subj.0007.lab.2014222016.iso.1.npy',\n",
              " '/content/drive/MyDrive/BioE212/EVO/rif_embeddings_v1/embeds_1.0_singles/site_02/site.02.subj.0008.lab.2014222017.iso.1.npy',\n",
              " '/content/drive/MyDrive/BioE212/EVO/rif_embeddings_v1/embeds_1.0_singles/site_02/site.02.subj.0009.lab.2014222037.iso.1.npy',\n",
              " '/content/drive/MyDrive/BioE212/EVO/rif_embeddings_v1/embeds_1.0_singles/site_02/site.02.subj.0010.lab.2014222040.iso.1.npy',\n",
              " '/content/drive/MyDrive/BioE212/EVO/rif_embeddings_v1/embeds_1.0_singles/site_02/site.02.subj.0011.lab.2014222046.iso.1.npy']"
            ]
          },
          "execution_count": 9,
          "metadata": {},
          "output_type": "execute_result"
        }
      ],
      "source": [
        "csv_data[:10]"
      ]
    },
    {
      "cell_type": "code",
      "execution_count": null,
      "metadata": {
        "colab": {
          "background_save": true
        },
        "id": "HQEyFm53b0Wd"
      },
      "outputs": [],
      "source": [
        "import tensorflow as tf\n",
        "\n",
        "# Define a function to load and concatenate arrays in batches\n",
        "def load_and_concatenate_batches(npy_files, batch_size):\n",
        "    concatenated_batches = []\n",
        "    for start_index in range(0, len(npy_files), batch_size):\n",
        "        batch_files = npy_files[start_index:start_index+batch_size]\n",
        "        batch_list = []\n",
        "        for npy_file in batch_files:\n",
        "          array = load_and_concatenate_npy_files(npy_file)\n",
        "          if array is not None:\n",
        "            batch_list.append(np.squeeze(array))\n",
        "          else:\n",
        "            print(npy_file)\n",
        "        batch = np.stack(batch_list, axis=0)\n",
        "        batch = np.squeeze(batch)\n",
        "        np.save(str('/content/drive/MyDrive/rif_midembeddings_0527' + str(start_index) + \"_arrayfinal.npy\"), batch)\n",
        "        concatenated_batches.append(batch)\n",
        "        print(start_index)\n",
        "    concat_batch = np.vstack(concatenated_batches)\n",
        "\n",
        "    return concat_batch\n",
        "\n",
        "\n",
        "batch_size = 100  # Adjust batch size based on available GPU memory\n",
        "concatenated_array = load_and_concatenate_batches(csv_data, batch_size)\n"
      ]
    },
    {
      "cell_type": "code",
      "execution_count": null,
      "metadata": {
        "id": "0Rqn-29s-tXl"
      },
      "outputs": [],
      "source": [
        "nan_indices = np.isnan(y)\n",
        "y = y[~nan_indices]\n",
        "concatenated_array = concatenated_array[~nan_indices]\n",
        "X_train, X_test, y_train, y_test = train_test_split(concatenated_array, y, test_size=0.2, random_state=42)"
      ]
    },
    {
      "cell_type": "code",
      "execution_count": null,
      "metadata": {
        "id": "us3tJir029Fi"
      },
      "outputs": [],
      "source": [
        "from sklearn.linear_model import LogisticRegression\n",
        "from sklearn.model_selection import train_test_split\n",
        "from sklearn.metrics import accuracy_score\n",
        "import torch"
      ]
    },
    {
      "cell_type": "code",
      "execution_count": null,
      "metadata": {
        "id": "cQTVOaPA3zjS"
      },
      "outputs": [],
      "source": [
        "# Train a logistic regression model\n",
        "clf = LogisticRegression(multi_class='ovr')\n",
        "clf.fit(X_train, y_train)\n",
        "y_pred = clf.predict(X_test)\n",
        "accuracy = accuracy_score(y_test, y_pred)\n",
        "print(\"Accuracy:\", accuracy)\n",
        "for i in range(10):\n",
        "    print(f'Predicted: {y_pred[i]}, Actual: {y_test[i]}')"
      ]
    },
    {
      "cell_type": "code",
      "execution_count": null,
      "metadata": {
        "id": "DAladYjQ56oq"
      },
      "outputs": [],
      "source": [
        "from sklearn.metrics import confusion_matrix, accuracy_score, recall_score, precision_score\n",
        "cm = confusion_matrix(y_test, y_pred)\n",
        "tn, fp, fn, tp = cm.ravel()\n",
        "\n",
        "# Calculate sensitivity and specificity\n",
        "sensitivity = tp / (tp + fn)\n",
        "specificity = tn / (tn + fp)\n",
        "\n",
        "print(f'Confusion Matrix:\\n{cm}')\n",
        "print(f'Sensitivity (Recall): {sensitivity}')\n",
        "print(f'Specificity: {specificity}')"
      ]
    },
    {
      "cell_type": "code",
      "execution_count": null,
      "metadata": {
        "id": "4kN2XJMz2waM"
      },
      "outputs": [],
      "source": [
        "#PCA\n",
        "\n",
        "import matplotlib.pyplot as plt\n",
        "from sklearn.decomposition import PCA"
      ]
    },
    {
      "cell_type": "code",
      "execution_count": null,
      "metadata": {
        "id": "7SPpgAvD5Zhm"
      },
      "outputs": [],
      "source": [
        "import matplotlib.pyplot as plt\n",
        "from sklearn.decomposition import PCA\n",
        "\n",
        "# Perform PCA\n",
        "pca = PCA(n_components=2)\n",
        "pca_result = pca.fit_transform(concatenated_array)\n",
        "\n",
        "# Calculate the percent variation accounted for by each component\n",
        "explained_variance = pca.explained_variance_ratio_ * 100\n",
        "\n",
        "# Plot the PCA results\n",
        "plt.figure(figsize=(10, 8))\n",
        "scatter = plt.scatter(pca_result[:, 0], pca_result[:, 1], c=y, cmap='viridis', s=50, alpha=0.7)\n",
        "\n",
        "# Adding a color bar\n",
        "cbar = plt.colorbar(scatter)\n",
        "cbar.set_label('Values')\n",
        "\n",
        "# Annotate the axes with the percent variation\n",
        "plt.xlabel(f'PCA Component 1 ({explained_variance[0]:.2f}% variance)')\n",
        "plt.ylabel(f'PCA Component 2 ({explained_variance[1]:.2f}% variance)')\n",
        "plt.title('PCA of Embeddings for RIF Resistance Prediction')\n",
        "plt.show()"
      ]
    },
    {
      "cell_type": "code",
      "execution_count": null,
      "metadata": {
        "id": "wYdETqut5lKF"
      },
      "outputs": [],
      "source": [
        "'''\n",
        "import numpy as np\n",
        "from sklearn.decomposition import IncrementalPCA\n",
        "\n",
        "# Assuming embeddings is a numpy array of shape (num_samples, original_dim)\n",
        "n_components = 100  # Reduce to 2 dimensions\n",
        "batch_size = 200  # Number of samples per batch\n",
        "\n",
        "ipca = IncrementalPCA(n_components=n_components)\n",
        "\n",
        "for batch in np.array_split(sample_resize, len(sample_resize) // batch_size):\n",
        "    ipca.partial_fit(batch)\n",
        "\n",
        "reduced_embeddings = ipca.transform(sample_resize)\n",
        "\n",
        "print(\"Original shape:\", sample_resize.shape)\n",
        "print(\"Reduced shape:\", reduced_embeddings.shape)\n",
        "\n",
        "'''"
      ]
    },
    {
      "cell_type": "code",
      "execution_count": null,
      "metadata": {
        "id": "GAVQK0Dc5opA"
      },
      "outputs": [],
      "source": []
    }
  ],
  "metadata": {
    "colab": {
      "provenance": []
    },
    "kernelspec": {
      "display_name": "Python 3",
      "name": "python3"
    },
    "language_info": {
      "name": "python"
    }
  },
  "nbformat": 4,
  "nbformat_minor": 0
}