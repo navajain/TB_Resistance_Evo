{
 "cells": [
  {
   "cell_type": "code",
   "execution_count": 1,
   "id": "2888e409",
   "metadata": {
    "scrolled": true
   },
   "outputs": [
    {
     "name": "stdout",
     "output_type": "stream",
     "text": [
      "Defaulting to user installation because normal site-packages is not writeable\n",
      "Requirement already satisfied: scikit-learn in /home/users/benson97/.local/lib/python3.9/site-packages (1.5.0)\n",
      "Requirement already satisfied: numpy>=1.19.5 in /home/users/benson97/.local/lib/python3.9/site-packages (from scikit-learn) (1.26.4)\n",
      "Requirement already satisfied: scipy>=1.6.0 in /home/users/benson97/.local/lib/python3.9/site-packages (from scikit-learn) (1.13.1)\n",
      "Requirement already satisfied: joblib>=1.2.0 in /home/users/benson97/.local/lib/python3.9/site-packages (from scikit-learn) (1.4.2)\n",
      "Requirement already satisfied: threadpoolctl>=3.1.0 in /home/users/benson97/.local/lib/python3.9/site-packages (from scikit-learn) (3.5.0)\n"
     ]
    }
   ],
   "source": [
    "!pip install scikit-learn"
   ]
  },
  {
   "cell_type": "code",
   "execution_count": null,
   "id": "d4421e7e",
   "metadata": {
    "scrolled": false
   },
   "outputs": [],
   "source": [
    "def get_batch(X_train, index):\n",
    "    i = index\n",
    "    result = []\n",
    "    for val in X_train:\n",
    "        result.append(val[i])\n",
    "        \n",
    "    return np.array(result)\n",
    "\n",
    "batch = get_batch(df['EMBED'], 385)\n",
    "preds = clf.predict(batch)\n",
    "\n",
    "\n",
    "classification_report(\n",
    "  df['LABEL'], \n",
    "    preds,\n",
    "  output_dict=True)\n",
    "\n",
    "\n",
    "\n",
    "    "
   ]
  },
  {
   "cell_type": "code",
   "execution_count": 3,
   "id": "f101d1a2",
   "metadata": {},
   "outputs": [],
   "source": [
    "import os\n",
    "import time\n",
    "import numpy as np\n",
    "import pandas as pd\n",
    "import matplotlib.pyplot as plt\n",
    "\n",
    "from sklearn.linear_model import LogisticRegression\n",
    "from sklearn.metrics import classification_report\n",
    "from os import walk\n",
    "from tqdm import tqdm"
   ]
  },
  {
   "cell_type": "code",
   "execution_count": 4,
   "id": "2dc2e51b",
   "metadata": {},
   "outputs": [
    {
     "name": "stderr",
     "output_type": "stream",
     "text": [
      "100%|██████████| 12072/12072 [07:50<00:00, 25.65it/s]\n"
     ]
    }
   ],
   "source": [
    "\"\"\"\n",
    "    site sizes:\n",
    "    {'02': 1062, '03': 1087, '04': 1486, \n",
    "     '05': 2576, '06': 1804, '08': 1274, \n",
    "     '10': 1584, '11': 354, '14': 336, \n",
    "     '17': 70, '20': 439}\n",
    "\n",
    "\"\"\"\n",
    "mypath = '/scratch/users/benson97/embeddings_rif/'\n",
    "# resultspath = mypath + 'results/' + 'rif_predictions_200_400_full_embedding.npy'\n",
    "df = pd.read_csv('/scratch/users/benson97/' + 'rif_labels.csv')\n",
    "\n",
    "# modify the number of sites as \n",
    "# we upload more sites to Sherlock...\n",
    "sites = [\n",
    "    '02',\n",
    "    '03',\n",
    "    '04',\n",
    "    '05',\n",
    "    '06',\n",
    "    '08',\n",
    "    '10',\n",
    "    '11',\n",
    "    '14',\n",
    "    '17',\n",
    "    '20'\n",
    "]\n",
    "\n",
    "site_dfs = []\n",
    "for s in sites:\n",
    "    site_dfs.append(\n",
    "        df[df.UNIQUEID.str.contains('site.' + s)].reset_index(drop=True)\n",
    "    )\n",
    "\n",
    "df = pd.concat(site_dfs).reset_index(drop=True)\n",
    "\n",
    "def get_site(uniqueid):\n",
    "    return uniqueid.split('.')[1]\n",
    "\n",
    "X = []\n",
    "for uniqueid in tqdm(df['UNIQUEID']):\n",
    "    if not os.path.exists(mypath + 'site_' + get_site(uniqueid) + '/' + uniqueid + '.npy'):\n",
    "        print('Oh no! ' + uniqueid + ' is missing!')\n",
    "    else:\n",
    "#         X.append(\n",
    "#             np.load(mypath + 'site_' + get_site(uniqueid) + '/' + uniqueid + '.npy').flatten()\n",
    "#         )\n",
    "        \n",
    "       X.append(\n",
    "            np.load(mypath + 'site_' + get_site(uniqueid) + '/' + uniqueid + '.npy')\n",
    "        )\n",
    "        \n",
    "# X = pd.DataFrame({'EMBED':X})\n",
    "\n",
    "# y = [\n",
    "#     0 if label == 'S' else 1 for label in df['RIF_BINARY_PHENOTYPE']\n",
    "# ]\n",
    "# y = pd.DataFrame({'LABEL':y})\n",
    "\n",
    "# df = pd.concat([df, X, y], axis=1)\n"
   ]
  },
  {
   "cell_type": "code",
   "execution_count": 5,
   "id": "88b95cda",
   "metadata": {},
   "outputs": [],
   "source": [
    "def cosine_similarity(vec1, vec2):\n",
    "    vec1 = np.array(vec1)\n",
    "    vec2 = np.array(vec2)\n",
    "    \n",
    "    dot_product = np.dot(vec1, vec2)\n",
    "    norm_vec1 = np.linalg.norm(vec1)\n",
    "    norm_vec2 = np.linalg.norm(vec2)\n",
    "    \n",
    "    return dot_product / (norm_vec1 * norm_vec2)\n",
    "\n",
    "def calculate_sim(embed):\n",
    "    result = []\n",
    "    for i in range(len(embed)):\n",
    "        for j in range(i + 1, len(embed)):\n",
    "            result.append(cosine_similarity(embed[i], embed[j]))\n",
    "    return result"
   ]
  },
  {
   "cell_type": "code",
   "execution_count": 6,
   "id": "392eceb4",
   "metadata": {},
   "outputs": [],
   "source": [
    "def calculate_statistics(results):\n",
    "    return {\n",
    "        'mean': np.mean(results),\n",
    "        'std': np.std(results)\n",
    "    }"
   ]
  },
  {
   "cell_type": "code",
   "execution_count": 9,
   "id": "be2ec340",
   "metadata": {},
   "outputs": [],
   "source": [
    "X = pd.DataFrame({'EMBED':X})"
   ]
  },
  {
   "cell_type": "code",
   "execution_count": 10,
   "id": "3145c605",
   "metadata": {},
   "outputs": [
    {
     "ename": "AttributeError",
     "evalue": "'DataFrame' object has no attribute 'to_list'",
     "output_type": "error",
     "traceback": [
      "\u001b[0;31m---------------------------------------------------------------------------\u001b[0m",
      "\u001b[0;31mAttributeError\u001b[0m                            Traceback (most recent call last)",
      "\u001b[0;32m/tmp/ipykernel_46988/2519721893.py\u001b[0m in \u001b[0;36m<module>\u001b[0;34m\u001b[0m\n\u001b[1;32m      1\u001b[0m \u001b[0msamples\u001b[0m \u001b[0;34m=\u001b[0m \u001b[0mX\u001b[0m\u001b[0;34m.\u001b[0m\u001b[0msample\u001b[0m\u001b[0;34m(\u001b[0m\u001b[0mn\u001b[0m\u001b[0;34m=\u001b[0m\u001b[0;36m1000\u001b[0m\u001b[0;34m)\u001b[0m\u001b[0;34m\u001b[0m\u001b[0;34m\u001b[0m\u001b[0m\n\u001b[0;32m----> 2\u001b[0;31m \u001b[0msamples\u001b[0m \u001b[0;34m=\u001b[0m \u001b[0msamples\u001b[0m\u001b[0;34m.\u001b[0m\u001b[0mto_list\u001b[0m\u001b[0;34m(\u001b[0m\u001b[0;34m)\u001b[0m\u001b[0;34m\u001b[0m\u001b[0;34m\u001b[0m\u001b[0m\n\u001b[0m",
      "\u001b[0;32m~/.local/lib/python3.9/site-packages/pandas/core/generic.py\u001b[0m in \u001b[0;36m__getattr__\u001b[0;34m(self, name)\u001b[0m\n\u001b[1;32m   6297\u001b[0m         ):\n\u001b[1;32m   6298\u001b[0m             \u001b[0;32mreturn\u001b[0m \u001b[0mself\u001b[0m\u001b[0;34m[\u001b[0m\u001b[0mname\u001b[0m\u001b[0;34m]\u001b[0m\u001b[0;34m\u001b[0m\u001b[0;34m\u001b[0m\u001b[0m\n\u001b[0;32m-> 6299\u001b[0;31m         \u001b[0;32mreturn\u001b[0m \u001b[0mobject\u001b[0m\u001b[0;34m.\u001b[0m\u001b[0m__getattribute__\u001b[0m\u001b[0;34m(\u001b[0m\u001b[0mself\u001b[0m\u001b[0;34m,\u001b[0m \u001b[0mname\u001b[0m\u001b[0;34m)\u001b[0m\u001b[0;34m\u001b[0m\u001b[0;34m\u001b[0m\u001b[0m\n\u001b[0m\u001b[1;32m   6300\u001b[0m \u001b[0;34m\u001b[0m\u001b[0m\n\u001b[1;32m   6301\u001b[0m     \u001b[0;34m@\u001b[0m\u001b[0mfinal\u001b[0m\u001b[0;34m\u001b[0m\u001b[0;34m\u001b[0m\u001b[0m\n",
      "\u001b[0;31mAttributeError\u001b[0m: 'DataFrame' object has no attribute 'to_list'"
     ]
    }
   ],
   "source": [
    "samples = X.sample(n=1000)\n",
    "samples = samples.to_list()"
   ]
  },
  {
   "cell_type": "code",
   "execution_count": null,
   "id": "3c75fbf1",
   "metadata": {},
   "outputs": [
    {
     "name": "stderr",
     "output_type": "stream",
     "text": [
      " 15%|█▌        | 150/1000 [06:24<36:25,  2.57s/it]"
     ]
    }
   ],
   "source": [
    "statistics = []\n",
    "for sample in tqdm(samples['EMBED']):\n",
    "    statistics.append(\n",
    "        calculate_statistics(calculate_sim(sample))\n",
    "    )\n",
    "np.save('sample_n_1000_statistics.npy', statistics)"
   ]
  },
  {
   "cell_type": "code",
   "execution_count": null,
   "id": "cbed23ec",
   "metadata": {},
   "outputs": [],
   "source": [
    "np.save('sample_n_1000_statistics.npy', statistics)"
   ]
  },
  {
   "cell_type": "code",
   "execution_count": null,
   "id": "7053ea2b",
   "metadata": {},
   "outputs": [],
   "source": [
    "sites = []\n",
    "for id in df['UNIQUEID']:\n",
    "    sites.append(get_site(id))\n",
    "sites = pd.DataFrame({'SITE':sites})\n",
    "\n",
    "df = pd.concat([df, sites], axis=1)"
   ]
  },
  {
   "cell_type": "code",
   "execution_count": null,
   "id": "f08d5232",
   "metadata": {},
   "outputs": [],
   "source": [
    "df_2 = df[df.SITE == '02']"
   ]
  },
  {
   "cell_type": "code",
   "execution_count": null,
   "id": "811e9e85",
   "metadata": {},
   "outputs": [],
   "source": [
    "i = 385\n",
    "def get_batch(X_train, index):\n",
    "    i = index\n",
    "    result = []\n",
    "    for val in X_train:\n",
    "        result.append(val[i])\n",
    "    return np.array(result)\n",
    "\n",
    "from sklearn.model_selection import train_test_split\n",
    "\n",
    "X_train, X_test, y_train, y_test = train_test_split(df_2['EMBED'],\n",
    "                                                   df_2['LABEL'],\n",
    "                                                   test_size=0.2,\n",
    "                                                   random_state=42)\n",
    "\n",
    "X_val, X_test, y_val, y_test = train_test_split(X_test, \n",
    "                                               y_test, \n",
    "                                               test_size=0.5, \n",
    "                                               random_state=42)\n",
    "\n",
    "X_train_i = get_batch(X_train, i)\n",
    "clf_2 = LogisticRegression(\n",
    "    max_iter=1000,\n",
    "    n_jobs=-1,\n",
    "    C=10\n",
    ")\n",
    "\n",
    "clf_2.fit(X_train_i, y_train.to_list())\n",
    "\n",
    "X_test_i = get_batch(X_test, i)\n",
    "test_pred_2 = clf.predict_proba(X_test_i)\n",
    "\n",
    "two_y_test = y_test.to_list()\n",
    "two_y_preds = test_pred_2\n",
    "\n",
    "# fpr, tpr, thresholds = metrics.roc_curve(y_test.to_list(), test_pred_ALL[:,1])\n",
    "# roc_auc = metrics.auc(fpr, tpr)\n",
    "# display = metrics.RocCurveDisplay(fpr=fpr, tpr=tpr, roc_auc=roc_auc,\n",
    "#                                   estimator_name='All sites')"
   ]
  },
  {
   "cell_type": "code",
   "execution_count": null,
   "id": "6ef6d31c",
   "metadata": {},
   "outputs": [],
   "source": [
    "fpr, tpr, thresholds = metrics.roc_curve(two_y_test, two_y_preds[:,1])\n",
    "auc = metrics.roc_auc_score(two_y_test, two_y_preds[:,1])\n",
    "plt.plot(fpr, tpr, label='%s ROC (area = %0.2f)' % ('model', auc))"
   ]
  },
  {
   "cell_type": "code",
   "execution_count": null,
   "id": "c20929dc",
   "metadata": {},
   "outputs": [],
   "source": [
    "from sklearn import metrics\n",
    "\n",
    "# X_test_i = get_batch(X_test, i)\n",
    "# test_pred_ALL = clf.predict_proba(X_test_i)\n",
    "\n",
    "# all_y_test = y_test.to_list()\n",
    "# all_y_preds = test_pred_ALL\n",
    "fpr, tpr, thresholds = metrics.roc_curve(two_y_test, two_y_preds[:,1])\n",
    "auc = metrics.roc_auc_score(two_y_test, two_y_preds[:,1])\n",
    "plt.plot(fpr, tpr, label='%s ROC (area = %0.2f)' % ('Site 2', auc))\n",
    "\n",
    "fpr, tpr, thresholds = metrics.roc_curve(all_y_test, all_y_preds[:,1])\n",
    "auc = metrics.roc_auc_score(all_y_test, all_y_preds[:,1])\n",
    "plt.plot(fpr, tpr, label='%s ROC (area = %0.2f)' % ('All sites', auc))\n",
    "\n",
    "plt.plot([0, 1], [0, 1],'r--')\n",
    "plt.xlim([0.0, 1.0])\n",
    "plt.ylim([0.0, 1.0])\n",
    "plt.xlabel('1 - Specificity (False Positive Rate)')\n",
    "plt.ylabel('Sensitivity (True Positive Rate)')\n",
    "# plt.title('Receiver Operating Characteristic')\n",
    "plt.legend(loc=\"lower right\")\n",
    "# plt.show()   # Display\n",
    "\n",
    "ax = plt.gca()\n",
    "ax.set_aspect('equal', adjustable='box')\n",
    "\n",
    "plt.savefig('figure_auroc.png', dpi=1000)\n",
    "plt.show()"
   ]
  },
  {
   "cell_type": "code",
   "execution_count": null,
   "id": "9edfcd27",
   "metadata": {},
   "outputs": [],
   "source": [
    "i = 385\n",
    "def get_batch(X_train, index):\n",
    "    i = index\n",
    "    result = []\n",
    "    for val in X_train:\n",
    "        result.append(val[i])\n",
    "    return np.array(result)\n",
    "\n",
    "from sklearn.model_selection import train_test_split\n",
    "\n",
    "X_train, X_test, y_train, y_test = train_test_split(df_2['EMBED'],\n",
    "                                                   df_2['LABEL'],\n",
    "                                                   test_size=0.2,\n",
    "                                                   random_state=42)\n",
    "\n",
    "X_val, X_test, y_val, y_test = train_test_split(X_test, \n",
    "                                               y_test, \n",
    "                                               test_size=0.5, \n",
    "                                               random_state=42)\n",
    "\n",
    "X_train_i = get_batch(X_train, i)\n",
    "clf_2 = LogisticRegression(\n",
    "    max_iter=1000,\n",
    "    n_jobs=-1,\n",
    "    C=10\n",
    ")\n",
    "\n",
    "\n",
    "clf_2.fit(X_train_i, y_train.to_list())\n",
    "\n",
    "X_test_i = get_batch(X_test, i)\n",
    "\n",
    "test_pred_ALL = clf_2.predict_proba(X_test_i)\n",
    "\n",
    "fpr, tpr, thresholds = metrics.roc_curve(y_test.to_list(), test_pred_ALL[:,1])\n",
    "roc_auc = metrics.auc(fpr, tpr)\n",
    "display = metrics.RocCurveDisplay(fpr=fpr, tpr=tpr, roc_auc=roc_auc,\n",
    "                                  estimator_name='Site 2')\n",
    "\n",
    "X_train, X_test, y_train, y_test = train_test_split(df['EMBED'],\n",
    "                                                   df['LABEL'],\n",
    "                                                   test_size=0.2,\n",
    "                                                   random_state=42)\n",
    "\n",
    "X_val, X_test, y_val, y_test = train_test_split(X_test, \n",
    "                                               y_test, \n",
    "                                               test_size=0.5, \n",
    "                                               random_state=42)\n",
    "\n",
    "X_train_i = get_batch(X_train, i)\n",
    "clf = LogisticRegression(\n",
    "    max_iter=1000,\n",
    "    n_jobs=-1,\n",
    "    C=10\n",
    ")\n",
    "\n",
    "clf.fit(X_train_i, y_train.to_list())\n",
    "\n",
    "test_pred_ALL = clf.predict_proba(X_test_i)\n",
    "\n",
    "fpr, tpr, thresholds = metrics.roc_curve(y_test.to_list(), test_pred_ALL[:,1])\n",
    "roc_auc = metrics.auc(fpr, tpr)\n",
    "display = metrics.RocCurveDisplay(fpr=fpr, tpr=tpr, roc_auc=roc_auc,\n",
    "                                  estimator_name='All sites')\n",
    "\n",
    "display.plot()\n",
    "\n",
    "\n",
    "plt.savefig('figure_lg_auroc.png', dpi=1000)\n",
    "plt.show()"
   ]
  },
  {
   "cell_type": "code",
   "execution_count": null,
   "id": "b5418492",
   "metadata": {},
   "outputs": [],
   "source": [
    "from sklearn.model_selection import train_test_split\n",
    "\n",
    "X_train, X_test, y_train, y_test = train_test_split(df['EMBED'],\n",
    "                                                   df['LABEL'],\n",
    "                                                   test_size=0.2,\n",
    "                                                   random_state=42)\n",
    "\n",
    "X_val, X_test, y_val, y_test = train_test_split(X_test, \n",
    "                                               y_test, \n",
    "                                               test_size=0.5, \n",
    "                                               random_state=42)\n",
    "\n",
    "from sklearn.metrics import confusion_matrix\n",
    "from sklearn.metrics import classification_report\n",
    "import time\n",
    "\n",
    "def get_batch(X_train, index):\n",
    "    i = index\n",
    "    result = []\n",
    "    for val in X_train:\n",
    "        result.append(val[i])\n",
    "    return np.array(result)\n",
    "\n",
    "results = []\n",
    "for i in tqdm(range(500)):\n",
    "\n",
    "    X_train_i = get_batch(X_train, i)\n",
    "    clf = LogisticRegression(\n",
    "        max_iter=1000,\n",
    "        n_jobs=-1,\n",
    "        C=10\n",
    "    )\n",
    "\n",
    "    clf.fit(X_train_i, y_train.to_list())\n",
    "\n",
    "    X_test_i = get_batch(X_val, i)\n",
    "    \n",
    "    test_pred = clf.predict(X_test_i)\n",
    "    results.append(\n",
    "                    classification_report(\n",
    "                          y_val.to_list(), \n",
    "                          test_pred,\n",
    "                          output_dict=True)\n",
    "        \n",
    "    )\n",
    "\n",
    "\n",
    "    print('------------------- Embedding {i} results ------------------'.format(i=i))\n",
    "    print(results[-1]['0'])\n",
    "    print(results[-1]['1'])"
   ]
  },
  {
   "cell_type": "code",
   "execution_count": null,
   "id": "b80ad1df",
   "metadata": {},
   "outputs": [],
   "source": [
    "def get_site(uniqueid):\n",
    "    return uniqueid.split('.')[1]\n",
    "\n",
    "X = []\n",
    "for uniqueid in tqdm(df['UNIQUEID']):\n",
    "    if not os.path.exists(mypath + 'site_' + get_site(uniqueid) + '/' + uniqueid + '.npy'):\n",
    "        print('Oh no! ' + uniqueid + ' is missing!')\n",
    "    else:\n",
    "#         X.append(\n",
    "#             np.load(mypath + 'site_' + get_site(uniqueid) + '/' + uniqueid + '.npy').flatten()\n",
    "#         )\n",
    "        \n",
    "       X.append(\n",
    "            np.load(mypath + 'site_' + get_site(uniqueid) + '/' + uniqueid + '.npy')\n",
    "        )\n",
    "        \n",
    "X = pd.DataFrame({'EMBED':X})\n",
    "\n",
    "y = [\n",
    "    0 if label == 'S' else 1 for label in df['RIF_BINARY_PHENOTYPE']\n",
    "]\n",
    "y = pd.DataFrame({'LABEL':y})\n",
    "\n",
    "df = pd.concat([df, X, y], axis=1)\n",
    "\n",
    "from sklearn.model_selection import train_test_split\n",
    "\n",
    "X_train, X_test, y_train, y_test = train_test_split(df['EMBED'],\n",
    "                                                   df['LABEL'],\n",
    "                                                   test_size=0.2,\n",
    "                                                   random_state=42)\n",
    "\n",
    "X_val, X_test, y_val, y_test = train_test_split(X_test, \n",
    "                                               y_test, \n",
    "                                               test_size=0.5, \n",
    "                                               random_state=42)"
   ]
  },
  {
   "cell_type": "code",
   "execution_count": null,
   "id": "dcec665c",
   "metadata": {},
   "outputs": [],
   "source": [
    "df_ALL = df"
   ]
  },
  {
   "cell_type": "code",
   "execution_count": null,
   "id": "450be29b",
   "metadata": {},
   "outputs": [],
   "source": [
    "from sklearn.metrics import confusion_matrix\n",
    "from sklearn.metrics import classification_report\n",
    "import time\n",
    "\n",
    "def get_batch(X_train, index):\n",
    "    i = index\n",
    "    result = []\n",
    "    for val in X_train:\n",
    "        result.append(val[i])\n",
    "    return np.array(result)\n",
    "\n",
    "results = []\n",
    "for i in tqdm(range(500)):\n",
    "\n",
    "    X_train_i = get_batch(X_train, i)\n",
    "    clf = LogisticRegression(\n",
    "        max_iter=1000,\n",
    "        n_jobs=-1,\n",
    "        C=10\n",
    "    )\n",
    "\n",
    "    clf.fit(X_train_i, y_train.to_list())\n",
    "\n",
    "    X_test_i = get_batch(X_val, i)\n",
    "    \n",
    "    test_pred = clf.predict(X_test_i)d\n",
    "    results.append(\n",
    "                    classification_report(\n",
    "                          y_val.to_list(), \n",
    "                          test_pred,\n",
    "                          output_dict=True)\n",
    "        \n",
    "    )\n",
    "\n",
    "\n",
    "    print('------------------- Embedding {i} results ------------------'.format(i=i))\n",
    "    print(results[-1]['0'])\n",
    "    print(results[-1]['1'])"
   ]
  },
  {
   "cell_type": "code",
   "execution_count": null,
   "id": "41514479",
   "metadata": {},
   "outputs": [],
   "source": [
    "def get_results(data, key, subkey):\n",
    "    results = []\n",
    "    for r in data:\n",
    "        results.append(r[key][subkey])\n",
    "    return results"
   ]
  },
  {
   "cell_type": "code",
   "execution_count": null,
   "id": "190c48ad",
   "metadata": {},
   "outputs": [],
   "source": [
    "# df_ALL\n",
    "results_ALL = results"
   ]
  },
  {
   "cell_type": "code",
   "execution_count": null,
   "id": "3066f3b7",
   "metadata": {},
   "outputs": [],
   "source": [
    "df_2 = df"
   ]
  },
  {
   "cell_type": "code",
   "execution_count": null,
   "id": "c81b8a82",
   "metadata": {},
   "outputs": [],
   "source": [
    "from sklearn.model_selection import train_test_split\n",
    "\n",
    "X_train, X_test, y_train, y_test = train_test_split(df_2['EMBED'],\n",
    "                                                   df_2['LABEL'],\n",
    "                                                   test_size=0.2,\n",
    "                                                   random_state=42)\n",
    "\n",
    "X_val, X_test, y_val, y_test = train_test_split(X_test, \n",
    "                                               y_test, \n",
    "                                               test_size=0.5, \n",
    "                                               random_state=42)\n",
    "\n",
    "i=385\n",
    "def get_batch(X_train, index):\n",
    "    i = index\n",
    "    result = []\n",
    "    for val in X_train:\n",
    "        result.append(val[i])\n",
    "    return np.array(result)\n",
    "\n",
    "X_train_i = get_batch(X_train, i)\n",
    "clf = LogisticRegression(\n",
    "    max_iter=1000,\n",
    "    n_jobs=-1,\n",
    "    C=10\n",
    ")"
   ]
  },
  {
   "cell_type": "code",
   "execution_count": null,
   "id": "6a73def1",
   "metadata": {},
   "outputs": [],
   "source": [
    "i=385\n",
    "def get_batch(X_train, index):\n",
    "    i = index\n",
    "    result = []\n",
    "    for val in X_train:\n",
    "        result.append(val[i])\n",
    "    return np.array(result)\n",
    "\n",
    "X_train_i = get_batch(X_train, i)\n",
    "clf = LogisticRegression(\n",
    "    max_iter=1000,\n",
    "    n_jobs=-1,\n",
    "    C=10\n",
    ")\n",
    "\n",
    "clf.fit(X_train_i, y_train.to_list())\n",
    "\n",
    "X_test_i = get_batch(X_test, i)\n",
    "\n",
    "test_pred_ALL = clf.predict_proba(X_test_i)\n",
    "\n",
    "fpr, tpr, thresholds = metrics.roc_curve(y_test.to_list(), test_pred_ALL[:,1])\n",
    "roc_auc = metrics.auc(fpr, tpr)\n",
    "display = metrics.RocCurveDisplay(fpr=fpr, tpr=tpr, roc_auc=roc_auc,\n",
    "                                  estimator_name='All sites')\n",
    "display.plot()\n",
    "plt.savefig('figure_lg_auroc.png', dpi=1000)\n",
    "plt.show()"
   ]
  },
  {
   "cell_type": "code",
   "execution_count": null,
   "id": "e8cf790a",
   "metadata": {},
   "outputs": [],
   "source": [
    "fpr, tpr, thresholds = metrics.roc_curve(y_test.to_list(), test_pred_ALL[:,1])\n",
    "roc_auc = metrics.auc(fpr, tpr)\n",
    "display = metrics.RocCurveDisplay(fpr=fpr, tpr=tpr, roc_auc=roc_auc,\n",
    "                                  estimator_name='All sites')\n",
    "display.plot()\n",
    "plt.savefig('figure_lg_auroc.png', dpi=1000)\n",
    "plt.show()"
   ]
  },
  {
   "cell_type": "code",
   "execution_count": 2,
   "id": "99a95b11",
   "metadata": {},
   "outputs": [
    {
     "name": "stderr",
     "output_type": "stream",
     "text": [
      "100%|██████████| 1062/1062 [00:22<00:00, 46.27it/s]\n"
     ]
    }
   ],
   "source": [
    "\"\"\"\n",
    "    site sizes:\n",
    "    {'02': 1062, '03': 1087, '04': 1486, \n",
    "     '05': 2576, '06': 1804, '08': 1274, \n",
    "     '10': 1584, '11': 354, '14': 336, \n",
    "     '17': 70, '20': 439}\n",
    "\n",
    "\"\"\"\n",
    "mypath = '/scratch/users/benson97/embeddings_rif/'\n",
    "# resultspath = mypath + 'results/' + 'rif_predictions_200_400_full_embedding.npy'\n",
    "df = pd.read_csv('/scratch/users/benson97/' + 'rif_labels.csv')\n",
    "\n",
    "# modify the number of sites as \n",
    "# we upload more sites to Sherlock...\n",
    "sites = [\n",
    "    '02',\n",
    "]\n",
    "\n",
    "site_dfs = []\n",
    "for s in sites:\n",
    "    site_dfs.append(\n",
    "        df[df.UNIQUEID.str.contains('site.' + s)].reset_index(drop=True)\n",
    "    )\n",
    "\n",
    "df = pd.concat(site_dfs).reset_index(drop=True)\n",
    "\n",
    "def get_site(uniqueid):\n",
    "    return uniqueid.split('.')[1]\n",
    "\n",
    "X = []\n",
    "for uniqueid in tqdm(df['UNIQUEID']):\n",
    "    if not os.path.exists(mypath + 'site_' + get_site(uniqueid) + '/' + uniqueid + '.npy'):\n",
    "        print('Oh no! ' + uniqueid + ' is missing!')\n",
    "    else:\n",
    "#         X.append(\n",
    "#             np.load(mypath + 'site_' + get_site(uniqueid) + '/' + uniqueid + '.npy').flatten()\n",
    "#         )\n",
    "        \n",
    "       X.append(\n",
    "            np.load(mypath + 'site_' + get_site(uniqueid) + '/' + uniqueid + '.npy')\n",
    "        )\n",
    "        \n",
    "X = pd.DataFrame({'EMBED':X})\n",
    "\n",
    "y = [\n",
    "    0 if label == 'S' else 1 for label in df['RIF_BINARY_PHENOTYPE']\n",
    "]\n",
    "y = pd.DataFrame({'LABEL':y})\n",
    "\n",
    "df = pd.concat([df, X, y], axis=1)\n",
    "\n",
    "from sklearn.model_selection import train_test_split\n",
    "\n",
    "X_train, X_test, y_train, y_test = train_test_split(df['EMBED'],\n",
    "                                                   df['LABEL'],\n",
    "                                                   test_size=0.2,\n",
    "                                                   random_state=42)\n",
    "\n",
    "X_val, X_test, y_val, y_test = train_test_split(X_test, \n",
    "                                               y_test, \n",
    "                                               test_size=0.5, \n",
    "                                               random_state=42)\n"
   ]
  },
  {
   "cell_type": "code",
   "execution_count": null,
   "id": "92ee64f7",
   "metadata": {},
   "outputs": [],
   "source": [
    "i = 123\n",
    "def get_batch(X_train, index):\n",
    "    i = index\n",
    "    result = []\n",
    "    for val in X_train:\n",
    "        result.append(val[i])\n",
    "    return np.array(result)\n",
    "\n",
    "X_train_i = get_batch(X_train, i)\n",
    "clf = LogisticRegression(\n",
    "    max_iter=1000,\n",
    "    n_jobs=-1,\n",
    "    C=10\n",
    ")\n",
    "\n",
    "clf.fit(X_train_i, y_train.to_list())\n",
    "\n",
    "X_test_i = get_batch(X_test, i)\n",
    "\n",
    "test_pred_2 = clf.predict(X_test_i)"
   ]
  },
  {
   "cell_type": "code",
   "execution_count": null,
   "id": "31239e54",
   "metadata": {},
   "outputs": [],
   "source": [
    "from numpy import dot\n",
    "from numpy.linalg import norm\n",
    "\n",
    "cos_sim = dot(a, b)/(norm(a)*norm(b))"
   ]
  },
  {
   "cell_type": "code",
   "execution_count": null,
   "id": "5e28abeb",
   "metadata": {},
   "outputs": [],
   "source": [
    "X_train, X_test, y_train, y_test = train_test_split(df['EMBED'],\n",
    "                                                   df['LABEL'],\n",
    "                                                   test_size=0.2,\n",
    "                                                   random_state=42)"
   ]
  },
  {
   "cell_type": "code",
   "execution_count": null,
   "id": "d1e9aa24",
   "metadata": {},
   "outputs": [],
   "source": [
    "i = 123\n",
    "def get_batch(X_train, index):\n",
    "    i = index\n",
    "    result = []\n",
    "    for val in X_train:\n",
    "        result.append(val[i])\n",
    "    return np.array(result)\n",
    "\n",
    "X_train_i = get_batch(X_train, i)\n",
    "clf = LogisticRegression(\n",
    "    max_iter=1000,\n",
    "    n_jobs=-1,\n",
    "    C=10\n",
    ")\n",
    "\n",
    "clf.fit(X_train_i, y_train.to_list())\n",
    "\n",
    "X_test_i = get_batch(X_test, i)\n",
    "\n",
    "test_pred = clf.predict(X_test_i)"
   ]
  },
  {
   "cell_type": "code",
   "execution_count": null,
   "id": "64e6ab90",
   "metadata": {},
   "outputs": [],
   "source": [
    "classification_report(\n",
    "      y_test.to_list(), \n",
    "      test_pred,\n",
    "      output_dict=True)"
   ]
  },
  {
   "cell_type": "code",
   "execution_count": null,
   "id": "ff68e96e",
   "metadata": {},
   "outputs": [],
   "source": [
    "fpr, tpr, thresholds = metrics.roc_curve(y_test.to_list(), test_pred)\n",
    "roc_auc = metrics.auc(fpr, tpr)\n",
    "display = metrics.RocCurveDisplay(fpr=fpr, tpr=tpr, roc_auc=roc_auc,\n",
    "                                  estimator_name='Site 2')\n",
    "display.plot()\n",
    "plt.savefig('figure_site2_auroc.png', dpi=1000)\n",
    "plt.show()"
   ]
  },
  {
   "cell_type": "code",
   "execution_count": null,
   "id": "5d403d72",
   "metadata": {},
   "outputs": [],
   "source": [
    "probs = clf.predict_proba(X_test_i)[:, 1]"
   ]
  },
  {
   "cell_type": "code",
   "execution_count": null,
   "id": "aa65bafb",
   "metadata": {},
   "outputs": [],
   "source": []
  },
  {
   "cell_type": "code",
   "execution_count": null,
   "id": "7dd36093",
   "metadata": {},
   "outputs": [],
   "source": [
    "roc_auc_score(\n",
    "    y_test.to_list(),\n",
    "    probs\n",
    ")"
   ]
  },
  {
   "cell_type": "code",
   "execution_count": 4,
   "id": "3e22cc8d",
   "metadata": {},
   "outputs": [
    {
     "name": "stderr",
     "output_type": "stream",
     "text": [
      "100%|██████████| 500/500 [02:50<00:00,  2.93it/s]\n"
     ]
    }
   ],
   "source": [
    "from sklearn.metrics import confusion_matrix\n",
    "from sklearn.metrics import classification_report\n",
    "import time\n",
    "\n",
    "def get_batch(X_train, index):\n",
    "    i = index\n",
    "    result = []\n",
    "    for val in X_train:\n",
    "        result.append(val[i])\n",
    "    return np.array(result)\n",
    "\n",
    "results = []\n",
    "for i in tqdm(range(500)):\n",
    "#     start = time.time()\n",
    "    X_train_i = get_batch(X_train, i)\n",
    "    clf = LogisticRegression(\n",
    "        max_iter=1000,\n",
    "        n_jobs=-1,\n",
    "        C=10\n",
    "    )\n",
    "\n",
    "    clf.fit(X_train_i, y_train.to_list())\n",
    "\n",
    "    X_test_i = get_batch(X_val, i)\n",
    "    \n",
    "    test_pred = clf.predict(X_test_i)\n",
    "    results.append(\n",
    "                    classification_report(\n",
    "                          y_val.to_list(), \n",
    "                          test_pred,\n",
    "                          output_dict=True)\n",
    "        \n",
    "    )\n",
    "\n",
    "\n",
    "#     print('------------------- Embedding {i} results ------------------'.format(i=i))\n",
    "#     print(results[-1]['0'])\n",
    "#     print(results[-1]['1'])"
   ]
  },
  {
   "cell_type": "code",
   "execution_count": 6,
   "id": "4e68b1e3",
   "metadata": {},
   "outputs": [],
   "source": [
    "np.save('report500_site2_only.npy', results)"
   ]
  },
  {
   "cell_type": "code",
   "execution_count": 7,
   "id": "563e4909",
   "metadata": {},
   "outputs": [],
   "source": [
    "def get_results(data, key, subkey):\n",
    "    results = []\n",
    "    for r in data:\n",
    "        results.append(r[key][subkey])\n",
    "    return results"
   ]
  },
  {
   "cell_type": "code",
   "execution_count": 15,
   "id": "f28cc766",
   "metadata": {},
   "outputs": [],
   "source": [
    "results = np.load('report500.npy', allow_pickle=True)"
   ]
  },
  {
   "cell_type": "code",
   "execution_count": 16,
   "id": "09ec4c9c",
   "metadata": {},
   "outputs": [],
   "source": [
    "i_spec = np.argmax(get_results(results, '0', 'recall'))\n",
    "i_sens = np.argmax(get_results(results, '1', 'recall'))\n",
    "i_general = np.argmax(get_results(results, 'macro avg', 'f1-score'))"
   ]
  },
  {
   "cell_type": "code",
   "execution_count": 21,
   "id": "b950b9e4",
   "metadata": {},
   "outputs": [
    {
     "data": {
      "text/plain": [
       "123"
      ]
     },
     "execution_count": 21,
     "metadata": {},
     "output_type": "execute_result"
    }
   ],
   "source": [
    "i_sens"
   ]
  },
  {
   "cell_type": "code",
   "execution_count": 22,
   "id": "6cb85040",
   "metadata": {},
   "outputs": [
    {
     "data": {
      "text/plain": [
       "123"
      ]
     },
     "execution_count": 22,
     "metadata": {},
     "output_type": "execute_result"
    }
   ],
   "source": [
    "i_general"
   ]
  },
  {
   "cell_type": "code",
   "execution_count": 17,
   "id": "952a94e7",
   "metadata": {},
   "outputs": [
    {
     "name": "stdout",
     "output_type": "stream",
     "text": [
      "{'0': {'precision': 0.6778149386845039, 'recall': 0.8194070080862533, 'f1-score': 0.7419158023184869, 'support': 742.0}, '1': {'precision': 0.567741935483871, 'recall': 0.37849462365591396, 'f1-score': 0.4541935483870968, 'support': 465.0}, 'accuracy': 0.6495443247721624, 'macro avg': {'precision': 0.6227784370841875, 'recall': 0.5989508158710837, 'f1-score': 0.5980546753527918, 'support': 1207.0}, 'weighted avg': {'precision': 0.6354090178159916, 'recall': 0.6495443247721624, 'f1-score': 0.6310700292628975, 'support': 1207.0}}\n"
     ]
    }
   ],
   "source": [
    "print(\n",
    "    results[i_spec],\n",
    ")"
   ]
  },
  {
   "cell_type": "code",
   "execution_count": 18,
   "id": "70c6a809",
   "metadata": {},
   "outputs": [
    {
     "name": "stdout",
     "output_type": "stream",
     "text": [
      "{'0': {'precision': 0.7448275862068966, 'recall': 0.7277628032345014, 'f1-score': 0.7361963190184049, 'support': 742.0}, '1': {'precision': 0.5809128630705395, 'recall': 0.6021505376344086, 'f1-score': 0.5913410770855333, 'support': 465.0}, 'accuracy': 0.6793703396851698, 'macro avg': {'precision': 0.662870224638718, 'recall': 0.6649566704344549, 'f1-score': 0.663768698051969, 'support': 1207.0}, 'weighted avg': {'precision': 0.6816789977575131, 'recall': 0.6793703396851698, 'f1-score': 0.6803904470227253, 'support': 1207.0}}\n"
     ]
    }
   ],
   "source": [
    "print(\n",
    "    results[i_sens]\n",
    ")"
   ]
  },
  {
   "cell_type": "code",
   "execution_count": 19,
   "id": "1578e0ac",
   "metadata": {},
   "outputs": [
    {
     "name": "stdout",
     "output_type": "stream",
     "text": [
      "{'0': {'precision': 0.7448275862068966, 'recall': 0.7277628032345014, 'f1-score': 0.7361963190184049, 'support': 742.0}, '1': {'precision': 0.5809128630705395, 'recall': 0.6021505376344086, 'f1-score': 0.5913410770855333, 'support': 465.0}, 'accuracy': 0.6793703396851698, 'macro avg': {'precision': 0.662870224638718, 'recall': 0.6649566704344549, 'f1-score': 0.663768698051969, 'support': 1207.0}, 'weighted avg': {'precision': 0.6816789977575131, 'recall': 0.6793703396851698, 'f1-score': 0.6803904470227253, 'support': 1207.0}}\n"
     ]
    }
   ],
   "source": [
    "print(results[i_general])"
   ]
  },
  {
   "cell_type": "code",
   "execution_count": null,
   "id": "5739a048",
   "metadata": {},
   "outputs": [],
   "source": [
    "from sklearn.metrics import confusion_matrix\n",
    "from sklearn.metrics import classification_report\n",
    "import time\n",
    "\n",
    "def get_batch(X_train, index):\n",
    "    i = index\n",
    "    result = []\n",
    "    for val in X_train:\n",
    "        result.append(val[i])\n",
    "    return np.array(result)\n",
    "\n",
    "results = []\n",
    "for i in range(500):\n",
    "    start = time.time()\n",
    "    X_train_i = get_batch(X_train, i)\n",
    "    clf = LogisticRegression(\n",
    "        max_iter=1000,\n",
    "        n_jobs=-1,\n",
    "        C=10\n",
    "    )\n",
    "\n",
    "    clf.fit(X_train_i, y_train.to_list())\n",
    "\n",
    "    X_test_i = get_batch(X_val, i)\n",
    "    \n",
    "    test_pred = clf.predict(X_test_i)\n",
    "    results.append(\n",
    "                    classification_report(\n",
    "                          y_val.to_list(), \n",
    "                          test_pred,\n",
    "                          output_dict=True)\n",
    "        \n",
    "    )\n",
    "    \n",
    "    end = time.time()\n",
    "    print('Iteration i required {s} seconds.'.format(s=(end - start)))\n",
    "\n",
    "\n",
    "    print('------------------- Embedding {i} results ------------------'.format(i=i))\n",
    "    print(results[-1]['0'])\n",
    "    print(results[-1]['1'])\n",
    "\n",
    "\n",
    "np.save(resultspath, results)"
   ]
  },
  {
   "cell_type": "code",
   "execution_count": null,
   "id": "ae97f860",
   "metadata": {},
   "outputs": [],
   "source": [
    "from sklearn.metrics import confusion_matrix\n",
    "from sklearn.metrics import classification_report\n",
    "from sklearn.ensemble import GradientBoostingClassifier\n",
    "\n",
    "clf = GradientBoostingClassifier(\n",
    "    n_estimators=100, \n",
    "    learning_rate=1.0,\n",
    "    random_state=0)\n",
    "\n",
    "clf.fit(X_train.to_list(), y_train.to_list())\n",
    "\n",
    "\n",
    "test_pred = clf.predict(X_test.to_list())\n",
    "results.append(\n",
    "                classification_report(\n",
    "                      y_test.to_list(), \n",
    "                      test_pred,\n",
    "                      output_dict=True)\n",
    ")\n",
    "\n",
    "print('------------------- Embedding results ------------------')\n",
    "print(results[-1]['0'])\n",
    "print(results[-1]['1'])\n",
    "\n",
    "np.save(resultspath, results)"
   ]
  },
  {
   "cell_type": "code",
   "execution_count": null,
   "id": "2129e75b",
   "metadata": {},
   "outputs": [],
   "source": [
    "from sklearn.metrics import confusion_matrix\n",
    "from sklearn.metrics import classification_report\n",
    "from sklearn.ensemble import GradientBoostingClassifier\n",
    "\n",
    "\n",
    "results = []\n",
    "for i in range(100):\n",
    "    X_train_i = get_batch(X_train, i)\n",
    "    clf = GradientBoostingClassifier(\n",
    "        n_estimators=100, \n",
    "        learning_rate=1.0,\n",
    "        random_state=0)\n",
    "    \n",
    "    clf.fit(X_train_i, y_train.to_list())\n",
    "\n",
    "    \n",
    "    X_test_i = get_batch(X_test, i)\n",
    "    \n",
    "    test_pred = clf.predict(X_test_i)\n",
    "    results.append(\n",
    "                    classification_report(\n",
    "                          y_test.to_list(), \n",
    "                          test_pred,\n",
    "                          output_dict=True)\n",
    "    )\n",
    "    \n",
    "    print('------------------- Embedding {i} results ------------------'.format(i=i))\n",
    "    print(results[-1]['0'])\n",
    "    print(results[-1]['1'])\n",
    "\n",
    "\n",
    "np.save(resultspath, results)"
   ]
  },
  {
   "cell_type": "code",
   "execution_count": null,
   "id": "9868682c",
   "metadata": {},
   "outputs": [],
   "source": [
    "# for the flattened version\n",
    "# of the embeddings\n",
    "clf = LogisticRegression(\n",
    "    max_iter=2000,\n",
    "    verbose=1\n",
    "\n",
    ")\n",
    "\n",
    "clf.fit(X_train.to_list(), y_train.to_list())\n",
    "\n",
    "test_pred = clf.predict(X_test.to_list())\n",
    "results.append(\n",
    "                classification_report(\n",
    "                      y_test.to_list(), \n",
    "                      test_pred,\n",
    "                      output_dict=True)\n",
    ")\n",
    "\n",
    "\n",
    "print('---------------------- Embedding results ----------------------')\n",
    "print(results[-1]['0'])\n",
    "print(results[-1]['1'])"
   ]
  },
  {
   "cell_type": "code",
   "execution_count": null,
   "id": "fec59036",
   "metadata": {},
   "outputs": [],
   "source": [
    "from sklearn.metrics import confusion_matrix\n",
    "from sklearn.metrics import classification_report\n",
    "\n",
    "results = []\n",
    "for i in range(100):\n",
    "#     X_train_i = get_batch(X_train, i)\n",
    "    clf = LogisticRegression(\n",
    "        max_iter=500,\n",
    "        verbose=51\n",
    "                            \n",
    "    )\n",
    "    \n",
    "    clf.fit(X_train.to_list(), y_train.to_list())\n",
    "\n",
    "    \n",
    "#     X_test_i = get_batch(X_test, i)\n",
    "    \n",
    "    test_pred = clf.predict(X_test.to_list())\n",
    "    results.append(\n",
    "                    classification_report(\n",
    "                          y_test.to_list(), \n",
    "                          test_pred,\n",
    "                          output_dict=True)\n",
    "    )\n",
    "\n",
    "\n",
    "    print('------------------- Embedding {i} results ------------------'.format(i=i))\n",
    "    print(results[-1]['0'])\n",
    "    print(results[-1]['1'])\n",
    "\n",
    "\n",
    "np.save(resultspath, results)"
   ]
  },
  {
   "cell_type": "code",
   "execution_count": null,
   "id": "3634fe3d",
   "metadata": {},
   "outputs": [],
   "source": [
    "from sklearn.metrics import confusion_matrix\n",
    "from sklearn.metrics import classification_report\n",
    "from sklearn.ensemble import GradientBoostingClassifier\n",
    "\n",
    "results = []\n",
    "for i in range(100):\n",
    "    X_train_i = get_batch(X_train, i)\n",
    "    clf = GradientBoostingClassifier(\n",
    "        n_estimators=100, \n",
    "        learning_rate=1.0,\n",
    "        random_state=0)\n",
    "    \n",
    "    clf.fit(X_train_i, y_train.to_list())\n",
    "\n",
    "    \n",
    "    X_test_i = get_batch(X_test, i)\n",
    "    \n",
    "    test_pred = clf.predict(X_test_i)\n",
    "    results.append(\n",
    "                    classification_report(\n",
    "                          y_test.to_list(), \n",
    "                          test_pred,\n",
    "                          output_dict=True)\n",
    "    )\n",
    "    \n",
    "    print('------------------- Embedding {i} results ------------------'.format(i=i))\n",
    "    print(results[-1]['0'])\n",
    "    print(results[-1]['1'])\n",
    "\n",
    "\n",
    "np.save(resultspath, results)"
   ]
  },
  {
   "cell_type": "code",
   "execution_count": null,
   "id": "49021d41",
   "metadata": {},
   "outputs": [],
   "source": [
    "# clf = LogisticRegression(random_state=42,\n",
    "#                          max_iter=500,\n",
    "#                          penalty=None\n",
    "#                         )\n",
    "\n",
    "# clf.fit(X_train.to_list(), y_train.to_list())\n",
    "\n",
    "# from sklearn.metrics import confusion_matrix\n",
    "# from sklearn.metrics import classification_report\n",
    "\n",
    "# train_pred = clf.predict(X_train.to_list())\n",
    "# test_pred = clf.predict(X_test.to_list())\n",
    "# print(\n",
    "#     confusion_matrix(y_train.to_list(), train_pred),\n",
    "#     confusion_matrix(y_test.to_list(), test_pred),\n",
    "#     classification_report(y_test.to_list(), test_pred)\n",
    "# )"
   ]
  }
 ],
 "metadata": {
  "kernelspec": {
   "display_name": "Python 3 (ipykernel)",
   "language": "python",
   "name": "python3"
  },
  "language_info": {
   "codemirror_mode": {
    "name": "ipython",
    "version": 3
   },
   "file_extension": ".py",
   "mimetype": "text/x-python",
   "name": "python",
   "nbconvert_exporter": "python",
   "pygments_lexer": "ipython3",
   "version": "3.9.0"
  }
 },
 "nbformat": 4,
 "nbformat_minor": 5
}
