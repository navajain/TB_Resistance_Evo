{
 "cells": [
  {
   "cell_type": "markdown",
   "id": "c38d2835",
   "metadata": {},
   "source": [
    "## Figure: Standard deviation of log-likelihoods"
   ]
  },
  {
   "cell_type": "code",
   "execution_count": 37,
   "id": "37455a7b",
   "metadata": {},
   "outputs": [],
   "source": [
    "import numpy as np\n",
    "import pandas as pd\n",
    "import matplotlib.pyplot as plt\n",
    "import seaborn as sns\n",
    "\n",
    "from tqdm import tqdm\n",
    "\n",
    "basedir = '/scratch/users/benson97'\n",
    "seqs = np.load(basedir + '/rif_seqs.npy')\n",
    "uniqueids = np.load(basedir + '/rif_unique_ids.npy')\n",
    "labels = pd.read_csv(basedir + '/rif_labels.csv')\n",
    "\n",
    "temp = pd.concat([\n",
    "    pd.DataFrame({'UNIQUEID': uniqueids}),\n",
    "    pd.DataFrame({'SEQ': seqs})\n",
    "], axis=1)\n",
    "\n",
    "df = pd.merge(labels, temp, on='UNIQUEID', how='left')\n",
    "\n",
    "log_probs = []\n",
    "for row in np.load(basedir + '/rif_log_prob_0_500.npy'):\n",
    "    log_probs.append(row[0])\n",
    "    \n",
    "df = pd.concat(\n",
    "    [df, pd.DataFrame({'LOGPROB':log_probs})],\n",
    "    axis=1\n",
    ")\n",
    "\n",
    "# split our data into two sub-groups\n",
    "res_df = df[df.RIF_BINARY_PHENOTYPE == 'R']\n",
    "sus_df = df[df.RIF_BINARY_PHENOTYPE == 'S']\n",
    "\n",
    "# calculate the std of each sub-embedding\n",
    "logprob_res = np.std(res_df['LOGPROB'].to_list(), axis=0)\n",
    "logprob_sus = np.std(sus_df['LOGPROB'].to_list(), axis=0)"
   ]
  },
  {
   "cell_type": "code",
   "execution_count": 49,
   "id": "89844cf1",
   "metadata": {},
   "outputs": [
    {
     "data": {
      "image/png": "[encoded data removed]",
      "text/plain": [
       "<Figure size 432x288 with 1 Axes>"
      ]
     },
     "metadata": {
      "needs_background": "light"
     },
     "output_type": "display_data"
    }
   ],
   "source": [
    "tempR = pd.DataFrame(\n",
    "    {\n",
    "        'log likelihood': logprob_res,\n",
    "        'RIF status': ['Resistant' for _ in range(len(logprob_res))]\n",
    "    }\n",
    ")\n",
    "\n",
    "tempS = pd.DataFrame(\n",
    "    {\n",
    "        'log likelihood': logprob_sus,\n",
    "        'RIF status': ['Susceptible' for _ in range(len(logprob_sus))]\n",
    "    }\n",
    ")\n",
    "\n",
    "df_viz = (\n",
    "        pd.concat([tempR, tempS],axis=0)\n",
    "            .reset_index()\n",
    "            .rename(columns={'index':'sub-embedding #'})\n",
    ")\n",
    "\n",
    "sns.scatterplot(data=df_viz, \n",
    "                x='sub-embedding #', \n",
    "                y='log likelihood', \n",
    "                hue='RIF status',\n",
    "                palette='deep',\n",
    "                edgecolor='none'\n",
    ")\n",
    "\n",
    "plt.savefig('figure_loglikelihood_std.png', dpi=1000)"
   ]
  },
  {
   "cell_type": "markdown",
   "id": "bb14a149",
   "metadata": {},
   "source": [
    "# Old code below"
   ]
  },
  {
   "cell_type": "code",
   "execution_count": null,
   "id": "99e9b045",
   "metadata": {},
   "outputs": [],
   "source": []
  },
  {
   "cell_type": "code",
   "execution_count": 1,
   "id": "846f2680",
   "metadata": {},
   "outputs": [
    {
     "name": "stdout",
     "output_type": "stream",
     "text": [
      "Defaulting to user installation because normal site-packages is not writeable\n",
      "Requirement already satisfied: umap-learn in /home/users/benson97/.local/lib/python3.9/site-packages (0.5.6)\n",
      "Requirement already satisfied: numpy>=1.17 in /home/users/benson97/.local/lib/python3.9/site-packages (from umap-learn) (1.26.4)\n",
      "Requirement already satisfied: scipy>=1.3.1 in /home/users/benson97/.local/lib/python3.9/site-packages (from umap-learn) (1.13.1)\n",
      "Requirement already satisfied: scikit-learn>=0.22 in /home/users/benson97/.local/lib/python3.9/site-packages (from umap-learn) (1.5.0)\n",
      "Requirement already satisfied: numba>=0.51.2 in /home/users/benson97/.local/lib/python3.9/site-packages (from umap-learn) (0.59.1)\n",
      "Requirement already satisfied: pynndescent>=0.5 in /home/users/benson97/.local/lib/python3.9/site-packages (from umap-learn) (0.5.12)\n",
      "Requirement already satisfied: tqdm in /home/users/benson97/.local/lib/python3.9/site-packages (from umap-learn) (4.66.2)\n",
      "Requirement already satisfied: llvmlite<0.43,>=0.42.0dev0 in /home/users/benson97/.local/lib/python3.9/site-packages (from numba>=0.51.2->umap-learn) (0.42.0)\n",
      "Requirement already satisfied: joblib>=0.11 in /home/users/benson97/.local/lib/python3.9/site-packages (from pynndescent>=0.5->umap-learn) (1.4.2)\n",
      "Requirement already satisfied: threadpoolctl>=3.1.0 in /home/users/benson97/.local/lib/python3.9/site-packages (from scikit-learn>=0.22->umap-learn) (3.5.0)\n"
     ]
    }
   ],
   "source": [
    "!pip install umap-learn"
   ]
  },
  {
   "cell_type": "code",
   "execution_count": 1,
   "id": "81c2922d",
   "metadata": {},
   "outputs": [],
   "source": [
    "import numpy as np\n",
    "import pandas as pd\n",
    "import umap\n",
    "\n",
    "from tqdm import tqdm"
   ]
  },
  {
   "cell_type": "code",
   "execution_count": 31,
   "id": "fc107cb5",
   "metadata": {},
   "outputs": [],
   "source": [
    "basedir = '/scratch/users/benson97'\n",
    "seqs = np.load(basedir + '/rif_seqs.npy')\n",
    "uniqueids = np.load(basedir + '/rif_unique_ids.npy')\n",
    "labels = pd.read_csv(basedir + '/rif_labels.csv')"
   ]
  },
  {
   "cell_type": "code",
   "execution_count": 32,
   "id": "e483caed",
   "metadata": {},
   "outputs": [],
   "source": [
    "temp = pd.concat([\n",
    "    pd.DataFrame({'UNIQUEID': uniqueids}),\n",
    "    pd.DataFrame({'SEQ': seqs})\n",
    "], axis=1)\n",
    "\n",
    "df = pd.merge(labels, temp, on='UNIQUEID', how='left')"
   ]
  },
  {
   "cell_type": "code",
   "execution_count": 34,
   "id": "a78df23e",
   "metadata": {},
   "outputs": [],
   "source": [
    "seqs = seqs[1074:]\n",
    "uniqueids = uniqueids[1074:]"
   ]
  },
  {
   "cell_type": "code",
   "execution_count": 35,
   "id": "34b1be45",
   "metadata": {},
   "outputs": [
    {
     "name": "stdout",
     "output_type": "stream",
     "text": [
      "[3248, 3357, 3613, 6180, 8392, 8677]\n"
     ]
    }
   ],
   "source": [
    "\"\"\"\n",
    "    Only samples [4322, 4431, 4687, 7254, 9466, 9751]\n",
    "    do not share the same last 10 characters (with every\n",
    "    other sample.)\n",
    "\"\"\"\n",
    "\n",
    "end_seq = seqs[0][-10:]\n",
    "check = []\n",
    "for i, seq in enumerate(seqs):\n",
    "    if seq[-10:] != end_seq:\n",
    "        check.append(i)\n",
    "print(check)"
   ]
  },
  {
   "cell_type": "code",
   "execution_count": 36,
   "id": "71a4a179",
   "metadata": {},
   "outputs": [
    {
     "name": "stderr",
     "output_type": "stream",
     "text": [
      "100%|██████████| 500/500 [00:06<00:00, 75.30it/s]\n"
     ]
    }
   ],
   "source": [
    "seq_len = len(seqs[0]) # should be 500\n",
    "check = []\n",
    "for i in tqdm(range(seq_len)):\n",
    "    seen = set()\n",
    "    for j in range(len(seqs)):\n",
    "        seen.add(seqs[j][i])\n",
    "    check.append(len(seen))\n",
    "check = np.array(check)"
   ]
  },
  {
   "cell_type": "code",
   "execution_count": 37,
   "id": "dfd3d5b2",
   "metadata": {},
   "outputs": [
    {
     "name": "stderr",
     "output_type": "stream",
     "text": [
      "100%|██████████| 90/90 [00:01<00:00, 58.97it/s]\n"
     ]
    }
   ],
   "source": [
    "from collections import Counter\n",
    "indices = np.nonzero(check > 1)[0]\n",
    "counters = []\n",
    "for i in tqdm(indices):\n",
    "    c = Counter()\n",
    "    for j in range(len(seqs)):\n",
    "        c[seqs[j][i]] += 1\n",
    "    counters.append(c)"
   ]
  },
  {
   "cell_type": "code",
   "execution_count": 40,
   "id": "cb35ed3b",
   "metadata": {},
   "outputs": [
    {
     "name": "stdout",
     "output_type": "stream",
     "text": [
      "[(325, Counter({'T': 11069, 'C': 105, 'G': 11})), (330, Counter({'C': 11170, 'A': 14, 'G': 1})), (331, Counter({'A': 11155, 'C': 16, 'T': 14})), (335, Counter({'C': 11172, 'T': 13})), (339, Counter({'G': 11025, 'T': 157, 'C': 3})), (340, Counter({'A': 10584, 'T': 564, 'G': 35, 'C': 2})), (369, Counter({'C': 10757, 'G': 206, 'T': 168, 'A': 54})), (370, Counter({'A': 11039, 'T': 74, 'G': 57, 'C': 15})), (385, Counter({'C': 8157, 'T': 2965, 'G': 61, 'X': 1, 'A': 1})), (386, Counter({'G': 11144, 'C': 24, 'T': 17})), (391, Counter({'T': 11061, 'C': 123, 'A': 1}))]\n"
     ]
    }
   ],
   "source": [
    "maf_count_cutoff = 10\n",
    "\n",
    "high_maf = []\n",
    "for i in range(len(counters)):\n",
    "    c = counters[i]\n",
    "    if c.most_common()[::-1][-2][1] > maf_count_cutoff:\n",
    "        high_maf.append((indices[i], c))\n",
    "print(high_maf)"
   ]
  },
  {
   "cell_type": "code",
   "execution_count": 43,
   "id": "504f5af9",
   "metadata": {},
   "outputs": [
    {
     "name": "stdout",
     "output_type": "stream",
     "text": [
      "0.010371032632990612 0.053732677693339295 0.03835493965131873 0.27071971390254806\n"
     ]
    }
   ],
   "source": [
    "print(\n",
    "    116/len(uniqueids),\n",
    "    (564 + 35 + 2)/len(uniqueids),\n",
    "    (206 + 169 + 54)/len(uniqueids),\n",
    "    (2965 + 61 + 2)/len(uniqueids)\n",
    ")"
   ]
  },
  {
   "cell_type": "code",
   "execution_count": 44,
   "id": "5f63a432",
   "metadata": {},
   "outputs": [
    {
     "name": "stdout",
     "output_type": "stream",
     "text": [
      "0.0195712954333644 0.0391425908667288 0.0260950605778192 0.13513513513513514\n"
     ]
    }
   ],
   "source": [
    "print(\n",
    "    21/1073,\n",
    "    42/1073,\n",
    "    28/1073,\n",
    "    145/1073\n",
    ")"
   ]
  },
  {
   "cell_type": "code",
   "execution_count": 39,
   "id": "753e768a",
   "metadata": {},
   "outputs": [
    {
     "name": "stdout",
     "output_type": "stream",
     "text": [
      "[(325, Counter({'T': 11069, 'C': 105, 'G': 11})), (330, Counter({'C': 11170, 'A': 14, 'G': 1})), (331, Counter({'A': 11155, 'C': 16, 'T': 14})), (335, Counter({'C': 11172, 'T': 13})), (339, Counter({'G': 11025, 'T': 157, 'C': 3})), (340, Counter({'A': 10584, 'T': 564, 'G': 35, 'C': 2})), (369, Counter({'C': 10757, 'G': 206, 'T': 168, 'A': 54})), (370, Counter({'A': 11039, 'T': 74, 'G': 57, 'C': 15})), (385, Counter({'C': 8157, 'T': 2965, 'G': 61, 'X': 1, 'A': 1})), (386, Counter({'G': 11144, 'C': 24, 'T': 17})), (391, Counter({'T': 11061, 'C': 123, 'A': 1}))]\n"
     ]
    }
   ],
   "source": [
    "print(high_maf)"
   ]
  },
  {
   "cell_type": "code",
   "execution_count": null,
   "id": "f9a93bdf",
   "metadata": {},
   "outputs": [],
   "source": [
    "# [(325, Counter({'T': 1053, 'C': 21})),\n",
    "#  (340, Counter({'A': 1032, 'G': 26, 'T': 13, 'C': 3})),\n",
    "#  (369, Counter({'C': 1046, 'T': 16, 'G': 10, 'A': 2})),\n",
    "#  (385, Counter({'C': 929, 'T': 145}))]"
   ]
  },
  {
   "cell_type": "code",
   "execution_count": 30,
   "id": "5eb5d44b",
   "metadata": {},
   "outputs": [
    {
     "data": {
      "text/plain": [
       "[(325, Counter({'T': 1053, 'C': 21})),\n",
       " (340, Counter({'A': 1032, 'G': 26, 'T': 13, 'C': 3})),\n",
       " (369, Counter({'C': 1046, 'T': 16, 'G': 10, 'A': 2})),\n",
       " (385, Counter({'C': 929, 'T': 145}))]"
      ]
     },
     "execution_count": 30,
     "metadata": {},
     "output_type": "execute_result"
    }
   ],
   "source": [
    "high_maf"
   ]
  },
  {
   "cell_type": "code",
   "execution_count": 51,
   "id": "08e2ebac",
   "metadata": {},
   "outputs": [],
   "source": [
    "feature_set = []\n",
    "for pair in high_maf:\n",
    "    feature_set.append(\n",
    "        (\n",
    "           pair[0],\n",
    "           pair[1].most_common()[::-1][-1][0]\n",
    "        )\n",
    "    )"
   ]
  },
  {
   "cell_type": "code",
   "execution_count": null,
   "id": "e1f219bf",
   "metadata": {},
   "outputs": [],
   "source": [
    "# [(325, Counter({'T': 12122, 'C': 126, 'G': 11})),\n",
    "#  (330, Counter({'C': 12244, 'A': 14, 'G': 1})),\n",
    "#  (331, Counter({'A': 12228, 'C': 17, 'T': 14})),\n",
    "#  (335, Counter({'C': 12246, 'T': 13})),\n",
    "#  (339, Counter({'G': 12092, 'T': 164, 'C': 3})),\n",
    "#  (340, Counter({'A': 11616, 'G': 61, 'T': 577, 'C': 5})),\n",
    "#  (358, Counter({'C': 12245, 'T': 11, 'A': 2, 'G': 1})),\n",
    "#  (369, Counter({'C': 11803, 'T': 184, 'G': 216, 'A': 56})),\n",
    "#  (370, Counter({'A': 12105, 'G': 61, 'T': 78, 'C': 15})),\n",
    "#  (385, Counter({'C': 9086, 'T': 3110, 'G': 61, 'X': 1, 'A': 1})),\n",
    "#  (386, Counter({'G': 12217, 'C': 25, 'T': 17})),\n",
    "#  (391, Counter({'T': 12127, 'C': 131, 'A': 1})),\n",
    "#  (474, Counter({'A': 12248, 'G': 11}))]"
   ]
  },
  {
   "cell_type": "code",
   "execution_count": 52,
   "id": "b669517b",
   "metadata": {},
   "outputs": [
    {
     "data": {
      "text/plain": [
       "[(325, Counter({'T': 12122, 'C': 126, 'G': 11})),\n",
       " (330, Counter({'C': 12244, 'A': 14, 'G': 1})),\n",
       " (331, Counter({'A': 12228, 'C': 17, 'T': 14})),\n",
       " (335, Counter({'C': 12246, 'T': 13})),\n",
       " (339, Counter({'G': 12092, 'T': 164, 'C': 3})),\n",
       " (340, Counter({'A': 11616, 'G': 61, 'T': 577, 'C': 5})),\n",
       " (358, Counter({'C': 12245, 'T': 11, 'A': 2, 'G': 1})),\n",
       " (369, Counter({'C': 11803, 'T': 184, 'G': 216, 'A': 56})),\n",
       " (370, Counter({'A': 12105, 'G': 61, 'T': 78, 'C': 15})),\n",
       " (385, Counter({'C': 9086, 'T': 3110, 'G': 61, 'X': 1, 'A': 1})),\n",
       " (386, Counter({'G': 12217, 'C': 25, 'T': 17})),\n",
       " (391, Counter({'T': 12127, 'C': 131, 'A': 1})),\n",
       " (474, Counter({'A': 12248, 'G': 11}))]"
      ]
     },
     "execution_count": 52,
     "metadata": {},
     "output_type": "execute_result"
    }
   ],
   "source": [
    "high_maf"
   ]
  },
  {
   "cell_type": "code",
   "execution_count": 53,
   "id": "fea105a7",
   "metadata": {},
   "outputs": [
    {
     "name": "stderr",
     "output_type": "stream",
     "text": [
      "12072it [00:01, 6398.43it/s]\n"
     ]
    }
   ],
   "source": [
    "data = []\n",
    "for i, row in tqdm(df.iterrows()):\n",
    "    features = []\n",
    "    for pair in feature_set:\n",
    "        if row['SEQ'][int(pair[0])] == pair[1]:\n",
    "            features.append(0)\n",
    "        else:\n",
    "            features.append(1)\n",
    "    data.append(features)"
   ]
  },
  {
   "cell_type": "code",
   "execution_count": 57,
   "id": "4c26485b",
   "metadata": {},
   "outputs": [],
   "source": [
    "from sklearn.linear_model import LogisticRegression\n",
    "from sklearn.metrics import confusion_matrix, classification_report\n",
    "from sklearn.model_selection import train_test_split"
   ]
  },
  {
   "cell_type": "code",
   "execution_count": 60,
   "id": "77a44030",
   "metadata": {},
   "outputs": [
    {
     "data": {
      "text/html": [
       "<div>\n",
       "<style scoped>\n",
       "    .dataframe tbody tr th:only-of-type {\n",
       "        vertical-align: middle;\n",
       "    }\n",
       "\n",
       "    .dataframe tbody tr th {\n",
       "        vertical-align: top;\n",
       "    }\n",
       "\n",
       "    .dataframe thead th {\n",
       "        text-align: right;\n",
       "    }\n",
       "</style>\n",
       "<table border=\"1\" class=\"dataframe\">\n",
       "  <thead>\n",
       "    <tr style=\"text-align: right;\">\n",
       "      <th></th>\n",
       "      <th>UNIQUEID</th>\n",
       "      <th>RIF_BINARY_PHENOTYPE</th>\n",
       "      <th>SEQ</th>\n",
       "    </tr>\n",
       "  </thead>\n",
       "  <tbody>\n",
       "    <tr>\n",
       "      <th>0</th>\n",
       "      <td>site.02.subj.0001.lab.2014222001.iso.1</td>\n",
       "      <td>S</td>\n",
       "      <td>ATCACGTCGTCGACGCTGACCGAAGAAGACGTCGTGGCCACCATCG...</td>\n",
       "    </tr>\n",
       "    <tr>\n",
       "      <th>1</th>\n",
       "      <td>site.02.subj.0002.lab.2014222005.iso.1</td>\n",
       "      <td>S</td>\n",
       "      <td>ATCACGTCGTCGACGCTGACCGAAGAAGACGTCGTGGCCACCATCG...</td>\n",
       "    </tr>\n",
       "    <tr>\n",
       "      <th>2</th>\n",
       "      <td>site.02.subj.0004.lab.2014222010.iso.1</td>\n",
       "      <td>S</td>\n",
       "      <td>ATCACGTCGTCGACGCTGACCGAAGAAGACGTCGTGGCCACCATCG...</td>\n",
       "    </tr>\n",
       "    <tr>\n",
       "      <th>3</th>\n",
       "      <td>site.02.subj.0005.lab.2014222011.iso.1</td>\n",
       "      <td>S</td>\n",
       "      <td>ATCACGTCGTCGACGCTGACCGAAGAAGACGTCGTGGCCACCATCG...</td>\n",
       "    </tr>\n",
       "    <tr>\n",
       "      <th>4</th>\n",
       "      <td>site.02.subj.0006.lab.2014222013.iso.1</td>\n",
       "      <td>S</td>\n",
       "      <td>ATCACGTCGTCGACGCTGACCGAAGAAGACGTCGTGGCCACCATCG...</td>\n",
       "    </tr>\n",
       "    <tr>\n",
       "      <th>...</th>\n",
       "      <td>...</td>\n",
       "      <td>...</td>\n",
       "      <td>...</td>\n",
       "    </tr>\n",
       "    <tr>\n",
       "      <th>12067</th>\n",
       "      <td>site.20.subj.SCH8604398.lab.YA00134621.iso.1</td>\n",
       "      <td>S</td>\n",
       "      <td>ATCACGTCGTCGACGCTGACCGAAGAAGACGTCGTGGCCACCATCG...</td>\n",
       "    </tr>\n",
       "    <tr>\n",
       "      <th>12068</th>\n",
       "      <td>site.20.subj.SCH8604399.lab.YA00134971.iso.1</td>\n",
       "      <td>S</td>\n",
       "      <td>ATCACGTCGTCGACGCTGACCGAAGAAGACGTCGTGGCCACCATCG...</td>\n",
       "    </tr>\n",
       "    <tr>\n",
       "      <th>12069</th>\n",
       "      <td>site.20.subj.SCH8608291.lab.YA00135762.iso.1</td>\n",
       "      <td>R</td>\n",
       "      <td>ATCACGTCGTCGACGCTGACCGAAGAAGACGTCGTGGCCACCATCG...</td>\n",
       "    </tr>\n",
       "    <tr>\n",
       "      <th>12070</th>\n",
       "      <td>site.20.subj.SCH8608295.lab.YA00134623.iso.1</td>\n",
       "      <td>S</td>\n",
       "      <td>ATCACGTCGTCGACGCTGACCGAAGAAGACGTCGTGGCCACCATCG...</td>\n",
       "    </tr>\n",
       "    <tr>\n",
       "      <th>12071</th>\n",
       "      <td>site.20.subj.SCH8612323.lab.YA00134624.iso.1</td>\n",
       "      <td>S</td>\n",
       "      <td>ATCACGTCGTCGACGCTGACCGAAGAAGACGTCGTGGCCACCATCG...</td>\n",
       "    </tr>\n",
       "  </tbody>\n",
       "</table>\n",
       "<p>12072 rows × 3 columns</p>\n",
       "</div>"
      ],
      "text/plain": [
       "                                           UNIQUEID RIF_BINARY_PHENOTYPE  \\\n",
       "0            site.02.subj.0001.lab.2014222001.iso.1                    S   \n",
       "1            site.02.subj.0002.lab.2014222005.iso.1                    S   \n",
       "2            site.02.subj.0004.lab.2014222010.iso.1                    S   \n",
       "3            site.02.subj.0005.lab.2014222011.iso.1                    S   \n",
       "4            site.02.subj.0006.lab.2014222013.iso.1                    S   \n",
       "...                                             ...                  ...   \n",
       "12067  site.20.subj.SCH8604398.lab.YA00134621.iso.1                    S   \n",
       "12068  site.20.subj.SCH8604399.lab.YA00134971.iso.1                    S   \n",
       "12069  site.20.subj.SCH8608291.lab.YA00135762.iso.1                    R   \n",
       "12070  site.20.subj.SCH8608295.lab.YA00134623.iso.1                    S   \n",
       "12071  site.20.subj.SCH8612323.lab.YA00134624.iso.1                    S   \n",
       "\n",
       "                                                     SEQ  \n",
       "0      ATCACGTCGTCGACGCTGACCGAAGAAGACGTCGTGGCCACCATCG...  \n",
       "1      ATCACGTCGTCGACGCTGACCGAAGAAGACGTCGTGGCCACCATCG...  \n",
       "2      ATCACGTCGTCGACGCTGACCGAAGAAGACGTCGTGGCCACCATCG...  \n",
       "3      ATCACGTCGTCGACGCTGACCGAAGAAGACGTCGTGGCCACCATCG...  \n",
       "4      ATCACGTCGTCGACGCTGACCGAAGAAGACGTCGTGGCCACCATCG...  \n",
       "...                                                  ...  \n",
       "12067  ATCACGTCGTCGACGCTGACCGAAGAAGACGTCGTGGCCACCATCG...  \n",
       "12068  ATCACGTCGTCGACGCTGACCGAAGAAGACGTCGTGGCCACCATCG...  \n",
       "12069  ATCACGTCGTCGACGCTGACCGAAGAAGACGTCGTGGCCACCATCG...  \n",
       "12070  ATCACGTCGTCGACGCTGACCGAAGAAGACGTCGTGGCCACCATCG...  \n",
       "12071  ATCACGTCGTCGACGCTGACCGAAGAAGACGTCGTGGCCACCATCG...  \n",
       "\n",
       "[12072 rows x 3 columns]"
      ]
     },
     "execution_count": 60,
     "metadata": {},
     "output_type": "execute_result"
    }
   ],
   "source": [
    "df"
   ]
  },
  {
   "cell_type": "code",
   "execution_count": 61,
   "id": "858e51d8",
   "metadata": {},
   "outputs": [],
   "source": [
    "labels = []\n",
    "for l in df['RIF_BINARY_PHENOTYPE']:\n",
    "    if l == 'R': \n",
    "        labels.append(1)\n",
    "    else:\n",
    "        labels.append(0)"
   ]
  },
  {
   "cell_type": "code",
   "execution_count": 65,
   "id": "6417a047",
   "metadata": {},
   "outputs": [
    {
     "data": {
      "text/plain": [
       "13"
      ]
     },
     "execution_count": 65,
     "metadata": {},
     "output_type": "execute_result"
    }
   ],
   "source": [
    "len(data[0])"
   ]
  },
  {
   "cell_type": "code",
   "execution_count": 67,
   "id": "88180584",
   "metadata": {},
   "outputs": [],
   "source": [
    "X_train, X_test, y_train, y_test = train_test_split(data,\n",
    "                                                   labels,\n",
    "                                                   test_size=0.4,\n",
    "                                                   random_state=42)\n",
    "\n",
    "X_val, X_test, y_val, y_test = train_test_split(X_test, \n",
    "                                               y_test, \n",
    "                                               test_size=0.5, \n",
    "                                               random_state=42)"
   ]
  },
  {
   "cell_type": "code",
   "execution_count": 68,
   "id": "a2d89ede",
   "metadata": {},
   "outputs": [],
   "source": [
    "clf = LogisticRegression()\n",
    "clf.fit(X_train, y_train)\n",
    "\n",
    "test_pred = clf.predict(X_val)\n",
    "report = classification_report(\n",
    "                      y_val,\n",
    "                      test_pred,\n",
    "                      output_dict=True)\n"
   ]
  },
  {
   "cell_type": "code",
   "execution_count": 69,
   "id": "e3192c78",
   "metadata": {},
   "outputs": [
    {
     "data": {
      "text/plain": [
       "{'0': {'precision': 0.9582772543741588,\n",
       "  'recall': 0.9557046979865772,\n",
       "  'f1-score': 0.956989247311828,\n",
       "  'support': 1490.0},\n",
       " '1': {'precision': 0.9288793103448276,\n",
       "  'recall': 0.9329004329004329,\n",
       "  'f1-score': 0.9308855291576674,\n",
       "  'support': 924.0},\n",
       " 'accuracy': 0.9469759734879868,\n",
       " 'macro avg': {'precision': 0.9435782823594931,\n",
       "  'recall': 0.9443025654435051,\n",
       "  'f1-score': 0.9439373882347477,\n",
       "  'support': 2414.0},\n",
       " 'weighted avg': {'precision': 0.9470246859055996,\n",
       "  'recall': 0.9469759734879868,\n",
       "  'f1-score': 0.9469976004292909,\n",
       "  'support': 2414.0}}"
      ]
     },
     "execution_count": 69,
     "metadata": {},
     "output_type": "execute_result"
    }
   ],
   "source": [
    "report"
   ]
  },
  {
   "cell_type": "code",
   "execution_count": 18,
   "id": "924e07d7",
   "metadata": {},
   "outputs": [
    {
     "ename": "NameError",
     "evalue": "name 'data' is not defined",
     "output_type": "error",
     "traceback": [
      "\u001b[0;31m---------------------------------------------------------------------------\u001b[0m",
      "\u001b[0;31mNameError\u001b[0m                                 Traceback (most recent call last)",
      "\u001b[0;32m/tmp/ipykernel_7558/3133764235.py\u001b[0m in \u001b[0;36m<module>\u001b[0;34m\u001b[0m\n\u001b[1;32m      2\u001b[0m \u001b[0;32mimport\u001b[0m \u001b[0mmatplotlib\u001b[0m\u001b[0;34m.\u001b[0m\u001b[0mpyplot\u001b[0m \u001b[0;32mas\u001b[0m \u001b[0mplt\u001b[0m\u001b[0;34m\u001b[0m\u001b[0;34m\u001b[0m\u001b[0m\n\u001b[1;32m      3\u001b[0m \u001b[0;34m\u001b[0m\u001b[0m\n\u001b[0;32m----> 4\u001b[0;31m \u001b[0mX_reduced\u001b[0m \u001b[0;34m=\u001b[0m \u001b[0mPCA\u001b[0m\u001b[0;34m(\u001b[0m\u001b[0mn_components\u001b[0m\u001b[0;34m=\u001b[0m\u001b[0;36m2\u001b[0m\u001b[0;34m)\u001b[0m\u001b[0;34m.\u001b[0m\u001b[0mfit_transform\u001b[0m\u001b[0;34m(\u001b[0m\u001b[0mdata\u001b[0m\u001b[0;34m)\u001b[0m\u001b[0;34m\u001b[0m\u001b[0;34m\u001b[0m\u001b[0m\n\u001b[0m",
      "\u001b[0;31mNameError\u001b[0m: name 'data' is not defined"
     ]
    }
   ],
   "source": [
    "from sklearn.decomposition import PCA\n",
    "import matplotlib.pyplot as plt\n",
    "\n",
    "X_reduced = PCA(n_components=2).fit_transform(data)"
   ]
  },
  {
   "cell_type": "code",
   "execution_count": 12,
   "id": "4b607404",
   "metadata": {},
   "outputs": [],
   "source": [
    "import matplotlib.pyplot as plt"
   ]
  },
  {
   "cell_type": "code",
   "execution_count": 13,
   "id": "61f635ad",
   "metadata": {},
   "outputs": [],
   "source": [
    "x, y = np.split(X_reduced, 2, axis=1)\n",
    "x = x.flatten()\n",
    "y = y.flatten()"
   ]
  },
  {
   "cell_type": "code",
   "execution_count": 14,
   "id": "ba9e5e81",
   "metadata": {},
   "outputs": [
    {
     "data": {
      "text/plain": [
       "<matplotlib.collections.PathCollection at 0x7ff54e1e3f40>"
      ]
     },
     "execution_count": 14,
     "metadata": {},
     "output_type": "execute_result"
    },
    {
     "data": {
      "image/png": "[encoded data removed]",
      "text/plain": [
       "<Figure size 432x288 with 1 Axes>"
      ]
     },
     "metadata": {
      "needs_background": "light"
     },
     "output_type": "display_data"
    }
   ],
   "source": [
    "plt.scatter(x, y)"
   ]
  },
  {
   "cell_type": "code",
   "execution_count": 3,
   "id": "74093934",
   "metadata": {},
   "outputs": [],
   "source": [
    "log_probs = np.load(basedir + '/rif_log_prob_0_500.npy')"
   ]
  },
  {
   "cell_type": "code",
   "execution_count": 4,
   "id": "9c475eab",
   "metadata": {},
   "outputs": [],
   "source": [
    "data = [a[0] for a in log_probs]"
   ]
  },
  {
   "cell_type": "code",
   "execution_count": 5,
   "id": "414dcb7c",
   "metadata": {},
   "outputs": [
    {
     "data": {
      "text/plain": [
       "(500,)"
      ]
     },
     "execution_count": 5,
     "metadata": {},
     "output_type": "execute_result"
    }
   ],
   "source": [
    "data[0].shape"
   ]
  },
  {
   "cell_type": "code",
   "execution_count": 6,
   "id": "04c81f4d",
   "metadata": {},
   "outputs": [
    {
     "data": {
      "text/plain": [
       "(12072, 1, 500)"
      ]
     },
     "execution_count": 6,
     "metadata": {},
     "output_type": "execute_result"
    }
   ],
   "source": [
    "log_probs.shape"
   ]
  },
  {
   "cell_type": "code",
   "execution_count": 11,
   "id": "7ec1a574",
   "metadata": {},
   "outputs": [
    {
     "name": "stderr",
     "output_type": "stream",
     "text": [
      "100%|██████████| 500/500 [00:00<00:00, 2238.00it/s]\n"
     ]
    }
   ],
   "source": [
    "log_probs = np.load(basedir + '/rif_log_prob_0_500.npy')\n",
    "\n",
    "means = []\n",
    "stds = []\n",
    "for i in tqdm(range(500)):\n",
    "    means.append(np.mean(log_probs[:,:,i]))\n",
    "    stds.append(np.std(log_probs[:,:,i]))"
   ]
  },
  {
   "cell_type": "code",
   "execution_count": null,
   "id": "27753d88",
   "metadata": {},
   "outputs": [],
   "source": []
  },
  {
   "cell_type": "code",
   "execution_count": 10,
   "id": "627ebfb9",
   "metadata": {},
   "outputs": [],
   "source": [
    "import matplotlib.pyplot as plt"
   ]
  },
  {
   "cell_type": "code",
   "execution_count": null,
   "id": "23684fdf",
   "metadata": {},
   "outputs": [],
   "source": []
  },
  {
   "cell_type": "code",
   "execution_count": 13,
   "id": "186ee34a",
   "metadata": {},
   "outputs": [],
   "source": [
    "df = pd.concat([\n",
    "    labels,\n",
    "    pd.DataFrame({'LOGPROB':data})\n",
    "], axis=1)"
   ]
  },
  {
   "cell_type": "code",
   "execution_count": 50,
   "id": "84dcc642",
   "metadata": {},
   "outputs": [],
   "source": [
    "sus_df = df[df.RIF_BINARY_PHENOTYPE == 'S']\n",
    "res_df = df[df.RIF_BINARY_PHENOTYPE == 'R']"
   ]
  },
  {
   "cell_type": "code",
   "execution_count": 65,
   "id": "749420d9",
   "metadata": {},
   "outputs": [
    {
     "data": {
      "text/plain": [
       "(4662, 500)"
      ]
     },
     "execution_count": 65,
     "metadata": {},
     "output_type": "execute_result"
    }
   ],
   "source": [
    "log_probs = np.array(res_df['LOGPROB'].to_list())\n",
    "log_probs.shape"
   ]
  },
  {
   "cell_type": "code",
   "execution_count": 20,
   "id": "6dd726b7",
   "metadata": {},
   "outputs": [
    {
     "name": "stderr",
     "output_type": "stream",
     "text": [
      "100%|██████████| 500/500 [00:00<00:00, 2765.91it/s]\n"
     ]
    }
   ],
   "source": [
    "log_probs = np.array(df['LOGPROB'].to_list())\n",
    "means = []\n",
    "stds = []\n",
    "for i in tqdm(range(500)):\n",
    "    means.append(np.mean(log_probs[:,i]))\n",
    "    stds.append(np.std(log_probs[:,i]))"
   ]
  },
  {
   "cell_type": "code",
   "execution_count": 55,
   "id": "4da3e099",
   "metadata": {},
   "outputs": [
    {
     "name": "stderr",
     "output_type": "stream",
     "text": [
      "  0%|          | 0/500 [00:00<?, ?it/s]\n"
     ]
    },
    {
     "ename": "TypeError",
     "evalue": "list indices must be integers or slices, not tuple",
     "output_type": "error",
     "traceback": [
      "\u001b[0;31m---------------------------------------------------------------------------\u001b[0m",
      "\u001b[0;31mTypeError\u001b[0m                                 Traceback (most recent call last)",
      "\u001b[0;32m/tmp/ipykernel_7558/3307133415.py\u001b[0m in \u001b[0;36m<module>\u001b[0;34m\u001b[0m\n\u001b[1;32m      3\u001b[0m \u001b[0mstds\u001b[0m \u001b[0;34m=\u001b[0m \u001b[0;34m[\u001b[0m\u001b[0;34m]\u001b[0m\u001b[0;34m\u001b[0m\u001b[0;34m\u001b[0m\u001b[0m\n\u001b[1;32m      4\u001b[0m \u001b[0;32mfor\u001b[0m \u001b[0mi\u001b[0m \u001b[0;32min\u001b[0m \u001b[0mtqdm\u001b[0m\u001b[0;34m(\u001b[0m\u001b[0mrange\u001b[0m\u001b[0;34m(\u001b[0m\u001b[0;36m500\u001b[0m\u001b[0;34m)\u001b[0m\u001b[0;34m)\u001b[0m\u001b[0;34m:\u001b[0m\u001b[0;34m\u001b[0m\u001b[0;34m\u001b[0m\u001b[0m\n\u001b[0;32m----> 5\u001b[0;31m     \u001b[0mmeans\u001b[0m\u001b[0;34m.\u001b[0m\u001b[0mappend\u001b[0m\u001b[0;34m(\u001b[0m\u001b[0mnp\u001b[0m\u001b[0;34m.\u001b[0m\u001b[0mmean\u001b[0m\u001b[0;34m(\u001b[0m\u001b[0mlog_probs\u001b[0m\u001b[0;34m[\u001b[0m\u001b[0;34m:\u001b[0m\u001b[0;34m,\u001b[0m\u001b[0;34m:\u001b[0m\u001b[0;34m,\u001b[0m\u001b[0mi\u001b[0m\u001b[0;34m]\u001b[0m\u001b[0;34m)\u001b[0m\u001b[0;34m)\u001b[0m\u001b[0;34m\u001b[0m\u001b[0;34m\u001b[0m\u001b[0m\n\u001b[0m\u001b[1;32m      6\u001b[0m     \u001b[0mstds\u001b[0m\u001b[0;34m.\u001b[0m\u001b[0mappend\u001b[0m\u001b[0;34m(\u001b[0m\u001b[0mnp\u001b[0m\u001b[0;34m.\u001b[0m\u001b[0mstd\u001b[0m\u001b[0;34m(\u001b[0m\u001b[0mlog_probs\u001b[0m\u001b[0;34m[\u001b[0m\u001b[0;34m:\u001b[0m\u001b[0;34m,\u001b[0m\u001b[0;34m:\u001b[0m\u001b[0;34m,\u001b[0m\u001b[0mi\u001b[0m\u001b[0;34m]\u001b[0m\u001b[0;34m)\u001b[0m\u001b[0;34m)\u001b[0m\u001b[0;34m\u001b[0m\u001b[0;34m\u001b[0m\u001b[0m\n",
      "\u001b[0;31mTypeError\u001b[0m: list indices must be integers or slices, not tuple"
     ]
    }
   ],
   "source": [
    "# log_probs = sus_df['LOGPROB'].to_list()\n",
    "# means = []\n",
    "# stds = []\n",
    "# for i in tqdm(range(500)):\n",
    "#     means.append(np.mean(log_probs[:,:,i]))\n",
    "#     stds.append(np.std(log_probs[:,:,i]))"
   ]
  },
  {
   "cell_type": "code",
   "execution_count": 15,
   "id": "dade1c3c",
   "metadata": {},
   "outputs": [],
   "source": [
    "means = np.array(means)\n",
    "stds = np.array(stds)"
   ]
  },
  {
   "cell_type": "code",
   "execution_count": 4,
   "id": "65fb282b",
   "metadata": {},
   "outputs": [
    {
     "ename": "NameError",
     "evalue": "name 'labels' is not defined",
     "output_type": "error",
     "traceback": [
      "\u001b[0;31m---------------------------------------------------------------------------\u001b[0m",
      "\u001b[0;31mNameError\u001b[0m                                 Traceback (most recent call last)",
      "\u001b[0;32m/tmp/ipykernel_10142/1683308357.py\u001b[0m in \u001b[0;36m<module>\u001b[0;34m\u001b[0m\n\u001b[1;32m      3\u001b[0m \u001b[0;34m\u001b[0m\u001b[0m\n\u001b[1;32m      4\u001b[0m df = pd.concat([\n\u001b[0;32m----> 5\u001b[0;31m     \u001b[0mlabels\u001b[0m\u001b[0;34m,\u001b[0m\u001b[0;34m\u001b[0m\u001b[0;34m\u001b[0m\u001b[0m\n\u001b[0m\u001b[1;32m      6\u001b[0m     \u001b[0mpd\u001b[0m\u001b[0;34m.\u001b[0m\u001b[0mDataFrame\u001b[0m\u001b[0;34m(\u001b[0m\u001b[0;34m{\u001b[0m\u001b[0;34m'LOGPROB'\u001b[0m\u001b[0;34m:\u001b[0m\u001b[0mdata\u001b[0m\u001b[0;34m}\u001b[0m\u001b[0;34m)\u001b[0m\u001b[0;34m\u001b[0m\u001b[0;34m\u001b[0m\u001b[0m\n\u001b[1;32m      7\u001b[0m ], axis=1)\n",
      "\u001b[0;31mNameError\u001b[0m: name 'labels' is not defined"
     ]
    }
   ],
   "source": [
    "from sklearn.decomposition import PCA\n",
    "import matplotlib.pyplot as plt\n",
    "\n",
    "df = pd.concat([\n",
    "    labels,\n",
    "    pd.DataFrame({'LOGPROB':data})\n",
    "], axis=1)\n",
    "\n",
    "log_probs = np.array(df['LOGPROB'].to_list())\n",
    "\n",
    "means = []\n",
    "stds = []\n",
    "for i in tqdm(range(500)):\n",
    "    means.append(np.mean(log_probs[:,i]))\n",
    "    stds.append(np.std(log_probs[:,i]))\n",
    "\n",
    "means = np.array(means)\n",
    "stds = np.array(stds)\n",
    "\n",
    "# plt.scatter([i for i in range(500)], means)\n",
    "plt.scatter([i for i in range(500)], stds)\n",
    "# plt.scatter([i for i in range(500)], means - stds)"
   ]
  },
  {
   "cell_type": "code",
   "execution_count": null,
   "id": "ada7a114",
   "metadata": {},
   "outputs": [],
   "source": [
    "std"
   ]
  },
  {
   "cell_type": "code",
   "execution_count": 16,
   "id": "37842344",
   "metadata": {},
   "outputs": [
    {
     "ename": "ValueError",
     "evalue": "x and y must be the same size",
     "output_type": "error",
     "traceback": [
      "\u001b[0;31m---------------------------------------------------------------------------\u001b[0m",
      "\u001b[0;31mValueError\u001b[0m                                Traceback (most recent call last)",
      "\u001b[0;32m/tmp/ipykernel_20934/3416416052.py\u001b[0m in \u001b[0;36m<module>\u001b[0;34m\u001b[0m\n\u001b[0;32m----> 1\u001b[0;31m \u001b[0mplt\u001b[0m\u001b[0;34m.\u001b[0m\u001b[0mscatter\u001b[0m\u001b[0;34m(\u001b[0m\u001b[0;34m[\u001b[0m\u001b[0mi\u001b[0m \u001b[0;32mfor\u001b[0m \u001b[0mi\u001b[0m \u001b[0;32min\u001b[0m \u001b[0mrange\u001b[0m\u001b[0;34m(\u001b[0m\u001b[0;36m500\u001b[0m\u001b[0;34m)\u001b[0m\u001b[0;34m]\u001b[0m\u001b[0;34m,\u001b[0m \u001b[0mmeans\u001b[0m\u001b[0;34m)\u001b[0m\u001b[0;34m\u001b[0m\u001b[0;34m\u001b[0m\u001b[0m\n\u001b[0m\u001b[1;32m      2\u001b[0m \u001b[0mplt\u001b[0m\u001b[0;34m.\u001b[0m\u001b[0mscatter\u001b[0m\u001b[0;34m(\u001b[0m\u001b[0;34m[\u001b[0m\u001b[0mi\u001b[0m \u001b[0;32mfor\u001b[0m \u001b[0mi\u001b[0m \u001b[0;32min\u001b[0m \u001b[0mrange\u001b[0m\u001b[0;34m(\u001b[0m\u001b[0;36m500\u001b[0m\u001b[0;34m)\u001b[0m\u001b[0;34m]\u001b[0m\u001b[0;34m,\u001b[0m \u001b[0mmeans\u001b[0m \u001b[0;34m+\u001b[0m \u001b[0mstds\u001b[0m\u001b[0;34m)\u001b[0m\u001b[0;34m\u001b[0m\u001b[0;34m\u001b[0m\u001b[0m\n\u001b[1;32m      3\u001b[0m \u001b[0mplt\u001b[0m\u001b[0;34m.\u001b[0m\u001b[0mscatter\u001b[0m\u001b[0;34m(\u001b[0m\u001b[0;34m[\u001b[0m\u001b[0mi\u001b[0m \u001b[0;32mfor\u001b[0m \u001b[0mi\u001b[0m \u001b[0;32min\u001b[0m \u001b[0mrange\u001b[0m\u001b[0;34m(\u001b[0m\u001b[0;36m500\u001b[0m\u001b[0;34m)\u001b[0m\u001b[0;34m]\u001b[0m\u001b[0;34m,\u001b[0m \u001b[0mmeans\u001b[0m \u001b[0;34m-\u001b[0m \u001b[0mstds\u001b[0m\u001b[0;34m)\u001b[0m\u001b[0;34m\u001b[0m\u001b[0;34m\u001b[0m\u001b[0m\n",
      "\u001b[0;32m~/.local/lib/python3.9/site-packages/matplotlib/pyplot.py\u001b[0m in \u001b[0;36mscatter\u001b[0;34m(x, y, s, c, marker, cmap, norm, vmin, vmax, alpha, linewidths, edgecolors, plotnonfinite, data, **kwargs)\u001b[0m\n\u001b[1;32m   3697\u001b[0m     \u001b[0;34m**\u001b[0m\u001b[0mkwargs\u001b[0m\u001b[0;34m,\u001b[0m\u001b[0;34m\u001b[0m\u001b[0;34m\u001b[0m\u001b[0m\n\u001b[1;32m   3698\u001b[0m ) -> PathCollection:\n\u001b[0;32m-> 3699\u001b[0;31m     __ret = gca().scatter(\n\u001b[0m\u001b[1;32m   3700\u001b[0m         \u001b[0mx\u001b[0m\u001b[0;34m,\u001b[0m\u001b[0;34m\u001b[0m\u001b[0;34m\u001b[0m\u001b[0m\n\u001b[1;32m   3701\u001b[0m         \u001b[0my\u001b[0m\u001b[0;34m,\u001b[0m\u001b[0;34m\u001b[0m\u001b[0;34m\u001b[0m\u001b[0m\n",
      "\u001b[0;32m~/.local/lib/python3.9/site-packages/matplotlib/__init__.py\u001b[0m in \u001b[0;36minner\u001b[0;34m(ax, data, *args, **kwargs)\u001b[0m\n\u001b[1;32m   1463\u001b[0m     \u001b[0;32mdef\u001b[0m \u001b[0minner\u001b[0m\u001b[0;34m(\u001b[0m\u001b[0max\u001b[0m\u001b[0;34m,\u001b[0m \u001b[0;34m*\u001b[0m\u001b[0margs\u001b[0m\u001b[0;34m,\u001b[0m \u001b[0mdata\u001b[0m\u001b[0;34m=\u001b[0m\u001b[0;32mNone\u001b[0m\u001b[0;34m,\u001b[0m \u001b[0;34m**\u001b[0m\u001b[0mkwargs\u001b[0m\u001b[0;34m)\u001b[0m\u001b[0;34m:\u001b[0m\u001b[0;34m\u001b[0m\u001b[0;34m\u001b[0m\u001b[0m\n\u001b[1;32m   1464\u001b[0m         \u001b[0;32mif\u001b[0m \u001b[0mdata\u001b[0m \u001b[0;32mis\u001b[0m \u001b[0;32mNone\u001b[0m\u001b[0;34m:\u001b[0m\u001b[0;34m\u001b[0m\u001b[0;34m\u001b[0m\u001b[0m\n\u001b[0;32m-> 1465\u001b[0;31m             \u001b[0;32mreturn\u001b[0m \u001b[0mfunc\u001b[0m\u001b[0;34m(\u001b[0m\u001b[0max\u001b[0m\u001b[0;34m,\u001b[0m \u001b[0;34m*\u001b[0m\u001b[0mmap\u001b[0m\u001b[0;34m(\u001b[0m\u001b[0msanitize_sequence\u001b[0m\u001b[0;34m,\u001b[0m \u001b[0margs\u001b[0m\u001b[0;34m)\u001b[0m\u001b[0;34m,\u001b[0m \u001b[0;34m**\u001b[0m\u001b[0mkwargs\u001b[0m\u001b[0;34m)\u001b[0m\u001b[0;34m\u001b[0m\u001b[0;34m\u001b[0m\u001b[0m\n\u001b[0m\u001b[1;32m   1466\u001b[0m \u001b[0;34m\u001b[0m\u001b[0m\n\u001b[1;32m   1467\u001b[0m         \u001b[0mbound\u001b[0m \u001b[0;34m=\u001b[0m \u001b[0mnew_sig\u001b[0m\u001b[0;34m.\u001b[0m\u001b[0mbind\u001b[0m\u001b[0;34m(\u001b[0m\u001b[0max\u001b[0m\u001b[0;34m,\u001b[0m \u001b[0;34m*\u001b[0m\u001b[0margs\u001b[0m\u001b[0;34m,\u001b[0m \u001b[0;34m**\u001b[0m\u001b[0mkwargs\u001b[0m\u001b[0;34m)\u001b[0m\u001b[0;34m\u001b[0m\u001b[0;34m\u001b[0m\u001b[0m\n",
      "\u001b[0;32m~/.local/lib/python3.9/site-packages/matplotlib/axes/_axes.py\u001b[0m in \u001b[0;36mscatter\u001b[0;34m(self, x, y, s, c, marker, cmap, norm, vmin, vmax, alpha, linewidths, edgecolors, plotnonfinite, **kwargs)\u001b[0m\n\u001b[1;32m   4653\u001b[0m         \u001b[0my\u001b[0m \u001b[0;34m=\u001b[0m \u001b[0mnp\u001b[0m\u001b[0;34m.\u001b[0m\u001b[0mma\u001b[0m\u001b[0;34m.\u001b[0m\u001b[0mravel\u001b[0m\u001b[0;34m(\u001b[0m\u001b[0my\u001b[0m\u001b[0;34m)\u001b[0m\u001b[0;34m\u001b[0m\u001b[0;34m\u001b[0m\u001b[0m\n\u001b[1;32m   4654\u001b[0m         \u001b[0;32mif\u001b[0m \u001b[0mx\u001b[0m\u001b[0;34m.\u001b[0m\u001b[0msize\u001b[0m \u001b[0;34m!=\u001b[0m \u001b[0my\u001b[0m\u001b[0;34m.\u001b[0m\u001b[0msize\u001b[0m\u001b[0;34m:\u001b[0m\u001b[0;34m\u001b[0m\u001b[0;34m\u001b[0m\u001b[0m\n\u001b[0;32m-> 4655\u001b[0;31m             \u001b[0;32mraise\u001b[0m \u001b[0mValueError\u001b[0m\u001b[0;34m(\u001b[0m\u001b[0;34m\"x and y must be the same size\"\u001b[0m\u001b[0;34m)\u001b[0m\u001b[0;34m\u001b[0m\u001b[0;34m\u001b[0m\u001b[0m\n\u001b[0m\u001b[1;32m   4656\u001b[0m \u001b[0;34m\u001b[0m\u001b[0m\n\u001b[1;32m   4657\u001b[0m         \u001b[0;32mif\u001b[0m \u001b[0ms\u001b[0m \u001b[0;32mis\u001b[0m \u001b[0;32mNone\u001b[0m\u001b[0;34m:\u001b[0m\u001b[0;34m\u001b[0m\u001b[0;34m\u001b[0m\u001b[0m\n",
      "\u001b[0;31mValueError\u001b[0m: x and y must be the same size"
     ]
    },
    {
     "data": {
      "image/png": "[encoded data removed]",
      "text/plain": [
       "<Figure size 432x288 with 1 Axes>"
      ]
     },
     "metadata": {
      "needs_background": "light"
     },
     "output_type": "display_data"
    }
   ],
   "source": [
    "plt.scatter([i for i in range(500)], means)\n",
    "plt.scatter([i for i in range(500)], means + stds)\n",
    "plt.scatter([i for i in range(500)], means - stds)"
   ]
  },
  {
   "cell_type": "code",
   "execution_count": 26,
   "id": "0250f3f7",
   "metadata": {},
   "outputs": [
    {
     "data": {
      "text/plain": [
       "array([ 57, 132, 180, 146,  31,  19,  38, 127,  50,  34,  90,  28,   4,\n",
       "        17,   8,  14,  13,  35,  18,  52,   7,   5,  32,  25,  70,  42,\n",
       "         1,  10,  23,   9,  85, 198,  47,   0,   2,   3,  55,  37,   6,\n",
       "       177,  67,  33,  26,  16,  41,  59,  44,  43,  20,  11,  40,  22,\n",
       "       195,  76, 114,  93,  69, 162,  29, 157,  12,  24, 168,  36,  21,\n",
       "        66, 163,  15,  97,  39,  51,  88,  58,  49,  30,  48,  81, 159,\n",
       "        56,  64,  60,  65, 115,  27, 118, 183, 116,  45,  94,  46, 126,\n",
       "       141,  96, 117, 166, 190,  77, 192,  84,  87,  63, 189,  54,  75,\n",
       "       156,  68, 124,  78, 153, 174, 150,  72, 186, 105, 154,  71,  79,\n",
       "        53, 120,  91, 100, 111,  89, 145, 102,  99,  73,  61, 184,  95,\n",
       "       101,  83,  92,  80, 165,  74,  98,  86, 109,  82, 144, 147, 104,\n",
       "       103, 110, 182, 181, 129,  62, 112, 155, 121, 113, 199, 160, 137,\n",
       "       187, 161, 193, 178, 108, 164, 175, 176, 133, 171, 128, 135, 196,\n",
       "       123, 167, 107, 152, 149, 173, 143, 188, 130, 172, 194, 119, 134,\n",
       "       148, 136, 151, 179, 106, 158, 122, 197, 142, 138, 131, 170, 191,\n",
       "       139, 125, 169, 140, 185])"
      ]
     },
     "execution_count": 26,
     "metadata": {},
     "output_type": "execute_result"
    }
   ],
   "source": [
    "np.argsort(means + stds)"
   ]
  },
  {
   "cell_type": "code",
   "execution_count": 3,
   "id": "154ace73",
   "metadata": {},
   "outputs": [
    {
     "name": "stdout",
     "output_type": "stream",
     "text": [
      "1062\n"
     ]
    }
   ],
   "source": [
    "from sklearn.decomposition import PCA\n",
    "import matplotlib.pyplot as plt\n",
    "\n",
    "mypath = '/scratch/users/benson97/embeddings_rif_3/'\n",
    "resultspath = mypath + 'results/' + 'rif_predictions.npy'\n",
    "df = pd.read_csv('/scratch/users/benson97/' + 'rif_labels.csv')\n",
    "\n",
    "# modify the number of sites as \n",
    "# we upload more sites to Sherlock...\n",
    "sites = [\n",
    "    '02',\n",
    "#     '03',\n",
    "#     '04',\n",
    "#     '05',\n",
    "#     '06',\n",
    "#     '08',\n",
    "#     '10',\n",
    "#     '11',\n",
    "#     '14',\n",
    "#     '17',\n",
    "#     '20'\n",
    "]\n",
    "\n",
    "site_dfs = []\n",
    "for s in sites:\n",
    "    site_dfs.append(\n",
    "        df[df.UNIQUEID.str.contains('site.' + s)].reset_index(drop=True)\n",
    "    )\n",
    "\n",
    "df = pd.concat(site_dfs).reset_index(drop=True)\n",
    "print(len(df))"
   ]
  },
  {
   "cell_type": "code",
   "execution_count": 25,
   "id": "c2584a5b",
   "metadata": {},
   "outputs": [
    {
     "name": "stderr",
     "output_type": "stream",
     "text": [
      "100%|██████████| 1062/1062 [00:07<00:00, 137.84it/s]\n"
     ]
    }
   ],
   "source": [
    "import os\n",
    "\n",
    "def get_site(uniqueid):\n",
    "    return uniqueid.split('.')[1]\n",
    "\n",
    "X = []\n",
    "label = []\n",
    "for uniqueid in tqdm(df['UNIQUEID']):\n",
    "    if not os.path.exists(mypath + 'site_' + get_site(uniqueid) + '/' + uniqueid + '.npy'):\n",
    "        print('Oh no! ' + uniqueid + ' is missing!')\n",
    "    else:\n",
    "        X.append(\n",
    "            np.load(mypath + 'site_' + get_site(uniqueid) + '/' + uniqueid + '.npy')[3]\n",
    "        )\n",
    "#        X.append(\n",
    "#             np.load(mypath + 'site_' + get_site(uniqueid) + '/' + uniqueid + '.npy')\n",
    "#         )\n",
    "        \n",
    "X = pd.DataFrame({'EMBED':X})"
   ]
  },
  {
   "cell_type": "code",
   "execution_count": 14,
   "id": "5f67bf26",
   "metadata": {},
   "outputs": [
    {
     "data": {
      "text/html": [
       "<div>\n",
       "<style scoped>\n",
       "    .dataframe tbody tr th:only-of-type {\n",
       "        vertical-align: middle;\n",
       "    }\n",
       "\n",
       "    .dataframe tbody tr th {\n",
       "        vertical-align: top;\n",
       "    }\n",
       "\n",
       "    .dataframe thead th {\n",
       "        text-align: right;\n",
       "    }\n",
       "</style>\n",
       "<table border=\"1\" class=\"dataframe\">\n",
       "  <thead>\n",
       "    <tr style=\"text-align: right;\">\n",
       "      <th></th>\n",
       "      <th>EMBED</th>\n",
       "    </tr>\n",
       "  </thead>\n",
       "  <tbody>\n",
       "    <tr>\n",
       "      <th>0</th>\n",
       "      <td>[0.224609375, 0.14453125, 0.0186767578125, 0.0...</td>\n",
       "    </tr>\n",
       "    <tr>\n",
       "      <th>1</th>\n",
       "      <td>[0.224609375, 0.14453125, 0.0186767578125, 0.0...</td>\n",
       "    </tr>\n",
       "    <tr>\n",
       "      <th>2</th>\n",
       "      <td>[0.224609375, 0.14453125, 0.0186767578125, 0.0...</td>\n",
       "    </tr>\n",
       "    <tr>\n",
       "      <th>3</th>\n",
       "      <td>[0.224609375, 0.14453125, 0.0186767578125, 0.0...</td>\n",
       "    </tr>\n",
       "    <tr>\n",
       "      <th>4</th>\n",
       "      <td>[0.224609375, 0.14453125, 0.0186767578125, 0.0...</td>\n",
       "    </tr>\n",
       "    <tr>\n",
       "      <th>...</th>\n",
       "      <td>...</td>\n",
       "    </tr>\n",
       "    <tr>\n",
       "      <th>1057</th>\n",
       "      <td>[0.224609375, 0.142578125, 0.0181884765625, 0....</td>\n",
       "    </tr>\n",
       "    <tr>\n",
       "      <th>1058</th>\n",
       "      <td>[0.224609375, 0.14453125, 0.0186767578125, 0.0...</td>\n",
       "    </tr>\n",
       "    <tr>\n",
       "      <th>1059</th>\n",
       "      <td>[0.224609375, 0.14453125, 0.0186767578125, 0.0...</td>\n",
       "    </tr>\n",
       "    <tr>\n",
       "      <th>1060</th>\n",
       "      <td>[0.224609375, 0.14453125, 0.0186767578125, 0.0...</td>\n",
       "    </tr>\n",
       "    <tr>\n",
       "      <th>1061</th>\n",
       "      <td>[0.224609375, 0.142578125, 0.0181884765625, 0....</td>\n",
       "    </tr>\n",
       "  </tbody>\n",
       "</table>\n",
       "<p>1062 rows × 1 columns</p>\n",
       "</div>"
      ],
      "text/plain": [
       "                                                  EMBED\n",
       "0     [0.224609375, 0.14453125, 0.0186767578125, 0.0...\n",
       "1     [0.224609375, 0.14453125, 0.0186767578125, 0.0...\n",
       "2     [0.224609375, 0.14453125, 0.0186767578125, 0.0...\n",
       "3     [0.224609375, 0.14453125, 0.0186767578125, 0.0...\n",
       "4     [0.224609375, 0.14453125, 0.0186767578125, 0.0...\n",
       "...                                                 ...\n",
       "1057  [0.224609375, 0.142578125, 0.0181884765625, 0....\n",
       "1058  [0.224609375, 0.14453125, 0.0186767578125, 0.0...\n",
       "1059  [0.224609375, 0.14453125, 0.0186767578125, 0.0...\n",
       "1060  [0.224609375, 0.14453125, 0.0186767578125, 0.0...\n",
       "1061  [0.224609375, 0.142578125, 0.0181884765625, 0....\n",
       "\n",
       "[1062 rows x 1 columns]"
      ]
     },
     "execution_count": 14,
     "metadata": {},
     "output_type": "execute_result"
    }
   ],
   "source": [
    "X"
   ]
  },
  {
   "cell_type": "code",
   "execution_count": 11,
   "id": "d56c9614",
   "metadata": {},
   "outputs": [],
   "source": [
    "labels = [0 if s == 'S' else 1 for s in df['RIF_BINARY_PHENOTYPE']]"
   ]
  },
  {
   "cell_type": "code",
   "execution_count": 26,
   "id": "2b38740b",
   "metadata": {},
   "outputs": [
    {
     "data": {
      "text/plain": [
       "<matplotlib.collections.PathCollection at 0x7fd197337640>"
      ]
     },
     "execution_count": 26,
     "metadata": {},
     "output_type": "execute_result"
    },
    {
     "data": {
      "image/png": "[encoded data removed]",
      "text/plain": [
       "<Figure size 432x288 with 1 Axes>"
      ]
     },
     "metadata": {
      "needs_background": "light"
     },
     "output_type": "display_data"
    }
   ],
   "source": [
    "from sklearn.decomposition import PCA\n",
    "import matplotlib.pyplot as plt\n",
    "\n",
    "X_reduced = PCA(n_components=2).fit_transform(X['EMBED'].to_list())\n",
    "\n",
    "import matplotlib.pyplot as plt\n",
    "\n",
    "x, y = np.split(X_reduced, 2, axis=1)\n",
    "x = x.flatten()\n",
    "y = y.flatten()\n",
    "\n",
    "plt.scatter(x, y, c=labels)"
   ]
  },
  {
   "cell_type": "code",
   "execution_count": 27,
   "id": "d1f3e06a",
   "metadata": {},
   "outputs": [
    {
     "data": {
      "text/plain": [
       "<matplotlib.collections.PathCollection at 0x7fd19721f1f0>"
      ]
     },
     "execution_count": 27,
     "metadata": {},
     "output_type": "execute_result"
    },
    {
     "data": {
      "image/png": "[encoded data removed]",
      "text/plain": [
       "<Figure size 432x288 with 1 Axes>"
      ]
     },
     "metadata": {
      "needs_background": "light"
     },
     "output_type": "display_data"
    }
   ],
   "source": [
    "plt.scatter(x, y, c=labels)"
   ]
  },
  {
   "cell_type": "code",
   "execution_count": 17,
   "id": "93377fc3",
   "metadata": {},
   "outputs": [
    {
     "data": {
      "text/plain": [
       "array([[  5.57212979,   3.99582356],\n",
       "       [  5.57212979,   3.99582356],\n",
       "       [  5.57212979,   3.99582356],\n",
       "       ...,\n",
       "       [  5.57212979,   3.99582356],\n",
       "       [  5.57212979,   3.99582356],\n",
       "       [ -4.8106577 , -24.03492651]])"
      ]
     },
     "execution_count": 17,
     "metadata": {},
     "output_type": "execute_result"
    }
   ],
   "source": [
    "X_reduced"
   ]
  },
  {
   "cell_type": "code",
   "execution_count": 29,
   "id": "c9f5f68d",
   "metadata": {},
   "outputs": [],
   "source": [
    "pca = PCA(n_components=10).fit(X['EMBED'].to_list())"
   ]
  },
  {
   "cell_type": "code",
   "execution_count": 28,
   "id": "15124419",
   "metadata": {},
   "outputs": [
    {
     "data": {
      "text/plain": [
       "array([0.50451237, 0.21904293, 0.09964399, 0.04879728, 0.02528585,\n",
       "       0.02134213, 0.01680007, 0.01432614, 0.00706009, 0.0063367 ])"
      ]
     },
     "execution_count": 28,
     "metadata": {},
     "output_type": "execute_result"
    }
   ],
   "source": [
    "pca.explained_variance_ratio_"
   ]
  },
  {
   "cell_type": "code",
   "execution_count": 21,
   "id": "dcbecabf",
   "metadata": {},
   "outputs": [
    {
     "data": {
      "text/plain": [
       "{'n_components': 10,\n",
       " 'copy': True,\n",
       " 'whiten': False,\n",
       " 'svd_solver': 'auto',\n",
       " 'tol': 0.0,\n",
       " 'iterated_power': 'auto',\n",
       " 'n_oversamples': 10,\n",
       " 'power_iteration_normalizer': 'auto',\n",
       " 'random_state': None,\n",
       " 'n_features_in_': 819200,\n",
       " '_fit_svd_solver': 'randomized',\n",
       " 'mean_': array([0.22462961, 0.14409079, 0.01851216, ..., 0.44534009, 0.55307829,\n",
       "        0.27158782]),\n",
       " 'n_samples_': 1062,\n",
       " 'components_': array([[-4.81355723e-06,  2.86972050e-05,  1.30617101e-05, ...,\n",
       "          6.34191184e-04,  1.26619870e-03,  2.89801252e-04],\n",
       "        [ 1.14198032e-06,  5.70295384e-05,  1.33288321e-05, ...,\n",
       "          4.91964558e-04,  1.42629591e-03, -1.86821070e-05],\n",
       "        [-6.69280760e-06, -1.24273554e-05, -5.26642398e-06, ...,\n",
       "          2.52179619e-04, -7.37792489e-04,  3.42131891e-04],\n",
       "        ...,\n",
       "        [-1.30290422e-05, -7.66559998e-06,  5.00436996e-06, ...,\n",
       "          5.74835275e-04,  1.19147429e-05,  5.74559627e-04],\n",
       "        [-3.04232570e-05, -2.79046580e-05,  1.61464092e-05, ...,\n",
       "          9.45415547e-04,  1.13488752e-04,  9.11470868e-04],\n",
       "        [-1.21590361e-05, -1.48492947e-06,  5.40198895e-05, ...,\n",
       "          4.19511933e-04, -1.01855543e-03,  8.07061190e-04]]),\n",
       " 'n_components_': 10,\n",
       " 'explained_variance_': array([243.54773209, 105.74053603,  48.10202835,  23.55634549,\n",
       "         12.20646267,  10.30267333,   8.11004852,   6.91578546,\n",
       "          3.40817834,   3.05897122]),\n",
       " 'explained_variance_ratio_': array([0.50451237, 0.21904293, 0.09964399, 0.04879728, 0.02528585,\n",
       "        0.02134213, 0.01680007, 0.01432614, 0.00706009, 0.0063367 ]),\n",
       " 'singular_values_': array([508.33467691, 334.94881508, 225.91204502, 158.09263918,\n",
       "        113.8027104 , 104.55207506,  92.76185357,  85.66007455,\n",
       "         60.13382761,  56.96989086]),\n",
       " 'noise_variance_': 0.016910748089499366}"
      ]
     },
     "execution_count": 21,
     "metadata": {},
     "output_type": "execute_result"
    }
   ],
   "source": [
    "pca.__dict__"
   ]
  },
  {
   "cell_type": "markdown",
   "id": "329c42cf",
   "metadata": {},
   "source": [
    "# UMAP experiment"
   ]
  },
  {
   "cell_type": "code",
   "execution_count": 33,
   "id": "31b40067",
   "metadata": {},
   "outputs": [
    {
     "name": "stdout",
     "output_type": "stream",
     "text": [
      "Defaulting to user installation because normal site-packages is not writeable\n",
      "Collecting seaborn\n",
      "  Downloading seaborn-0.13.2-py3-none-any.whl.metadata (5.4 kB)\n",
      "Requirement already satisfied: numpy!=1.24.0,>=1.20 in /home/users/benson97/.local/lib/python3.9/site-packages (from seaborn) (1.26.4)\n",
      "Requirement already satisfied: pandas>=1.2 in /home/users/benson97/.local/lib/python3.9/site-packages (from seaborn) (2.2.2)\n",
      "Requirement already satisfied: matplotlib!=3.6.1,>=3.4 in /home/users/benson97/.local/lib/python3.9/site-packages (from seaborn) (3.8.4)\n",
      "Requirement already satisfied: contourpy>=1.0.1 in /home/users/benson97/.local/lib/python3.9/site-packages (from matplotlib!=3.6.1,>=3.4->seaborn) (1.2.1)\n",
      "Requirement already satisfied: cycler>=0.10 in /home/users/benson97/.local/lib/python3.9/site-packages (from matplotlib!=3.6.1,>=3.4->seaborn) (0.12.1)\n",
      "Requirement already satisfied: fonttools>=4.22.0 in /home/users/benson97/.local/lib/python3.9/site-packages (from matplotlib!=3.6.1,>=3.4->seaborn) (4.51.0)\n",
      "Requirement already satisfied: kiwisolver>=1.3.1 in /home/users/benson97/.local/lib/python3.9/site-packages (from matplotlib!=3.6.1,>=3.4->seaborn) (1.4.5)\n",
      "Requirement already satisfied: packaging>=20.0 in /share/software/user/open/py-jupyter/1.0.0_py39/lib/python3.9/site-packages (from matplotlib!=3.6.1,>=3.4->seaborn) (21.0)\n",
      "Requirement already satisfied: pillow>=8 in /home/users/benson97/.local/lib/python3.9/site-packages (from matplotlib!=3.6.1,>=3.4->seaborn) (10.3.0)\n",
      "Requirement already satisfied: pyparsing>=2.3.1 in /share/software/user/open/py-jupyter/1.0.0_py39/lib/python3.9/site-packages (from matplotlib!=3.6.1,>=3.4->seaborn) (2.4.7)\n",
      "Requirement already satisfied: python-dateutil>=2.7 in /share/software/user/open/py-jupyter/1.0.0_py39/lib/python3.9/site-packages (from matplotlib!=3.6.1,>=3.4->seaborn) (2.8.2)\n",
      "Requirement already satisfied: importlib-resources>=3.2.0 in /home/users/benson97/.local/lib/python3.9/site-packages (from matplotlib!=3.6.1,>=3.4->seaborn) (6.4.0)\n",
      "Requirement already satisfied: pytz>=2020.1 in /home/users/benson97/.local/lib/python3.9/site-packages (from pandas>=1.2->seaborn) (2024.1)\n",
      "Requirement already satisfied: tzdata>=2022.7 in /home/users/benson97/.local/lib/python3.9/site-packages (from pandas>=1.2->seaborn) (2024.1)\n",
      "Requirement already satisfied: zipp>=3.1.0 in /home/users/benson97/.local/lib/python3.9/site-packages (from importlib-resources>=3.2.0->matplotlib!=3.6.1,>=3.4->seaborn) (3.18.1)\n",
      "Requirement already satisfied: six>=1.5 in /share/software/user/open/py-jupyter/1.0.0_py39/lib/python3.9/site-packages (from python-dateutil>=2.7->matplotlib!=3.6.1,>=3.4->seaborn) (1.16.0)\n",
      "Downloading seaborn-0.13.2-py3-none-any.whl (294 kB)\n",
      "\u001b[2K   \u001b[90m━━━━━━━━━━━━━━━━━━━━━━━━━━━━━━━━━━━━━━━━\u001b[0m \u001b[32m294.9/294.9 kB\u001b[0m \u001b[31m5.3 MB/s\u001b[0m eta \u001b[36m0:00:00\u001b[0mta \u001b[36m0:00:01\u001b[0m\n",
      "\u001b[?25hInstalling collected packages: seaborn\n",
      "Successfully installed seaborn-0.13.2\n"
     ]
    }
   ],
   "source": [
    "!pip install seaborn"
   ]
  },
  {
   "cell_type": "code",
   "execution_count": 11,
   "id": "c9107952",
   "metadata": {},
   "outputs": [
    {
     "name": "stdout",
     "output_type": "stream",
     "text": [
      "Defaulting to user installation because normal site-packages is not writeable\n",
      "Requirement already satisfied: scikit-learn in /home/users/benson97/.local/lib/python3.9/site-packages (1.5.0)\n",
      "Requirement already satisfied: numpy>=1.19.5 in /home/users/benson97/.local/lib/python3.9/site-packages (from scikit-learn) (1.26.4)\n",
      "Requirement already satisfied: scipy>=1.6.0 in /home/users/benson97/.local/lib/python3.9/site-packages (from scikit-learn) (1.13.1)\n",
      "Requirement already satisfied: joblib>=1.2.0 in /home/users/benson97/.local/lib/python3.9/site-packages (from scikit-learn) (1.4.2)\n",
      "Requirement already satisfied: threadpoolctl>=3.1.0 in /home/users/benson97/.local/lib/python3.9/site-packages (from scikit-learn) (3.5.0)\n"
     ]
    }
   ],
   "source": [
    "!pip install scikit-learn\n",
    "!pip install seaborn"
   ]
  },
  {
   "cell_type": "code",
   "execution_count": 50,
   "id": "2f557fe2",
   "metadata": {},
   "outputs": [],
   "source": [
    "import umap\n",
    "import os\n",
    "\n",
    "import matplotlib.pyplot as plt\n",
    "import numpy as np\n",
    "import pandas as pd\n",
    "import seaborn as sns\n",
    "\n",
    "from sklearn.preprocessing import StandardScaler\n",
    "from tqdm import tqdm\n",
    "\n",
    "mypath = '/scratch/users/benson97/embeddings_rif/'\n",
    "df = pd.read_csv('/scratch/users/benson97/' + 'rif_labels.csv')"
   ]
  },
  {
   "cell_type": "code",
   "execution_count": 5,
   "id": "a979e5a4",
   "metadata": {},
   "outputs": [
    {
     "name": "stderr",
     "output_type": "stream",
     "text": [
      "100%|██████████| 12072/12072 [08:34<00:00, 23.47it/s]\n"
     ]
    }
   ],
   "source": [
    "import os\n",
    "\n",
    "def get_site(uniqueid):\n",
    "    return uniqueid.split('.')[1]\n",
    "\n",
    "X = []\n",
    "label = []\n",
    "for uniqueid in tqdm(df['UNIQUEID']):\n",
    "    if not os.path.exists(mypath + 'site_' + get_site(uniqueid) + '/' + uniqueid + '.npy'):\n",
    "        print('Oh no! ' + uniqueid + ' is missing!')\n",
    "    else:\n",
    "        X.append(\n",
    "            np.load(mypath + 'site_' + get_site(uniqueid) + '/' + uniqueid + '.npy')[249]\n",
    "        )\n",
    "        \n",
    "X = pd.DataFrame({'EMBED':X})"
   ]
  },
  {
   "cell_type": "code",
   "execution_count": 51,
   "id": "1a0ce1bc",
   "metadata": {},
   "outputs": [
    {
     "ename": "NameError",
     "evalue": "name 'scaled_data' is not defined",
     "output_type": "error",
     "traceback": [
      "\u001b[0;31m---------------------------------------------------------------------------\u001b[0m",
      "\u001b[0;31mNameError\u001b[0m                                 Traceback (most recent call last)",
      "\u001b[0;32m/tmp/ipykernel_8098/3183063411.py\u001b[0m in \u001b[0;36m<module>\u001b[0;34m\u001b[0m\n\u001b[1;32m      1\u001b[0m \u001b[0mreducer\u001b[0m \u001b[0;34m=\u001b[0m \u001b[0mumap\u001b[0m\u001b[0;34m.\u001b[0m\u001b[0mUMAP\u001b[0m\u001b[0;34m(\u001b[0m\u001b[0;34m)\u001b[0m\u001b[0;34m\u001b[0m\u001b[0;34m\u001b[0m\u001b[0m\n\u001b[0;32m----> 2\u001b[0;31m \u001b[0membedding\u001b[0m \u001b[0;34m=\u001b[0m \u001b[0mreducer\u001b[0m\u001b[0;34m.\u001b[0m\u001b[0mfit_transform\u001b[0m\u001b[0;34m(\u001b[0m\u001b[0mscaled_data\u001b[0m\u001b[0;34m)\u001b[0m\u001b[0;34m\u001b[0m\u001b[0;34m\u001b[0m\u001b[0m\n\u001b[0m",
      "\u001b[0;31mNameError\u001b[0m: name 'scaled_data' is not defined"
     ]
    }
   ],
   "source": [
    "reducer = umap.UMAP()\n",
    "embedding = reducer.fit_transform(scaled_data)"
   ]
  },
  {
   "cell_type": "code",
   "execution_count": 39,
   "id": "8ca4d702",
   "metadata": {},
   "outputs": [],
   "source": [
    "location = []\n",
    "for uniqueid in df['UNIQUEID']:\n",
    "    location.append(int(uniqueid.split('.')[1]))\n",
    "df = pd.concat(\n",
    "    [df, pd.DataFrame({'SITEID':location})],\n",
    "    axis=1\n",
    ")"
   ]
  },
  {
   "cell_type": "code",
   "execution_count": 16,
   "id": "b3a7ed65",
   "metadata": {},
   "outputs": [],
   "source": [
    "embedding = reducer.fit_transform(scaled_data)"
   ]
  },
  {
   "cell_type": "code",
   "execution_count": 44,
   "id": "7879db08",
   "metadata": {},
   "outputs": [
    {
     "data": {
      "text/plain": [
       "<matplotlib.collections.PathCollection at 0x7ef5d73f78e0>"
      ]
     },
     "execution_count": 44,
     "metadata": {},
     "output_type": "execute_result"
    },
    {
     "data": {
      "image/png": "[encoded data removed]",
      "text/plain": [
       "<Figure size 432x288 with 1 Axes>"
      ]
     },
     "metadata": {
      "needs_background": "light"
     },
     "output_type": "display_data"
    }
   ],
   "source": [
    "plt.scatter(embedding[:,0], \n",
    "            embedding[:,1],\n",
    "           c=[sns.color_palette()[1] if x=='R' else sns.color_palette()[0] for x in df['RIF_BINARY_PHENOTYPE']]\n",
    "           )"
   ]
  },
  {
   "cell_type": "code",
   "execution_count": 42,
   "id": "a0ded17b",
   "metadata": {},
   "outputs": [
    {
     "data": {
      "text/plain": [
       "<matplotlib.collections.PathCollection at 0x7ef5d553d490>"
      ]
     },
     "execution_count": 42,
     "metadata": {},
     "output_type": "execute_result"
    },
    {
     "data": {
      "image/png": "[encoded data removed]",
      "text/plain": [
       "<Figure size 432x288 with 1 Axes>"
      ]
     },
     "metadata": {
      "needs_background": "light"
     },
     "output_type": "display_data"
    }
   ],
   "source": [
    "plt.scatter(embedding[:,0], \n",
    "            embedding[:,1],\n",
    "           c=[sns.color_palette(n_colors=21)[x] for x in df['SITEID']]\n",
    "           )"
   ]
  },
  {
   "cell_type": "code",
   "execution_count": null,
   "id": "9873fe5a",
   "metadata": {},
   "outputs": [],
   "source": []
  }
 ],
 "metadata": {
  "kernelspec": {
   "display_name": "Python 3 (ipykernel)",
   "language": "python",
   "name": "python3"
  },
  "language_info": {
   "codemirror_mode": {
    "name": "ipython",
    "version": 3
   },
   "file_extension": ".py",
   "mimetype": "text/x-python",
   "name": "python",
   "nbconvert_exporter": "python",
   "pygments_lexer": "ipython3",
   "version": "3.9.0"
  }
 },
 "nbformat": 4,
 "nbformat_minor": 5
}
